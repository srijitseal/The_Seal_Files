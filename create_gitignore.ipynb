{
 "cells": [
  {
   "cell_type": "code",
   "execution_count": 6,
   "id": "fd056d2b-5d8f-48b6-988a-64d503805337",
   "metadata": {},
   "outputs": [
    {
     "name": "stdout",
     "output_type": "stream",
     "text": [
      "Added 224 files larger than 12MB to .gitignore.\n"
     ]
    }
   ],
   "source": [
    "import os\n",
    "\n",
    "# Define the size limit in bytes (12MB = 12 * 1024 * 1024)\n",
    "size_limit = 12 * 1024 * 1024\n",
    "gitignore_path = \".gitignore\"\n",
    "excluded_folder = \".git\"  # Folder to exclude\n",
    "\n",
    "# Collect all files larger than the size limit\n",
    "large_files = []\n",
    "for root, dirs, files in os.walk(\".\"):\n",
    "    # Skip the .git folder and its contents\n",
    "    if excluded_folder in root.split(os.sep):\n",
    "        continue\n",
    "    for file in files:\n",
    "        file_path = os.path.join(root, file)\n",
    "        if os.path.isfile(file_path) and os.path.getsize(file_path) > size_limit:\n",
    "            # Remove the \"./\" prefix from the path\n",
    "            relative_path = os.path.relpath(file_path, \".\")\n",
    "            large_files.append(relative_path)\n",
    "\n",
    "# Clean the existing .gitignore file\n",
    "with open(gitignore_path, \"w\") as gitignore:\n",
    "    gitignore.write(\"# Automatically generated .gitignore for large files\\n\\n\")\n",
    "\n",
    "# Append the new large files to .gitignore\n",
    "with open(gitignore_path, \"a\") as gitignore:\n",
    "    for file in large_files:\n",
    "        gitignore.write(f\"{file}\\n\")\n",
    "\n",
    "print(f\"Added {len(large_files)} files larger than {size_limit // (1024 * 1024)}MB to {gitignore_path}.\")\n"
   ]
  },
  {
   "cell_type": "code",
   "execution_count": null,
   "id": "6b9fa2ff-4f68-4b5d-8862-c0e0ef85047f",
   "metadata": {},
   "outputs": [],
   "source": []
  }
 ],
 "metadata": {
  "kernelspec": {
   "display_name": "Python 3",
   "language": "python",
   "name": "python3"
  },
  "language_info": {
   "codemirror_mode": {
    "name": "ipython",
    "version": 3
   },
   "file_extension": ".py",
   "mimetype": "text/x-python",
   "name": "python",
   "nbconvert_exporter": "python",
   "pygments_lexer": "ipython3",
   "version": "3.7.16"
  }
 },
 "nbformat": 4,
 "nbformat_minor": 5
}
