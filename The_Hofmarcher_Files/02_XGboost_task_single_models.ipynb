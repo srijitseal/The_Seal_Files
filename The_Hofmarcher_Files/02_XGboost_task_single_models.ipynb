{
 "cells": [
  {
   "cell_type": "code",
   "execution_count": 57,
   "id": "b32b9bb1-89a1-46ec-ae36-b4006c60d83e",
   "metadata": {},
   "outputs": [],
   "source": [
    "import pandas as pd\n"
   ]
  },
  {
   "cell_type": "code",
   "execution_count": 58,
   "id": "ee935d9f-f790-404a-8c10-aec99ae4e30b",
   "metadata": {},
   "outputs": [
    {
     "data": {
      "text/html": [
       "<div>\n",
       "<style scoped>\n",
       "    .dataframe tbody tr th:only-of-type {\n",
       "        vertical-align: middle;\n",
       "    }\n",
       "\n",
       "    .dataframe tbody tr th {\n",
       "        vertical-align: top;\n",
       "    }\n",
       "\n",
       "    .dataframe thead th {\n",
       "        text-align: right;\n",
       "    }\n",
       "</style>\n",
       "<table border=\"1\" class=\"dataframe\">\n",
       "  <thead>\n",
       "    <tr style=\"text-align: right;\">\n",
       "      <th></th>\n",
       "      <th>INCHIKEY</th>\n",
       "      <th>1</th>\n",
       "      <th>2</th>\n",
       "      <th>3</th>\n",
       "      <th>4</th>\n",
       "      <th>5</th>\n",
       "      <th>6</th>\n",
       "      <th>7</th>\n",
       "      <th>8</th>\n",
       "      <th>9</th>\n",
       "      <th>...</th>\n",
       "      <th>Cells_Neighbors_SecondClosestObjectNumber_5</th>\n",
       "      <th>Cells_Neighbors_SecondClosestObjectNumber_Adjacent</th>\n",
       "      <th>Cells_Parent_Nuclei</th>\n",
       "      <th>Cytoplasm_Number_Object_Number</th>\n",
       "      <th>Cytoplasm_Parent_Cells</th>\n",
       "      <th>Cytoplasm_Parent_Nuclei</th>\n",
       "      <th>Nuclei_Neighbors_FirstClosestObjectNumber_1</th>\n",
       "      <th>Nuclei_Neighbors_SecondClosestObjectNumber_1</th>\n",
       "      <th>Nuclei_Number_Object_Number</th>\n",
       "      <th>InChIKey</th>\n",
       "    </tr>\n",
       "  </thead>\n",
       "  <tbody>\n",
       "    <tr>\n",
       "      <th>0</th>\n",
       "      <td>AACRWZVDRSTLKY-UHFFFAOYSA-N</td>\n",
       "      <td>-1.0</td>\n",
       "      <td>-1.0</td>\n",
       "      <td>-1.0</td>\n",
       "      <td>-1.0</td>\n",
       "      <td>-1.0</td>\n",
       "      <td>-1.0</td>\n",
       "      <td>-1.0</td>\n",
       "      <td>-1.0</td>\n",
       "      <td>-1.0</td>\n",
       "      <td>...</td>\n",
       "      <td>-0.054688</td>\n",
       "      <td>-0.054688</td>\n",
       "      <td>0.859375</td>\n",
       "      <td>0.859375</td>\n",
       "      <td>0.859375</td>\n",
       "      <td>0.859375</td>\n",
       "      <td>1.445312</td>\n",
       "      <td>1.007812</td>\n",
       "      <td>0.859375</td>\n",
       "      <td>AACRWZVDRSTLKY-UHFFFAOYSA-N</td>\n",
       "    </tr>\n",
       "    <tr>\n",
       "      <th>1</th>\n",
       "      <td>AACUKVXTFOXDGE-UHFFFAOYSA-N</td>\n",
       "      <td>-1.0</td>\n",
       "      <td>-1.0</td>\n",
       "      <td>-1.0</td>\n",
       "      <td>-1.0</td>\n",
       "      <td>-1.0</td>\n",
       "      <td>-1.0</td>\n",
       "      <td>-1.0</td>\n",
       "      <td>-1.0</td>\n",
       "      <td>-1.0</td>\n",
       "      <td>...</td>\n",
       "      <td>-1.171875</td>\n",
       "      <td>-1.171875</td>\n",
       "      <td>-1.148438</td>\n",
       "      <td>-1.148438</td>\n",
       "      <td>-1.148438</td>\n",
       "      <td>-1.148438</td>\n",
       "      <td>-1.101562</td>\n",
       "      <td>-1.453125</td>\n",
       "      <td>-1.148438</td>\n",
       "      <td>AACUKVXTFOXDGE-UHFFFAOYSA-N</td>\n",
       "    </tr>\n",
       "    <tr>\n",
       "      <th>2</th>\n",
       "      <td>AADCDMQTJNYOSS-LBPRGKRZSA-N</td>\n",
       "      <td>-1.0</td>\n",
       "      <td>-1.0</td>\n",
       "      <td>-1.0</td>\n",
       "      <td>-1.0</td>\n",
       "      <td>-1.0</td>\n",
       "      <td>-1.0</td>\n",
       "      <td>-1.0</td>\n",
       "      <td>-1.0</td>\n",
       "      <td>-1.0</td>\n",
       "      <td>...</td>\n",
       "      <td>-0.425781</td>\n",
       "      <td>-0.425781</td>\n",
       "      <td>0.453125</td>\n",
       "      <td>0.453125</td>\n",
       "      <td>0.453125</td>\n",
       "      <td>0.453125</td>\n",
       "      <td>-0.117188</td>\n",
       "      <td>-0.531250</td>\n",
       "      <td>0.453125</td>\n",
       "      <td>AADCDMQTJNYOSS-LBPRGKRZSA-N</td>\n",
       "    </tr>\n",
       "    <tr>\n",
       "      <th>3</th>\n",
       "      <td>AADORYZVGJDNSZ-UHFFFAOYSA-N</td>\n",
       "      <td>-1.0</td>\n",
       "      <td>-1.0</td>\n",
       "      <td>-1.0</td>\n",
       "      <td>-1.0</td>\n",
       "      <td>-1.0</td>\n",
       "      <td>-1.0</td>\n",
       "      <td>-1.0</td>\n",
       "      <td>-1.0</td>\n",
       "      <td>-1.0</td>\n",
       "      <td>...</td>\n",
       "      <td>1.123188</td>\n",
       "      <td>1.123188</td>\n",
       "      <td>0.521739</td>\n",
       "      <td>0.521739</td>\n",
       "      <td>0.521739</td>\n",
       "      <td>0.521739</td>\n",
       "      <td>1.536232</td>\n",
       "      <td>0.601449</td>\n",
       "      <td>0.521739</td>\n",
       "      <td>AADORYZVGJDNSZ-UHFFFAOYSA-N</td>\n",
       "    </tr>\n",
       "    <tr>\n",
       "      <th>4</th>\n",
       "      <td>AAEVYOVXGOFMJO-UHFFFAOYSA-N</td>\n",
       "      <td>-1.0</td>\n",
       "      <td>-1.0</td>\n",
       "      <td>-1.0</td>\n",
       "      <td>-1.0</td>\n",
       "      <td>-1.0</td>\n",
       "      <td>-1.0</td>\n",
       "      <td>-1.0</td>\n",
       "      <td>-1.0</td>\n",
       "      <td>-1.0</td>\n",
       "      <td>...</td>\n",
       "      <td>-6.882812</td>\n",
       "      <td>-6.882812</td>\n",
       "      <td>-7.218750</td>\n",
       "      <td>-7.218750</td>\n",
       "      <td>-7.218750</td>\n",
       "      <td>-7.218750</td>\n",
       "      <td>-7.679688</td>\n",
       "      <td>-7.773438</td>\n",
       "      <td>-7.218750</td>\n",
       "      <td>AAEVYOVXGOFMJO-UHFFFAOYSA-N</td>\n",
       "    </tr>\n",
       "    <tr>\n",
       "      <th>...</th>\n",
       "      <td>...</td>\n",
       "      <td>...</td>\n",
       "      <td>...</td>\n",
       "      <td>...</td>\n",
       "      <td>...</td>\n",
       "      <td>...</td>\n",
       "      <td>...</td>\n",
       "      <td>...</td>\n",
       "      <td>...</td>\n",
       "      <td>...</td>\n",
       "      <td>...</td>\n",
       "      <td>...</td>\n",
       "      <td>...</td>\n",
       "      <td>...</td>\n",
       "      <td>...</td>\n",
       "      <td>...</td>\n",
       "      <td>...</td>\n",
       "      <td>...</td>\n",
       "      <td>...</td>\n",
       "      <td>...</td>\n",
       "      <td>...</td>\n",
       "    </tr>\n",
       "    <tr>\n",
       "      <th>10568</th>\n",
       "      <td>ZZUCJGSOKDNIEZ-UHFFFAOYSA-N</td>\n",
       "      <td>-1.0</td>\n",
       "      <td>-1.0</td>\n",
       "      <td>-1.0</td>\n",
       "      <td>-1.0</td>\n",
       "      <td>-1.0</td>\n",
       "      <td>-1.0</td>\n",
       "      <td>-1.0</td>\n",
       "      <td>-1.0</td>\n",
       "      <td>-1.0</td>\n",
       "      <td>...</td>\n",
       "      <td>0.609375</td>\n",
       "      <td>0.609375</td>\n",
       "      <td>0.679688</td>\n",
       "      <td>0.679688</td>\n",
       "      <td>0.679688</td>\n",
       "      <td>0.679688</td>\n",
       "      <td>0.757812</td>\n",
       "      <td>0.757812</td>\n",
       "      <td>0.679688</td>\n",
       "      <td>ZZUCJGSOKDNIEZ-UHFFFAOYSA-N</td>\n",
       "    </tr>\n",
       "    <tr>\n",
       "      <th>10569</th>\n",
       "      <td>ZZUFCTLCJUWOSV-UHFFFAOYSA-N</td>\n",
       "      <td>-1.0</td>\n",
       "      <td>-1.0</td>\n",
       "      <td>-1.0</td>\n",
       "      <td>-1.0</td>\n",
       "      <td>-1.0</td>\n",
       "      <td>-1.0</td>\n",
       "      <td>-1.0</td>\n",
       "      <td>-1.0</td>\n",
       "      <td>-1.0</td>\n",
       "      <td>...</td>\n",
       "      <td>-10.242188</td>\n",
       "      <td>-10.242188</td>\n",
       "      <td>-10.746094</td>\n",
       "      <td>-10.746094</td>\n",
       "      <td>-10.746094</td>\n",
       "      <td>-10.746094</td>\n",
       "      <td>-11.167969</td>\n",
       "      <td>-10.281250</td>\n",
       "      <td>-10.746094</td>\n",
       "      <td>ZZUFCTLCJUWOSV-UHFFFAOYSA-N</td>\n",
       "    </tr>\n",
       "    <tr>\n",
       "      <th>10570</th>\n",
       "      <td>ZZUZYEMRHCMVTB-UHFFFAOYSA-N</td>\n",
       "      <td>-1.0</td>\n",
       "      <td>-1.0</td>\n",
       "      <td>-1.0</td>\n",
       "      <td>-1.0</td>\n",
       "      <td>-1.0</td>\n",
       "      <td>-1.0</td>\n",
       "      <td>-1.0</td>\n",
       "      <td>-1.0</td>\n",
       "      <td>-1.0</td>\n",
       "      <td>...</td>\n",
       "      <td>-16.171875</td>\n",
       "      <td>-16.171875</td>\n",
       "      <td>-16.304688</td>\n",
       "      <td>-16.304688</td>\n",
       "      <td>-16.304688</td>\n",
       "      <td>-16.304688</td>\n",
       "      <td>-16.335938</td>\n",
       "      <td>-15.152344</td>\n",
       "      <td>-16.304688</td>\n",
       "      <td>ZZUZYEMRHCMVTB-UHFFFAOYSA-N</td>\n",
       "    </tr>\n",
       "    <tr>\n",
       "      <th>10571</th>\n",
       "      <td>ZZVUWRFHKOJYTH-UHFFFAOYSA-N</td>\n",
       "      <td>-1.0</td>\n",
       "      <td>-1.0</td>\n",
       "      <td>-1.0</td>\n",
       "      <td>-1.0</td>\n",
       "      <td>-1.0</td>\n",
       "      <td>-1.0</td>\n",
       "      <td>-1.0</td>\n",
       "      <td>-1.0</td>\n",
       "      <td>-1.0</td>\n",
       "      <td>...</td>\n",
       "      <td>-0.640625</td>\n",
       "      <td>-0.640625</td>\n",
       "      <td>-1.664062</td>\n",
       "      <td>-1.664062</td>\n",
       "      <td>-1.664062</td>\n",
       "      <td>-1.664062</td>\n",
       "      <td>-1.257812</td>\n",
       "      <td>-0.289062</td>\n",
       "      <td>-1.664062</td>\n",
       "      <td>ZZVUWRFHKOJYTH-UHFFFAOYSA-N</td>\n",
       "    </tr>\n",
       "    <tr>\n",
       "      <th>10572</th>\n",
       "      <td>ZZZPZDFBUDZIOU-UHFFFAOYSA-N</td>\n",
       "      <td>-1.0</td>\n",
       "      <td>-1.0</td>\n",
       "      <td>-1.0</td>\n",
       "      <td>-1.0</td>\n",
       "      <td>-1.0</td>\n",
       "      <td>-1.0</td>\n",
       "      <td>-1.0</td>\n",
       "      <td>-1.0</td>\n",
       "      <td>-1.0</td>\n",
       "      <td>...</td>\n",
       "      <td>3.289062</td>\n",
       "      <td>3.289062</td>\n",
       "      <td>3.101562</td>\n",
       "      <td>3.101562</td>\n",
       "      <td>3.101562</td>\n",
       "      <td>3.101562</td>\n",
       "      <td>3.648438</td>\n",
       "      <td>3.296875</td>\n",
       "      <td>3.101562</td>\n",
       "      <td>ZZZPZDFBUDZIOU-UHFFFAOYSA-N</td>\n",
       "    </tr>\n",
       "  </tbody>\n",
       "</table>\n",
       "<p>10573 rows × 223 columns</p>\n",
       "</div>"
      ],
      "text/plain": [
       "                          INCHIKEY    1    2    3    4    5    6    7    8  \\\n",
       "0      AACRWZVDRSTLKY-UHFFFAOYSA-N -1.0 -1.0 -1.0 -1.0 -1.0 -1.0 -1.0 -1.0   \n",
       "1      AACUKVXTFOXDGE-UHFFFAOYSA-N -1.0 -1.0 -1.0 -1.0 -1.0 -1.0 -1.0 -1.0   \n",
       "2      AADCDMQTJNYOSS-LBPRGKRZSA-N -1.0 -1.0 -1.0 -1.0 -1.0 -1.0 -1.0 -1.0   \n",
       "3      AADORYZVGJDNSZ-UHFFFAOYSA-N -1.0 -1.0 -1.0 -1.0 -1.0 -1.0 -1.0 -1.0   \n",
       "4      AAEVYOVXGOFMJO-UHFFFAOYSA-N -1.0 -1.0 -1.0 -1.0 -1.0 -1.0 -1.0 -1.0   \n",
       "...                            ...  ...  ...  ...  ...  ...  ...  ...  ...   \n",
       "10568  ZZUCJGSOKDNIEZ-UHFFFAOYSA-N -1.0 -1.0 -1.0 -1.0 -1.0 -1.0 -1.0 -1.0   \n",
       "10569  ZZUFCTLCJUWOSV-UHFFFAOYSA-N -1.0 -1.0 -1.0 -1.0 -1.0 -1.0 -1.0 -1.0   \n",
       "10570  ZZUZYEMRHCMVTB-UHFFFAOYSA-N -1.0 -1.0 -1.0 -1.0 -1.0 -1.0 -1.0 -1.0   \n",
       "10571  ZZVUWRFHKOJYTH-UHFFFAOYSA-N -1.0 -1.0 -1.0 -1.0 -1.0 -1.0 -1.0 -1.0   \n",
       "10572  ZZZPZDFBUDZIOU-UHFFFAOYSA-N -1.0 -1.0 -1.0 -1.0 -1.0 -1.0 -1.0 -1.0   \n",
       "\n",
       "         9  ...  Cells_Neighbors_SecondClosestObjectNumber_5  \\\n",
       "0     -1.0  ...                                    -0.054688   \n",
       "1     -1.0  ...                                    -1.171875   \n",
       "2     -1.0  ...                                    -0.425781   \n",
       "3     -1.0  ...                                     1.123188   \n",
       "4     -1.0  ...                                    -6.882812   \n",
       "...    ...  ...                                          ...   \n",
       "10568 -1.0  ...                                     0.609375   \n",
       "10569 -1.0  ...                                   -10.242188   \n",
       "10570 -1.0  ...                                   -16.171875   \n",
       "10571 -1.0  ...                                    -0.640625   \n",
       "10572 -1.0  ...                                     3.289062   \n",
       "\n",
       "       Cells_Neighbors_SecondClosestObjectNumber_Adjacent  \\\n",
       "0                                              -0.054688    \n",
       "1                                              -1.171875    \n",
       "2                                              -0.425781    \n",
       "3                                               1.123188    \n",
       "4                                              -6.882812    \n",
       "...                                                  ...    \n",
       "10568                                           0.609375    \n",
       "10569                                         -10.242188    \n",
       "10570                                         -16.171875    \n",
       "10571                                          -0.640625    \n",
       "10572                                           3.289062    \n",
       "\n",
       "       Cells_Parent_Nuclei  Cytoplasm_Number_Object_Number  \\\n",
       "0                 0.859375                        0.859375   \n",
       "1                -1.148438                       -1.148438   \n",
       "2                 0.453125                        0.453125   \n",
       "3                 0.521739                        0.521739   \n",
       "4                -7.218750                       -7.218750   \n",
       "...                    ...                             ...   \n",
       "10568             0.679688                        0.679688   \n",
       "10569           -10.746094                      -10.746094   \n",
       "10570           -16.304688                      -16.304688   \n",
       "10571            -1.664062                       -1.664062   \n",
       "10572             3.101562                        3.101562   \n",
       "\n",
       "       Cytoplasm_Parent_Cells  Cytoplasm_Parent_Nuclei  \\\n",
       "0                    0.859375                 0.859375   \n",
       "1                   -1.148438                -1.148438   \n",
       "2                    0.453125                 0.453125   \n",
       "3                    0.521739                 0.521739   \n",
       "4                   -7.218750                -7.218750   \n",
       "...                       ...                      ...   \n",
       "10568                0.679688                 0.679688   \n",
       "10569              -10.746094               -10.746094   \n",
       "10570              -16.304688               -16.304688   \n",
       "10571               -1.664062                -1.664062   \n",
       "10572                3.101562                 3.101562   \n",
       "\n",
       "       Nuclei_Neighbors_FirstClosestObjectNumber_1  \\\n",
       "0                                         1.445312   \n",
       "1                                        -1.101562   \n",
       "2                                        -0.117188   \n",
       "3                                         1.536232   \n",
       "4                                        -7.679688   \n",
       "...                                            ...   \n",
       "10568                                     0.757812   \n",
       "10569                                   -11.167969   \n",
       "10570                                   -16.335938   \n",
       "10571                                    -1.257812   \n",
       "10572                                     3.648438   \n",
       "\n",
       "       Nuclei_Neighbors_SecondClosestObjectNumber_1  \\\n",
       "0                                          1.007812   \n",
       "1                                         -1.453125   \n",
       "2                                         -0.531250   \n",
       "3                                          0.601449   \n",
       "4                                         -7.773438   \n",
       "...                                             ...   \n",
       "10568                                      0.757812   \n",
       "10569                                    -10.281250   \n",
       "10570                                    -15.152344   \n",
       "10571                                     -0.289062   \n",
       "10572                                      3.296875   \n",
       "\n",
       "       Nuclei_Number_Object_Number                     InChIKey  \n",
       "0                         0.859375  AACRWZVDRSTLKY-UHFFFAOYSA-N  \n",
       "1                        -1.148438  AACUKVXTFOXDGE-UHFFFAOYSA-N  \n",
       "2                         0.453125  AADCDMQTJNYOSS-LBPRGKRZSA-N  \n",
       "3                         0.521739  AADORYZVGJDNSZ-UHFFFAOYSA-N  \n",
       "4                        -7.218750  AAEVYOVXGOFMJO-UHFFFAOYSA-N  \n",
       "...                            ...                          ...  \n",
       "10568                     0.679688  ZZUCJGSOKDNIEZ-UHFFFAOYSA-N  \n",
       "10569                   -10.746094  ZZUFCTLCJUWOSV-UHFFFAOYSA-N  \n",
       "10570                   -16.304688  ZZUZYEMRHCMVTB-UHFFFAOYSA-N  \n",
       "10571                    -1.664062  ZZVUWRFHKOJYTH-UHFFFAOYSA-N  \n",
       "10572                     3.101562  ZZZPZDFBUDZIOU-UHFFFAOYSA-N  \n",
       "\n",
       "[10573 rows x 223 columns]"
      ]
     },
     "execution_count": 58,
     "metadata": {},
     "output_type": "execute_result"
    }
   ],
   "source": [
    "data = pd.read_csv(\"CP_count_Hofmarcher.csv\")\n",
    "data"
   ]
  },
  {
   "cell_type": "code",
   "execution_count": 59,
   "id": "9f676248-83ea-4d74-99d6-e0e2837d6315",
   "metadata": {
    "scrolled": true,
    "tags": []
   },
   "outputs": [],
   "source": [
    "assays_list = data.columns.to_list()[1:-13]\n",
    "assays_list\n",
    "\n",
    "train_cols = ['Cells_Number_Object_Number']"
   ]
  },
  {
   "cell_type": "code",
   "execution_count": 60,
   "id": "f888daf5-1690-46fc-af49-5e214d2b9279",
   "metadata": {},
   "outputs": [],
   "source": [
    "import numpy as np\n",
    "import tensorflow as tf\n",
    "import pandas as pd\n",
    "from sklearn.preprocessing import StandardScaler\n",
    "from sklearn.model_selection import train_test_split\n",
    "from iterstrat.ml_stratifiers import MultilabelStratifiedKFold\n",
    "import logging\n",
    "\n",
    "\n",
    "cp_path = \"CP_count_Hofmarcher.csv\"\n",
    "cp_data = pd.read_csv(cp_path)\n",
    "\n",
    "def merge_data(split_data, cp_data):\n",
    "    # Assuming 'inchikey' is the column to merge on\n",
    "    return pd.merge(split_data, cp_data, on='INCHIKEY', how='inner')\n",
    "\n",
    "def load_and_preprocess_data(fold):\n",
    "    train_path = f\"data/datasplit{fold}-train.csv\"\n",
    "    val_path = f\"data/datasplit{fold}-val.csv\"\n",
    "    test_path = f\"data/datasplit{fold}-test.csv\"\n",
    "\n",
    "    # Load CP data\n",
    "    cp_data = pd.read_csv(cp_path)\n",
    "    \n",
    "    # Load data splits\n",
    "    train_df= pd.read_csv(train_path)\n",
    "    val_df = pd.read_csv(val_path)\n",
    "    test_df = pd.read_csv(test_path)\n",
    "    \n",
    "    # Merge the datasets\n",
    "    train_merged = merge_data(train_df, cp_data)\n",
    "    val_merged = merge_data(val_df, cp_data)\n",
    "    test = merge_data(test_df, cp_data)\n",
    "    \n",
    "    train = pd.concat([train_merged,val_merged]).reset_index(drop=True)\n",
    "    \n",
    "    return train, test\n",
    "\n"
   ]
  },
  {
   "cell_type": "code",
   "execution_count": 93,
   "id": "c5ea03b2-62ee-4169-a8c2-fa0698dd3cb4",
   "metadata": {
    "scrolled": true,
    "tags": []
   },
   "outputs": [
    {
     "name": "stderr",
     "output_type": "stream",
     "text": [
      "  0%|          | 0/3 [00:00<?, ?it/s]/opt/tljh/user/lib/python3.7/site-packages/ipykernel_launcher.py:34: DeprecationWarning: The default dtype for empty Series will be 'object' instead of 'float64' in a future version. Specify a dtype explicitly to silence this warning.\n"
     ]
    },
    {
     "name": "stdout",
     "output_type": "stream",
     "text": [
      "43249\n",
      "43249\n",
      "{0: 0.7695825474216165, 1: 1.4273597359735974}\n",
      "scale_pos_weight:  0.5391650948432328\n",
      "Fitting 5 folds for each of 10 candidates, totalling 50 fits\n",
      "Best parameters: {'scale_pos_weight': 0.5391650948432328, 'n_jobs': -1, 'n_estimators': 200, 'max_depth': 5, 'learning_rate': 0.3}\n"
     ]
    },
    {
     "name": "stderr",
     "output_type": "stream",
     "text": [
      " 33%|███▎      | 1/3 [00:08<00:17,  8.93s/it]/opt/tljh/user/lib/python3.7/site-packages/ipykernel_launcher.py:34: DeprecationWarning: The default dtype for empty Series will be 'object' instead of 'float64' in a future version. Specify a dtype explicitly to silence this warning.\n"
     ]
    },
    {
     "name": "stdout",
     "output_type": "stream",
     "text": [
      "44699\n",
      "44699\n",
      "{0: 0.7635894632546381, 1: 1.4484445884640311}\n",
      "scale_pos_weight:  0.527178926509276\n",
      "Fitting 5 folds for each of 10 candidates, totalling 50 fits\n",
      "Best parameters: {'scale_pos_weight': 0.527178926509276, 'n_jobs': -1, 'n_estimators': 200, 'max_depth': 5, 'learning_rate': 0.3}\n"
     ]
    },
    {
     "name": "stderr",
     "output_type": "stream",
     "text": [
      " 67%|██████▋   | 2/3 [00:17<00:08,  8.64s/it]/opt/tljh/user/lib/python3.7/site-packages/ipykernel_launcher.py:34: DeprecationWarning: The default dtype for empty Series will be 'object' instead of 'float64' in a future version. Specify a dtype explicitly to silence this warning.\n"
     ]
    },
    {
     "name": "stdout",
     "output_type": "stream",
     "text": [
      "44664\n",
      "44664\n",
      "{0: 0.7654498714652956, 1: 1.441797404609723}\n",
      "scale_pos_weight:  0.5308997429305913\n",
      "Fitting 5 folds for each of 10 candidates, totalling 50 fits\n",
      "Best parameters: {'scale_pos_weight': 0.5308997429305913, 'n_jobs': -1, 'n_estimators': 200, 'max_depth': 5, 'learning_rate': 0.3}\n"
     ]
    },
    {
     "name": "stderr",
     "output_type": "stream",
     "text": [
      "100%|██████████| 3/3 [00:25<00:00,  8.59s/it]\n",
      "0it [00:00, ?it/s]\n",
      "  0%|          | 0/209 [00:00<?, ?it/s]\u001b[A\n",
      "  4%|▍         | 9/209 [00:00<00:02, 89.67it/s]\u001b[A\n",
      "  9%|▊         | 18/209 [00:00<00:02, 87.60it/s]\u001b[A"
     ]
    },
    {
     "name": "stdout",
     "output_type": "stream",
     "text": [
      "0.634920634920635\n",
      "0.29591836734693877\n",
      "0.3076923076923077\n",
      "0.5666666666666667\n",
      "0.40217391304347827\n",
      "0.6666666666666667\n",
      "0.3888888888888889\n",
      "0.5428571428571428\n",
      "0.5\n",
      "0.4545454545454546\n",
      "0.6786858974358974\n",
      "0.53125\n",
      "0.5714285714285714\n",
      "0.5277777777777778\n",
      "0.9375\n",
      "0.17045454545454541\n",
      "0.6428571428571428\n",
      "0.6190476190476191\n",
      "0.4772727272727273\n"
     ]
    },
    {
     "name": "stderr",
     "output_type": "stream",
     "text": [
      "\n",
      " 14%|█▍        | 30/209 [00:00<00:01, 100.79it/s]\u001b[A\n",
      " 20%|█▉        | 41/209 [00:00<00:01, 98.04it/s] \u001b[A"
     ]
    },
    {
     "name": "stdout",
     "output_type": "stream",
     "text": [
      "0.3076923076923077\n",
      "0.4\n",
      "0.6722689075630253\n",
      "0.6029411764705883\n",
      "0.85\n",
      "0.56\n",
      "0.7276190476190476\n",
      "0.40384615384615385\n",
      "0.85\n",
      "0.1923076923076923\n",
      "0.5693479938271606\n",
      "0.45425531914893613\n",
      "0.4526679841897233\n",
      "0.49275704613446697\n",
      "0.4869268662372111\n",
      "0.5692307692307692\n",
      "0.6468253968253969\n",
      "0.6875\n",
      "0.8333333333333334\n",
      "0.8571428571428572\n",
      "0.6666666666666667\n"
     ]
    },
    {
     "name": "stderr",
     "output_type": "stream",
     "text": [
      "\n",
      " 24%|██▍       | 51/209 [00:00<00:01, 96.01it/s]\u001b[A"
     ]
    },
    {
     "name": "stdout",
     "output_type": "stream",
     "text": [
      "0.6666666666666666\n",
      "0.6916363636363636\n",
      "0.6561355311355311\n",
      "0.6190476190476191\n",
      "0.7777777777777778\n",
      "0.6373626373626373\n",
      "0.6499999999999999\n",
      "0.5769230769230769\n",
      "0.5714285714285714\n",
      "0.9230769230769231\n",
      "0.9836956521739131\n",
      "0.9645390070921986\n",
      "0.9822695035460993\n",
      "0.9744680851063829\n",
      "0.9733333333333333\n",
      "0.9262820512820513\n",
      "0.9821428571428571\n",
      "0.9434523809523809\n",
      "0.9047619047619048\n"
     ]
    },
    {
     "name": "stderr",
     "output_type": "stream",
     "text": [
      "\n",
      " 30%|██▉       | 62/209 [00:00<00:01, 95.58it/s]\u001b[A\n",
      " 35%|███▍      | 73/209 [00:00<00:01, 98.05it/s]\u001b[A"
     ]
    },
    {
     "name": "stdout",
     "output_type": "stream",
     "text": [
      "0.8976744186046512\n",
      "0.9119318181818182\n",
      "0.9720930232558139\n",
      "0.9733333333333333\n",
      "0.9523809523809523\n",
      "0.9728260869565217\n",
      "0.926829268292683\n",
      "0.9440993788819876\n",
      "0.9440993788819876\n",
      "0.9744897959183674\n",
      "0.8909090909090909\n",
      "0.991869918699187\n",
      "0.8717948717948718\n",
      "0.9680851063829787\n",
      "0.9249999999999999\n",
      "0.9079365079365079\n",
      "0.8851851851851851\n",
      "0.9090909090909091\n",
      "0.875\n",
      "0.9130434782608696\n",
      "0.9232954545454545\n",
      "0.9733333333333334\n"
     ]
    },
    {
     "name": "stderr",
     "output_type": "stream",
     "text": [
      "\n",
      " 41%|████      | 85/209 [00:00<00:01, 102.46it/s]\u001b[A\n",
      " 46%|████▌     | 96/209 [00:00<00:01, 98.64it/s] \u001b[A"
     ]
    },
    {
     "name": "stdout",
     "output_type": "stream",
     "text": [
      "0.9591836734693877\n",
      "0.8935185185185185\n",
      "0.9148936170212767\n",
      "0.9326241134751774\n",
      "0.9090909090909091\n",
      "0.9488636363636364\n",
      "0.9079365079365079\n",
      "0.9119318181818182\n",
      "0.9739583333333334\n",
      "0.9322916666666667\n",
      "0.9020270270270271\n",
      "0.9817073170731708\n",
      "0.8909090909090909\n",
      "0.9722222222222222\n",
      "0.9111111111111111\n",
      "0.925\n",
      "0.9311594202898551\n"
     ]
    },
    {
     "name": "stderr",
     "output_type": "stream",
     "text": [
      "\n",
      " 51%|█████     | 106/209 [00:01<00:01, 80.88it/s]\u001b[A"
     ]
    },
    {
     "name": "stdout",
     "output_type": "stream",
     "text": [
      "0.8896103896103896\n",
      "0.731060606060606\n",
      "0.9230769230769231\n",
      "0.8900709219858156\n",
      "0.975\n",
      "0.811965811965812\n",
      "0.9166666666666666\n",
      "0.9444444444444444\n",
      "0.9259259259259258\n",
      "0.8909090909090909\n",
      "1.0\n",
      "0.9288888888888889\n",
      "0.9929078014184397\n"
     ]
    },
    {
     "name": "stderr",
     "output_type": "stream",
     "text": [
      "\n",
      " 55%|█████▌    | 115/209 [00:01<00:01, 79.42it/s]\u001b[A\n",
      " 60%|██████    | 126/209 [00:01<00:00, 86.04it/s]\u001b[A"
     ]
    },
    {
     "name": "stdout",
     "output_type": "stream",
     "text": [
      "0.9107142857142858\n",
      "0.9166666666666666\n",
      "0.0\n",
      "0.16666666666666666\n",
      "0.5\n",
      "0.6142857142857143\n",
      "0.0\n",
      "0.75\n",
      "1.0\n",
      "0.49999999999999994\n",
      "0.13541666666666666\n",
      "0.4333333333333334\n",
      "0.10714285714285714\n",
      "0.25\n",
      "0.30000000000000004\n",
      "0.6\n"
     ]
    },
    {
     "name": "stderr",
     "output_type": "stream",
     "text": [
      "\n",
      " 65%|██████▍   | 135/209 [00:01<00:01, 70.98it/s]\u001b[A\n",
      " 69%|██████▉   | 145/209 [00:01<00:00, 76.45it/s]\u001b[A"
     ]
    },
    {
     "name": "stdout",
     "output_type": "stream",
     "text": [
      "0.3939393939393939\n",
      "0.9285714285714286\n",
      "0.5666666666666667\n",
      "0.9166666666666667\n",
      "1.0\n",
      "0.5\n",
      "0.5\n",
      "0.8125\n",
      "0.65\n",
      "0.5\n",
      "0.5\n",
      "0.6333333333333333\n",
      "0.30000000000000004\n",
      "0.5\n",
      "0.9166666666666667\n",
      "0.9166666666666667\n"
     ]
    },
    {
     "name": "stderr",
     "output_type": "stream",
     "text": [
      "\n",
      " 75%|███████▌  | 157/209 [00:01<00:00, 85.71it/s]\u001b[A\n",
      " 80%|███████▉  | 167/209 [00:01<00:00, 86.32it/s]"
     ]
    },
    {
     "name": "stdout",
     "output_type": "stream",
     "text": [
      "0.5419871794871794\n",
      "0.4519230769230769\n",
      "0.375\n",
      "0.48611111111111105\n",
      "0.14285714285714285\n",
      "0.6214285714285714\n",
      "1.0\n",
      "0.3303571428571429\n",
      "0.5013429459994345\n",
      "0.86\n",
      "0.5030890369473047\n",
      "0.466765873015873\n",
      "0.5531281032770606\n",
      "0.7\n",
      "0.5647405562474055\n",
      "0.5883160956690368\n",
      "0.509464142895228\n",
      "0.07894736842105265\n",
      "0.579187925170068\n",
      "0.6111111111111112\n",
      "0.7479338842975206\n"
     ]
    },
    {
     "name": "stderr",
     "output_type": "stream",
     "text": [
      "\u001b[A\n",
      " 84%|████████▍ | 176/209 [00:02<00:00, 80.28it/s]\u001b[A"
     ]
    },
    {
     "name": "stdout",
     "output_type": "stream",
     "text": [
      "0.7379737609329446\n",
      "0.8055555555555556\n",
      "0.8333333333333334\n",
      "0.5804084778420039\n",
      "0.7455357142857143\n",
      "0.5357142857142857\n",
      "0.5366666666666666\n",
      "0.0\n",
      "0.6503598740440846\n",
      "0.5361842105263158\n",
      "0.49623842592592593\n",
      "0.3884615384615384\n",
      "0.6026190476190476\n",
      "0.5\n",
      "0.7232791421653406\n",
      "0.8342490842490843\n",
      "0.5656017369727048\n",
      "0.42105263157894735\n"
     ]
    },
    {
     "name": "stderr",
     "output_type": "stream",
     "text": [
      "\n",
      " 89%|████████▉ | 187/209 [00:02<00:00, 83.62it/s]\u001b[A\n",
      " 94%|█████████▍| 197/209 [00:02<00:00, 87.54it/s]\u001b[A"
     ]
    },
    {
     "name": "stdout",
     "output_type": "stream",
     "text": [
      "0.21566358024691357\n",
      "0.3665659617321249\n",
      "0.0\n",
      "0.62\n",
      "0.75\n",
      "0.5990990990990992\n",
      "0.6315028901734103\n",
      "0.43256464011180995\n",
      "0.3294573643410852\n",
      "0.6222222222222222\n",
      "0.8444444444444444\n",
      "0.6640625\n",
      "0.6577932098765432\n",
      "0.5563636363636364\n",
      "0.6666666666666667\n",
      "0.4226190476190476\n",
      "0.7474916387959866\n",
      "0.5121606334841629\n",
      "0.38611111111111107\n",
      "0.6299589603283173\n"
     ]
    },
    {
     "name": "stderr",
     "output_type": "stream",
     "text": [
      "\n",
      "100%|██████████| 209/209 [00:02<00:00, 88.44it/s]\u001b[A\n",
      "1it [00:02,  2.68s/it]"
     ]
    },
    {
     "name": "stdout",
     "output_type": "stream",
     "text": [
      "0.9\n",
      "0.2\n",
      "0.7500000000000001\n",
      "0.653880710484484\n"
     ]
    },
    {
     "name": "stderr",
     "output_type": "stream",
     "text": [
      "\n",
      "  0%|          | 0/209 [00:00<?, ?it/s]\u001b[A\n",
      "  5%|▍         | 10/209 [00:00<00:02, 89.26it/s]\u001b[A"
     ]
    },
    {
     "name": "stdout",
     "output_type": "stream",
     "text": [
      "0.4693877551020408\n",
      "0.30526315789473685\n",
      "0.49122807017543857\n",
      "0.13076923076923078\n",
      "0.6333333333333333\n",
      "0.2666666666666667\n",
      "0.3333333333333333\n",
      "0.625\n",
      "0.43478260869565216\n",
      "0.5333333333333333\n",
      "0.40234375\n",
      "0.4395604395604396\n",
      "0.3076923076923077\n",
      "0.6\n",
      "0.6153846153846153\n"
     ]
    },
    {
     "name": "stderr",
     "output_type": "stream",
     "text": [
      "\n",
      "  9%|▉         | 19/209 [00:00<00:03, 61.74it/s]\u001b[A\n",
      " 14%|█▍        | 29/209 [00:00<00:02, 73.49it/s]\u001b[A"
     ]
    },
    {
     "name": "stdout",
     "output_type": "stream",
     "text": [
      "0.04545454545454547\n",
      "0.4875\n",
      "0.4609375\n",
      "0.47619047619047616\n",
      "0.6411764705882352\n",
      "0.13076923076923078\n",
      "0.25\n",
      "0.5714285714285714\n",
      "0.5785714285714285\n",
      "0.34920634920634924\n",
      "0.3125\n",
      "0.538888888888889\n",
      "0.35\n",
      "0.22727272727272724\n",
      "0.3125\n"
     ]
    },
    {
     "name": "stderr",
     "output_type": "stream",
     "text": [
      "\n",
      " 18%|█▊        | 37/209 [00:00<00:02, 64.00it/s]\u001b[A"
     ]
    },
    {
     "name": "stdout",
     "output_type": "stream",
     "text": [
      "0.5392716103554189\n",
      "0.4400956937799043\n",
      "0.4576822916666667\n",
      "0.3725443972968725\n",
      "0.42852748154224773\n",
      "0.6260869565217391\n",
      "0.5238095238095237\n",
      "0.7115384615384616\n",
      "1.0\n",
      "0.75\n",
      "0.9\n",
      "0.7788461538461539\n"
     ]
    },
    {
     "name": "stderr",
     "output_type": "stream",
     "text": [
      "\n",
      " 21%|██        | 44/209 [00:00<00:02, 65.64it/s]\u001b[A\n",
      " 26%|██▌       | 54/209 [00:00<00:02, 74.92it/s]\u001b[A"
     ]
    },
    {
     "name": "stdout",
     "output_type": "stream",
     "text": [
      "0.6465946843853821\n",
      "0.7456521739130435\n",
      "0.4444444444444444\n",
      "0.6428571428571428\n",
      "0.5666666666666667\n",
      "0.6\n",
      "0.782051282051282\n",
      "0.5555555555555556\n",
      "0.6363636363636364\n",
      "0.6140350877192983\n",
      "0.9382716049382716\n",
      "0.9199999999999999\n",
      "0.9305555555555556\n",
      "0.9305555555555556\n",
      "0.9305555555555556\n",
      "0.9242424242424242\n",
      "0.8999999999999999\n",
      "0.9333333333333333\n",
      "0.7652173913043478\n",
      "0.9444444444444444\n"
     ]
    },
    {
     "name": "stderr",
     "output_type": "stream",
     "text": [
      "\n",
      " 31%|███       | 64/209 [00:00<00:01, 80.04it/s]\u001b[A\n",
      " 35%|███▌      | 74/209 [00:00<00:01, 85.14it/s]\u001b[A"
     ]
    },
    {
     "name": "stdout",
     "output_type": "stream",
     "text": [
      "0.5499999999999999\n",
      "0.9166666666666667\n",
      "0.9333333333333333\n",
      "0.9199999999999999\n",
      "0.9382716049382716\n",
      "0.8947368421052632\n",
      "0.9199999999999999\n",
      "0.9199999999999999\n",
      "0.9199999999999999\n",
      "0.875\n",
      "0.8947368421052632\n",
      "0.8550724637681161\n",
      "0.9259259259259259\n",
      "0.9199999999999999\n",
      "0.9285714285714286\n",
      "0.9230769230769231\n",
      "0.9466666666666667\n",
      "0.888888888888889\n",
      "0.9444444444444444\n",
      "0.9333333333333333\n"
     ]
    },
    {
     "name": "stderr",
     "output_type": "stream",
     "text": [
      "\n",
      " 41%|████      | 85/209 [00:01<00:01, 91.64it/s]\u001b[A\n",
      " 46%|████▋     | 97/209 [00:01<00:01, 98.23it/s]\u001b[A"
     ]
    },
    {
     "name": "stdout",
     "output_type": "stream",
     "text": [
      "0.9615384615384616\n",
      "0.7652173913043478\n",
      "0.8235294117647058\n",
      "0.9333333333333333\n",
      "0.9230769230769231\n",
      "0.9242424242424242\n",
      "0.7692307692307692\n",
      "0.9230769230769231\n",
      "0.9375\n",
      "0.9358974358974359\n",
      "0.962962962962963\n",
      "0.8833333333333333\n",
      "0.8771929824561404\n",
      "0.8636363636363635\n",
      "0.8333333333333334\n",
      "0.9358974358974359\n",
      "0.9199999999999999\n",
      "0.9230769230769231\n",
      "0.9166666666666667\n",
      "0.6666666666666666\n",
      "0.9230769230769231\n",
      "0.9487179487179487\n"
     ]
    },
    {
     "name": "stderr",
     "output_type": "stream",
     "text": [
      "\n",
      " 51%|█████     | 107/209 [00:01<00:01, 94.96it/s]\u001b[A\n",
      " 56%|█████▌    | 117/209 [00:01<00:00, 94.52it/s]\u001b[A"
     ]
    },
    {
     "name": "stdout",
     "output_type": "stream",
     "text": [
      "0.9444444444444444\n",
      "0.9375\n",
      "0.9382716049382716\n",
      "0.6900000000000001\n",
      "0.875\n",
      "0.9242424242424243\n",
      "0.9166666666666667\n",
      "0.8846153846153846\n",
      "0.9305555555555556\n",
      "0.9375\n",
      "0.8\n",
      "0.31818181818181823\n",
      "0.5357142857142857\n",
      "0.8\n",
      "0.0\n",
      "0.9\n",
      "0.22222222222222224\n",
      "0.5\n"
     ]
    },
    {
     "name": "stderr",
     "output_type": "stream",
     "text": [
      "\n",
      " 61%|██████    | 127/209 [00:01<00:00, 94.00it/s]\u001b[A\n",
      " 67%|██████▋   | 139/209 [00:01<00:00, 100.68it/s]\u001b[A"
     ]
    },
    {
     "name": "stdout",
     "output_type": "stream",
     "text": [
      "0.0\n",
      "0.2\n",
      "0.3666666666666667\n",
      "0.0\n",
      "0.4375\n",
      "0.34285714285714286\n",
      "0.5\n",
      "1.0\n",
      "0.6666666666666667\n",
      "0.41666666666666663\n",
      "0.4444444444444444\n",
      "0.8\n",
      "0.95\n",
      "0.8\n",
      "0.5\n",
      "0.5\n",
      "0.7407407407407407\n",
      "0.8\n",
      "0.7777777777777779\n",
      "0.6666666666666667\n",
      "0.6666666666666667\n",
      "0.521680216802168\n"
     ]
    },
    {
     "name": "stderr",
     "output_type": "stream",
     "text": [
      "\n",
      " 72%|███████▏  | 151/209 [00:01<00:00, 105.74it/s]\u001b[A"
     ]
    },
    {
     "name": "stdout",
     "output_type": "stream",
     "text": [
      "0.7\n",
      "0.5903361344537814\n",
      "0.75\n",
      "0.475\n",
      "0.4666666666666667\n",
      "0.4928774928774929\n",
      "0.5236800861984523\n",
      "0.6785714285714286\n",
      "0.49677864703175334\n",
      "0.5521541950113379\n",
      "0.5810457516339869\n",
      "0.5555555555555556\n",
      "0.582542194092827\n"
     ]
    },
    {
     "name": "stderr",
     "output_type": "stream",
     "text": [
      "\n",
      " 78%|███████▊  | 162/209 [00:01<00:00, 83.43it/s] \u001b[A\n",
      " 82%|████████▏ | 172/209 [00:02<00:00, 81.39it/s]\u001b[A"
     ]
    },
    {
     "name": "stdout",
     "output_type": "stream",
     "text": [
      "0.49248964088397784\n",
      "0.48520739630184906\n",
      "0.6153846153846154\n",
      "0.6135681135681137\n",
      "0.22083333333333335\n",
      "0.5892857142857143\n",
      "0.6421312826146662\n",
      "0.6630434782608696\n",
      "0.7714285714285715\n",
      "0.5507705627705628\n",
      "0.6808943089430894\n",
      "0.4444444444444444\n",
      "0.65625\n",
      "0.4571428571428572\n",
      "0.6174848317705459\n",
      "0.8712121212121212\n",
      "0.4780645161290323\n"
     ]
    },
    {
     "name": "stderr",
     "output_type": "stream",
     "text": [
      "\n",
      " 87%|████████▋ | 181/209 [00:02<00:00, 80.35it/s]\u001b[A"
     ]
    },
    {
     "name": "stdout",
     "output_type": "stream",
     "text": [
      "0.3728070175438597\n",
      "0.5705199115044248\n",
      "0.5\n",
      "0.7074967765702708\n",
      "0.7237982663514578\n",
      "0.5062252964426878\n",
      "0.5\n",
      "0.31038461538461537\n",
      "0.4802052785923754\n",
      "0.5\n",
      "0.7333333333333333\n"
     ]
    },
    {
     "name": "stderr",
     "output_type": "stream",
     "text": [
      "\n",
      " 91%|█████████ | 190/209 [00:02<00:00, 70.88it/s]\u001b[A\n",
      " 95%|█████████▌| 199/209 [00:02<00:00, 74.31it/s]\u001b[A"
     ]
    },
    {
     "name": "stdout",
     "output_type": "stream",
     "text": [
      "0.625\n",
      "0.7888127853881278\n",
      "0.4583333333333333\n",
      "0.516072676450035\n",
      "0.7180232558139535\n",
      "0.24\n",
      "0.7226890756302522\n",
      "0.16666666666666663\n",
      "0.39939024390243905\n",
      "0.6387096774193548\n",
      "0.3333333333333333\n",
      "0.44859038142620233\n",
      "0.7067669172932332\n",
      "0.3397860417727967\n",
      "0.3157894736842105\n",
      "0.6221174004192872\n",
      "0.36363636363636365\n"
     ]
    },
    {
     "name": "stderr",
     "output_type": "stream",
     "text": [
      "\n",
      "100%|██████████| 209/209 [00:02<00:00, 82.18it/s]\u001b[A\n",
      "2it [00:05,  2.77s/it]"
     ]
    },
    {
     "name": "stdout",
     "output_type": "stream",
     "text": [
      "0.75\n",
      "0.6008403361344538\n",
      "0.5264227642276423\n"
     ]
    },
    {
     "name": "stderr",
     "output_type": "stream",
     "text": [
      "\n",
      "  0%|          | 0/209 [00:00<?, ?it/s]\u001b[A\n",
      "  5%|▍         | 10/209 [00:00<00:02, 93.79it/s]\u001b[A\n",
      " 10%|█         | 21/209 [00:00<00:01, 98.79it/s]"
     ]
    },
    {
     "name": "stdout",
     "output_type": "stream",
     "text": [
      "0.27976190476190477\n",
      "0.27272727272727276\n",
      "0.296875\n",
      "0.3846153846153846\n",
      "0.4666666666666667\n",
      "0.4555555555555556\n",
      "0.09999999999999998\n",
      "0.7\n",
      "0.42361111111111105\n",
      "0.3333333333333333\n",
      "0.3\n",
      "0.43832236842105265\n",
      "0.0\n",
      "0.888888888888889\n",
      "0.5238095238095237\n",
      "0.16666666666666666\n",
      "0.425\n",
      "0.459375\n",
      "0.6785714285714285\n",
      "0.37826086956521743\n",
      "0.3846153846153846\n"
     ]
    },
    {
     "name": "stderr",
     "output_type": "stream",
     "text": [
      "\u001b[A\n",
      " 15%|█▌        | 32/209 [00:00<00:01, 102.90it/s]\u001b[A"
     ]
    },
    {
     "name": "stdout",
     "output_type": "stream",
     "text": [
      "0.5\n",
      "0.6862745098039216\n",
      "0.8636363636363636\n",
      "0.25\n",
      "0.3\n",
      "0.49837662337662336\n",
      "0.4933333333333333\n",
      "0.25\n",
      "0.4285714285714286\n",
      "0.590927624872579\n",
      "0.4133708272859216\n",
      "0.5589444083928186\n",
      "0.5194192377495463\n",
      "0.6193003144654089\n",
      "0.15789473684210525\n",
      "0.6018518518518519\n",
      "0.6607142857142857\n",
      "1.0\n",
      "0.6\n",
      "0.7391304347826086\n"
     ]
    },
    {
     "name": "stderr",
     "output_type": "stream",
     "text": [
      "\n",
      " 21%|██        | 43/209 [00:00<00:01, 94.97it/s] \u001b[A\n",
      " 25%|██▌       | 53/209 [00:00<00:01, 94.76it/s]\u001b[A"
     ]
    },
    {
     "name": "stdout",
     "output_type": "stream",
     "text": [
      "0.675\n",
      "0.6639928698752229\n",
      "0.6545189504373178\n",
      "0.6888888888888889\n",
      "0.5833333333333333\n",
      "0.7272727272727272\n",
      "0.6666666666666666\n",
      "0.8\n",
      "0.9428571428571428\n",
      "0.9578947368421052\n",
      "0.9655172413793104\n",
      "0.9785714285714286\n",
      "1.0\n",
      "1.0\n",
      "1.0\n",
      "0.8181818181818182\n",
      "0.9583333333333334\n"
     ]
    },
    {
     "name": "stderr",
     "output_type": "stream",
     "text": [
      "\n",
      " 30%|███       | 63/209 [00:00<00:01, 81.87it/s]\u001b[A\n",
      " 34%|███▍      | 72/209 [00:00<00:01, 81.31it/s]\u001b[A"
     ]
    },
    {
     "name": "stdout",
     "output_type": "stream",
     "text": [
      "0.9285714285714286\n",
      "0.9691358024691358\n",
      "0.984\n",
      "0.923076923076923\n",
      "1.0\n",
      "0.9733333333333334\n",
      "0.9230769230769231\n",
      "0.962962962962963\n",
      "0.9722222222222222\n",
      "1.0\n",
      "1.0\n",
      "0.9666666666666667\n",
      "1.0\n",
      "0.9565217391304348\n",
      "0.928\n",
      "0.962962962962963\n"
     ]
    },
    {
     "name": "stderr",
     "output_type": "stream",
     "text": [
      "\n",
      " 39%|███▉      | 82/209 [00:00<00:01, 85.26it/s]\u001b[A"
     ]
    },
    {
     "name": "stdout",
     "output_type": "stream",
     "text": [
      "1.0\n",
      "0.9\n",
      "0.9655172413793104\n",
      "0.9851851851851852\n",
      "1.0\n",
      "0.962962962962963\n",
      "1.0\n",
      "1.0\n",
      "0.9652777777777778\n",
      "0.9523809523809523\n",
      "0.9642857142857143\n",
      "0.9655172413793104\n",
      "0.962962962962963\n",
      "0.7777777777777778\n"
     ]
    },
    {
     "name": "stderr",
     "output_type": "stream",
     "text": [
      "\n",
      " 44%|████▎     | 91/209 [00:01<00:01, 74.60it/s]\u001b[A\n",
      " 47%|████▋     | 99/209 [00:01<00:01, 75.14it/s]\u001b[A"
     ]
    },
    {
     "name": "stdout",
     "output_type": "stream",
     "text": [
      "0.9482758620689655\n",
      "0.9375\n",
      "0.9666666666666667\n",
      "0.9642857142857143\n",
      "0.8636363636363636\n",
      "0.9583333333333334\n",
      "1.0\n",
      "1.0\n",
      "0.9615384615384616\n",
      "0.9239130434782609\n",
      "0.9666666666666667\n",
      "0.962962962962963\n",
      "0.9615384615384616\n",
      "0.9619047619047619\n",
      "0.9666666666666667\n",
      "0.9876543209876543\n",
      "0.9583333333333334\n",
      "0.9655172413793104\n"
     ]
    },
    {
     "name": "stderr",
     "output_type": "stream",
     "text": [
      "\n",
      " 53%|█████▎    | 111/209 [00:01<00:01, 85.82it/s]\u001b[A\n",
      " 59%|█████▉    | 123/209 [00:01<00:00, 92.46it/s]\u001b[A"
     ]
    },
    {
     "name": "stdout",
     "output_type": "stream",
     "text": [
      "0.9423076923076923\n",
      "0.9257142857142857\n",
      "1.0\n",
      "0.9666666666666667\n",
      "0.9375\n",
      "0.9666666666666667\n",
      "0.9545454545454546\n",
      "0.9375\n",
      "0.888888888888889\n",
      "0.8205128205128205\n",
      "0.75\n",
      "0.6\n",
      "0.888888888888889\n",
      "0.20833333333333331\n",
      "0.380952380952381\n",
      "0.625\n",
      "0.40625\n",
      "0.2666666666666667\n",
      "0.29166666666666663\n",
      "0.25\n",
      "0.5\n"
     ]
    },
    {
     "name": "stderr",
     "output_type": "stream",
     "text": [
      "\n",
      " 64%|██████▎   | 133/209 [00:01<00:00, 89.66it/s]\u001b[A\n",
      " 69%|██████▉   | 144/209 [00:01<00:00, 91.13it/s]\u001b[A"
     ]
    },
    {
     "name": "stdout",
     "output_type": "stream",
     "text": [
      "0.3888888888888889\n",
      "0.1785714285714286\n",
      "0.0\n",
      "0.5\n",
      "0.625\n",
      "0.888888888888889\n",
      "0.6666666666666667\n",
      "0.5\n",
      "0.888888888888889\n",
      "0.85\n",
      "0.55\n",
      "0.7333333333333333\n",
      "0.8\n",
      "0.5555555555555556\n",
      "0.5333333333333333\n",
      "0.888888888888889\n",
      "0.888888888888889\n",
      "0.5927975326560233\n"
     ]
    },
    {
     "name": "stderr",
     "output_type": "stream",
     "text": [
      "\n",
      " 75%|███████▍  | 156/209 [00:01<00:00, 98.11it/s]\u001b[A\n",
      " 80%|████████  | 168/209 [00:01<00:00, 101.81it/s]\u001b[A"
     ]
    },
    {
     "name": "stdout",
     "output_type": "stream",
     "text": [
      "0.6\n",
      "1.0\n",
      "0.6296296296296297\n",
      "0.5833333333333333\n",
      "0.5666666666666667\n",
      "0.7\n",
      "0.4545454545454546\n",
      "0.5643695296720208\n",
      "0.811965811965812\n",
      "0.5248957850856877\n",
      "0.6754115226337448\n",
      "0.6428571428571428\n",
      "0.6666666666666667\n",
      "0.5331341407983744\n",
      "0.4469178082191781\n",
      "0.5032168706996694\n",
      "0.5592592592592593\n",
      "0.6045918367346939\n",
      "0.5208333333333334\n",
      "0.8088235294117646\n",
      "0.7342133913990201\n",
      "0.3125\n",
      "0.5625\n",
      "0.5476654910895415\n",
      "0.7291149710504549\n",
      "0.7083333333333333\n",
      "0.657051282051282\n",
      "0.2916666666666667\n"
     ]
    },
    {
     "name": "stderr",
     "output_type": "stream",
     "text": [
      "\n",
      " 86%|████████▌ | 179/209 [00:02<00:00, 67.88it/s] \u001b[A\n",
      " 91%|█████████▏| 191/209 [00:02<00:00, 77.53it/s]\u001b[A"
     ]
    },
    {
     "name": "stdout",
     "output_type": "stream",
     "text": [
      "0.7092384519350812\n",
      "0.5068493150684932\n",
      "0.42519219396806623\n",
      "0.403954802259887\n",
      "0.6576086956521741\n",
      "0.6944444444444444\n",
      "0.8163997330663998\n",
      "0.7829131652661063\n",
      "0.505561440677966\n",
      "0.375\n",
      "0.36075471698113204\n",
      "0.5532069970845481\n",
      "0.5\n",
      "0.6178861788617886\n",
      "0.7333333333333333\n",
      "0.3241626794258373\n",
      "0.772529069767442\n",
      "0.6013313609467456\n",
      "0.08064516129032256\n",
      "0.6666666666666667\n"
     ]
    },
    {
     "name": "stderr",
     "output_type": "stream",
     "text": [
      "\n",
      " 96%|█████████▌| 201/209 [00:02<00:00, 71.18it/s]\u001b[A"
     ]
    },
    {
     "name": "stdout",
     "output_type": "stream",
     "text": [
      "0.625\n",
      "0.11111111111111116\n",
      "0.5377777777777777\n",
      "0.6833333333333333\n",
      "0.33333333333333337\n",
      "0.57981220657277\n",
      "0.7689393939393939\n",
      "0.3636363636363637\n",
      "0.367965367965368\n",
      "0.6079545454545454\n",
      "0.25\n",
      "1.0\n"
     ]
    },
    {
     "name": "stderr",
     "output_type": "stream",
     "text": [
      "100%|██████████| 209/209 [00:02<00:00, 82.54it/s]\n",
      "3it [00:08,  2.79s/it]"
     ]
    },
    {
     "name": "stdout",
     "output_type": "stream",
     "text": [
      "0.5588235294117647\n",
      "0.5856774078689693\n"
     ]
    },
    {
     "name": "stderr",
     "output_type": "stream",
     "text": [
      "\n"
     ]
    },
    {
     "data": {
      "text/html": [
       "<div>\n",
       "<style scoped>\n",
       "    .dataframe tbody tr th:only-of-type {\n",
       "        vertical-align: middle;\n",
       "    }\n",
       "\n",
       "    .dataframe tbody tr th {\n",
       "        vertical-align: top;\n",
       "    }\n",
       "\n",
       "    .dataframe thead th {\n",
       "        text-align: right;\n",
       "    }\n",
       "</style>\n",
       "<table border=\"1\" class=\"dataframe\">\n",
       "  <thead>\n",
       "    <tr style=\"text-align: right;\">\n",
       "      <th></th>\n",
       "      <th>Fold</th>\n",
       "      <th>Task</th>\n",
       "      <th>AUC</th>\n",
       "    </tr>\n",
       "  </thead>\n",
       "  <tbody>\n",
       "    <tr>\n",
       "      <th>0</th>\n",
       "      <td>1</td>\n",
       "      <td>1</td>\n",
       "      <td>0.634921</td>\n",
       "    </tr>\n",
       "    <tr>\n",
       "      <th>1</th>\n",
       "      <td>1</td>\n",
       "      <td>2</td>\n",
       "      <td>0.295918</td>\n",
       "    </tr>\n",
       "    <tr>\n",
       "      <th>2</th>\n",
       "      <td>1</td>\n",
       "      <td>4</td>\n",
       "      <td>0.307692</td>\n",
       "    </tr>\n",
       "    <tr>\n",
       "      <th>3</th>\n",
       "      <td>1</td>\n",
       "      <td>5</td>\n",
       "      <td>0.566667</td>\n",
       "    </tr>\n",
       "    <tr>\n",
       "      <th>4</th>\n",
       "      <td>1</td>\n",
       "      <td>6</td>\n",
       "      <td>0.402174</td>\n",
       "    </tr>\n",
       "    <tr>\n",
       "      <th>...</th>\n",
       "      <td>...</td>\n",
       "      <td>...</td>\n",
       "      <td>...</td>\n",
       "    </tr>\n",
       "    <tr>\n",
       "      <th>613</th>\n",
       "      <td>3</td>\n",
       "      <td>205</td>\n",
       "      <td>0.607955</td>\n",
       "    </tr>\n",
       "    <tr>\n",
       "      <th>614</th>\n",
       "      <td>3</td>\n",
       "      <td>206</td>\n",
       "      <td>0.250000</td>\n",
       "    </tr>\n",
       "    <tr>\n",
       "      <th>615</th>\n",
       "      <td>3</td>\n",
       "      <td>207</td>\n",
       "      <td>1.000000</td>\n",
       "    </tr>\n",
       "    <tr>\n",
       "      <th>616</th>\n",
       "      <td>3</td>\n",
       "      <td>208</td>\n",
       "      <td>0.558824</td>\n",
       "    </tr>\n",
       "    <tr>\n",
       "      <th>617</th>\n",
       "      <td>3</td>\n",
       "      <td>209</td>\n",
       "      <td>0.585677</td>\n",
       "    </tr>\n",
       "  </tbody>\n",
       "</table>\n",
       "<p>618 rows × 3 columns</p>\n",
       "</div>"
      ],
      "text/plain": [
       "    Fold Task       AUC\n",
       "0      1    1  0.634921\n",
       "1      1    2  0.295918\n",
       "2      1    4  0.307692\n",
       "3      1    5  0.566667\n",
       "4      1    6  0.402174\n",
       "..   ...  ...       ...\n",
       "613    3  205  0.607955\n",
       "614    3  206  0.250000\n",
       "615    3  207  1.000000\n",
       "616    3  208  0.558824\n",
       "617    3  209  0.585677\n",
       "\n",
       "[618 rows x 3 columns]"
      ]
     },
     "execution_count": 93,
     "metadata": {},
     "output_type": "execute_result"
    }
   ],
   "source": [
    "import numpy as np\n",
    "from sklearn.metrics import roc_auc_score\n",
    "from xgboost import XGBClassifier\n",
    "from sklearn.tree import DecisionTreeClassifier\n",
    "import pandas as pd\n",
    "from tqdm import tqdm\n",
    "import matplotlib.pyplot as plt\n",
    "from sklearn.utils import class_weight\n",
    "from sklearn.model_selection import GridSearchCV\n",
    "from sklearn.model_selection import RandomizedSearchCV\n",
    "from sklearn.model_selection import RandomizedSearchCV, StratifiedKFold\n",
    "\n",
    "missing_value_indicator = -1\n",
    "\n",
    "# Initialize a list to store AUC scores for all folds\n",
    "all_auc_scores = []\n",
    "\n",
    "# Initialize an empty list to hold models for each fold\n",
    "models_per_fold = []\n",
    "\n",
    "# Define the fold indices (adjust based on your data split)\n",
    "folds = [\"1\", \"2\", \"3\"]\n",
    "\n",
    "best_clf = XGBClassifier(use_label_encoder=False, eval_metric='logloss', random_state=42, n_jobs=-1)\n",
    "\n",
    "# Loop through each fold, leaving it out as the test set and training on the others\n",
    "for fold in tqdm(folds):\n",
    "    \n",
    "    if(best_clf):      \n",
    "        del(best_clf)\n",
    "        \n",
    "    # Initialize lists to store data for the current fold's training set\n",
    "    X_train_combined = pd.DataFrame()\n",
    "    y_train_combined = pd.Series()\n",
    "\n",
    "    #Train on all folds except the current one\n",
    "    train_data, _ = load_and_preprocess_data(fold)\n",
    "\n",
    "    # Loop through all assays and collect data\n",
    "    for assay in assays_list:\n",
    "        train_data_assay = train_data[train_data[assay]!=-1].reset_index(drop=True)[[assay, \"Cells_Number_Object_Number\"]]\n",
    "\n",
    "        # Append to combined training data\n",
    "        X_train_combined = pd.concat([X_train_combined, train_data_assay[[\"Cells_Number_Object_Number\"]]], axis=0)\n",
    "        y_train_combined = pd.concat([y_train_combined, train_data_assay[assay].astype(int)], axis=0)\n",
    "            \n",
    "    print(len(X_train_combined))\n",
    "    print(len(y_train_combined))\n",
    "\n",
    "    # Calculate class weights (balanced)\n",
    "    class_weights = class_weight.compute_class_weight('balanced', classes=np.unique(y_train_combined), y=y_train_combined)\n",
    "    class_weight_dict = {0: class_weights[0], 1: class_weights[1]}\n",
    "    print(class_weight_dict)\n",
    "    \n",
    "    # Calculate scale_pos_weight based on class weights\n",
    "    scale_pos_weight = class_weight_dict[0] / class_weight_dict[1]\n",
    "    print(\"scale_pos_weight: \", scale_pos_weight)\n",
    "        \n",
    "    # Define the parameter grid with additional hyperparameters and wider ranges\n",
    "    param_grid = {\n",
    "    'max_depth': [3, 5, 7],\n",
    "    'learning_rate': [0.01, 0.1, 0.3],\n",
    "    'n_estimators': [100, 200],\n",
    "    'scale_pos_weight': [scale_pos_weight],\n",
    "    'n_jobs': [-1]\n",
    "    }\n",
    "\n",
    "    # Initialize the XGBoost classifier\n",
    "    xgb_clf = XGBClassifier(use_label_encoder=False, eval_metric='logloss', random_state=42, n_jobs=-1)\n",
    "\n",
    "    stratified_kfold = StratifiedKFold(n_splits=5, shuffle=True, random_state=42)\n",
    "\n",
    "    # Perform RandomizedSearchCV\n",
    "    random_search = RandomizedSearchCV(\n",
    "        estimator=xgb_clf,\n",
    "        param_distributions=param_grid,\n",
    "        n_iter=10,  # Number of parameter settings that are sampled\n",
    "        scoring='f1',  # Metric for imbalanced dataset (you can also try 'roc_auc' or 'average_precision')\n",
    "        cv=stratified_kfold,  # 5-fold cross-validation\n",
    "        n_jobs=-1,  # Use all processors\n",
    "        verbose=1,\n",
    "        random_state=42\n",
    "    )\n",
    "\n",
    "    # Fit the model on training data\n",
    "    random_search.fit(X_train_combined, y_train_combined)\n",
    "\n",
    "    # Best estimator\n",
    "    best_clf = random_search.best_estimator_\n",
    "    print(f\"Best parameters: {random_search.best_params_}\")\n",
    "\n",
    "    # Train the model on the combined data from other folds\n",
    "    # clf = XGBClassifier(use_label_encoder=False, eval_metric='logloss', random_state=42, n_jobs=-1)\n",
    "    best_clf.fit(X_train_combined, y_train_combined)\n",
    "       \n",
    "    # Store the trained model\n",
    "    models_per_fold.append(best_clf)\n",
    "\n",
    "# Predict for each individual fold using the corresponding model\n",
    "for idx, fold in tqdm(enumerate(folds)):\n",
    "    \n",
    "    # Load and preprocess data for the current test fold\n",
    "    _, test_data = load_and_preprocess_data(fold)\n",
    "    \n",
    "    # Get the trained model for this fold (trained on other folds)\n",
    "    clf = models_per_fold[idx]\n",
    "    \n",
    "    # Loop through each assay in the test set for the current fold\n",
    "    for assay in tqdm(assays_list):\n",
    "        test_data_assay = test_data[test_data[assay]!=-1].reset_index(drop=True)[[assay, \"Cells_Number_Object_Number\"]]\n",
    "        \n",
    "        # Separate features and target variable\n",
    "        X_test = test_data_assay[[\"Cells_Number_Object_Number\"]]\n",
    "        y_test = test_data_assay[assay].astype(int)\n",
    "\n",
    "        if len(y_test) == 0:\n",
    "            print(f\"Skipping assay {assay} in fold {fold} due to no test data\")\n",
    "            continue\n",
    "        \n",
    "        # Make predictions using the model for the current fold\n",
    "        y_pred = clf.predict(X_test)\n",
    "        y_pred_proba = clf.predict_proba(X_test)[:, 1]\n",
    "\n",
    "        # Calculate AUC score\n",
    "        auc_score = np.nan    \n",
    "        try:\n",
    "            auc_score = roc_auc_score(y_test, y_pred_proba)\n",
    "        except:\n",
    "            continue\n",
    "        print(auc_score)\n",
    "\n",
    "        # Store the AUC score along with fold and assay information\n",
    "        all_auc_scores.append({\"Fold\": fold, \"Task\": assay, \"AUC\": auc_score})\n",
    "\n",
    "# Convert the AUC results to a DataFrame for convenience\n",
    "auc_df = pd.DataFrame(all_auc_scores)\n",
    "\n",
    "# Save the DataFrame to a CSV file\n",
    "auc_df.to_csv(\"auc_scores_across_folds.csv\", index=False)\n",
    "\n",
    "# Display the AUC DataFrame\n",
    "auc_df\n"
   ]
  },
  {
   "cell_type": "code",
   "execution_count": 125,
   "id": "49ccda14-d6f7-4a5b-9477-df0722f207be",
   "metadata": {},
   "outputs": [
    {
     "data": {
      "text/html": [
       "<div>\n",
       "<style scoped>\n",
       "    .dataframe tbody tr th:only-of-type {\n",
       "        vertical-align: middle;\n",
       "    }\n",
       "\n",
       "    .dataframe tbody tr th {\n",
       "        vertical-align: top;\n",
       "    }\n",
       "\n",
       "    .dataframe thead th {\n",
       "        text-align: right;\n",
       "    }\n",
       "</style>\n",
       "<table border=\"1\" class=\"dataframe\">\n",
       "  <thead>\n",
       "    <tr style=\"text-align: right;\">\n",
       "      <th></th>\n",
       "      <th>Task</th>\n",
       "      <th>AUC</th>\n",
       "    </tr>\n",
       "  </thead>\n",
       "  <tbody>\n",
       "    <tr>\n",
       "      <th>0</th>\n",
       "      <td>1</td>\n",
       "      <td>0.461357</td>\n",
       "    </tr>\n",
       "    <tr>\n",
       "      <th>1</th>\n",
       "      <td>10</td>\n",
       "      <td>0.455556</td>\n",
       "    </tr>\n",
       "    <tr>\n",
       "      <th>2</th>\n",
       "      <td>100</td>\n",
       "      <td>0.939275</td>\n",
       "    </tr>\n",
       "    <tr>\n",
       "      <th>3</th>\n",
       "      <td>101</td>\n",
       "      <td>0.925217</td>\n",
       "    </tr>\n",
       "    <tr>\n",
       "      <th>4</th>\n",
       "      <td>102</td>\n",
       "      <td>0.869755</td>\n",
       "    </tr>\n",
       "    <tr>\n",
       "      <th>...</th>\n",
       "      <td>...</td>\n",
       "      <td>...</td>\n",
       "    </tr>\n",
       "    <tr>\n",
       "      <th>204</th>\n",
       "      <td>95</td>\n",
       "      <td>0.939078</td>\n",
       "    </tr>\n",
       "    <tr>\n",
       "      <th>205</th>\n",
       "      <td>96</td>\n",
       "      <td>0.918182</td>\n",
       "    </tr>\n",
       "    <tr>\n",
       "      <th>206</th>\n",
       "      <td>97</td>\n",
       "      <td>0.935185</td>\n",
       "    </tr>\n",
       "    <tr>\n",
       "      <th>207</th>\n",
       "      <td>98</td>\n",
       "      <td>0.936182</td>\n",
       "    </tr>\n",
       "    <tr>\n",
       "      <th>208</th>\n",
       "      <td>99</td>\n",
       "      <td>0.924457</td>\n",
       "    </tr>\n",
       "  </tbody>\n",
       "</table>\n",
       "<p>209 rows × 2 columns</p>\n",
       "</div>"
      ],
      "text/plain": [
       "    Task       AUC\n",
       "0      1  0.461357\n",
       "1     10  0.455556\n",
       "2    100  0.939275\n",
       "3    101  0.925217\n",
       "4    102  0.869755\n",
       "..   ...       ...\n",
       "204   95  0.939078\n",
       "205   96  0.918182\n",
       "206   97  0.935185\n",
       "207   98  0.936182\n",
       "208   99  0.924457\n",
       "\n",
       "[209 rows x 2 columns]"
      ]
     },
     "execution_count": 125,
     "metadata": {},
     "output_type": "execute_result"
    }
   ],
   "source": [
    "mean_auc = auc_df.groupby(\"Task\").mean().reset_index(drop=False)\n",
    "mean_auc"
   ]
  },
  {
   "cell_type": "code",
   "execution_count": 126,
   "id": "f066c827-9845-42ef-94c6-dd660697dbfa",
   "metadata": {},
   "outputs": [
    {
     "data": {
      "text/plain": [
       "0"
      ]
     },
     "execution_count": 126,
     "metadata": {},
     "output_type": "execute_result"
    }
   ],
   "source": [
    "len(mean_auc[mean_auc[\"AUC\"]==1])\n"
   ]
  },
  {
   "cell_type": "code",
   "execution_count": 127,
   "id": "9a83ac10-8cbc-4a37-9d4c-7b011b34d7db",
   "metadata": {},
   "outputs": [
    {
     "data": {
      "text/plain": [
       "53"
      ]
     },
     "execution_count": 127,
     "metadata": {},
     "output_type": "execute_result"
    }
   ],
   "source": [
    "len(mean_auc[mean_auc[\"AUC\"]>0.90])"
   ]
  },
  {
   "cell_type": "code",
   "execution_count": 128,
   "id": "28a39adf-8ccc-4b86-a969-55e715846ecf",
   "metadata": {},
   "outputs": [
    {
     "data": {
      "text/plain": [
       "68"
      ]
     },
     "execution_count": 128,
     "metadata": {},
     "output_type": "execute_result"
    }
   ],
   "source": [
    "len(mean_auc[mean_auc[\"AUC\"]>0.80])"
   ]
  },
  {
   "cell_type": "code",
   "execution_count": 129,
   "id": "9cc7ab9b-27a4-43f0-bc83-6047d2a973de",
   "metadata": {},
   "outputs": [
    {
     "data": {
      "text/plain": [
       "89"
      ]
     },
     "execution_count": 129,
     "metadata": {},
     "output_type": "execute_result"
    }
   ],
   "source": [
    "len(mean_auc[mean_auc[\"AUC\"]>0.70])"
   ]
  },
  {
   "cell_type": "code",
   "execution_count": 130,
   "id": "e027a4cd-ebdc-40fd-8008-f2d7e250baf1",
   "metadata": {},
   "outputs": [
    {
     "data": {
      "text/plain": [
       "115"
      ]
     },
     "execution_count": 130,
     "metadata": {},
     "output_type": "execute_result"
    }
   ],
   "source": [
    "len(mean_auc[mean_auc[\"AUC\"]>0.60])"
   ]
  },
  {
   "cell_type": "code",
   "execution_count": 131,
   "id": "7a2cad2a-ca94-47f2-a0fd-16fae75dd03d",
   "metadata": {},
   "outputs": [
    {
     "data": {
      "text/plain": [
       "157"
      ]
     },
     "execution_count": 131,
     "metadata": {},
     "output_type": "execute_result"
    }
   ],
   "source": [
    "len(mean_auc[mean_auc[\"AUC\"]>0.50])"
   ]
  },
  {
   "cell_type": "code",
   "execution_count": 132,
   "id": "6a29c422-9b30-4bd2-80f3-779c438cce50",
   "metadata": {},
   "outputs": [
    {
     "data": {
      "text/plain": [
       "Task        inf\n",
       "AUC     0.66309\n",
       "dtype: float64"
      ]
     },
     "execution_count": 132,
     "metadata": {},
     "output_type": "execute_result"
    }
   ],
   "source": [
    "mean_auc.mean()"
   ]
  },
  {
   "cell_type": "code",
   "execution_count": 133,
   "id": "b1f6aee3-e919-4c92-9b2c-9f99a93ba1a7",
   "metadata": {},
   "outputs": [
    {
     "name": "stderr",
     "output_type": "stream",
     "text": [
      "/opt/tljh/user/lib/python3.7/site-packages/ipykernel_launcher.py:1: FutureWarning: Dropping of nuisance columns in DataFrame reductions (with 'numeric_only=None') is deprecated; in a future version this will raise TypeError.  Select only valid columns before calling the reduction.\n",
      "  \"\"\"Entry point for launching an IPython kernel.\n"
     ]
    },
    {
     "data": {
      "text/plain": [
       "AUC    0.216629\n",
       "dtype: float64"
      ]
     },
     "execution_count": 133,
     "metadata": {},
     "output_type": "execute_result"
    }
   ],
   "source": [
    "mean_auc.std()"
   ]
  },
  {
   "cell_type": "code",
   "execution_count": 134,
   "id": "71ae015f-0339-493f-94e5-a1011fdf446d",
   "metadata": {},
   "outputs": [],
   "source": [
    "mean_auc.to_csv(\"scaffold_mean_AUCSeal.csv\")"
   ]
  },
  {
   "cell_type": "code",
   "execution_count": 135,
   "id": "7fc0b2f9-27ce-4a38-81e7-acc64be83e02",
   "metadata": {},
   "outputs": [],
   "source": [
    "median_auc = auc_df.groupby(\"Task\").median().reset_index(drop=False)\n",
    "median_auc.to_csv(\"scaffold_median_AUCSeal.csv\")"
   ]
  },
  {
   "cell_type": "code",
   "execution_count": 136,
   "id": "75185969-2806-41e7-8a32-2fac15603969",
   "metadata": {},
   "outputs": [
    {
     "data": {
      "text/plain": [
       "1"
      ]
     },
     "execution_count": 136,
     "metadata": {},
     "output_type": "execute_result"
    }
   ],
   "source": [
    "len(median_auc[median_auc[\"AUC\"]==1])"
   ]
  },
  {
   "cell_type": "code",
   "execution_count": 137,
   "id": "7611bb22-6db8-4ad4-8e6f-80e48cd09fb4",
   "metadata": {},
   "outputs": [
    {
     "data": {
      "text/plain": [
       "57"
      ]
     },
     "execution_count": 137,
     "metadata": {},
     "output_type": "execute_result"
    }
   ],
   "source": [
    "len(median_auc[median_auc[\"AUC\"]>0.90])"
   ]
  },
  {
   "cell_type": "code",
   "execution_count": 138,
   "id": "410cec70-5ed4-4ef1-9520-9ba1a25c74ec",
   "metadata": {},
   "outputs": [
    {
     "data": {
      "text/plain": [
       "88"
      ]
     },
     "execution_count": 138,
     "metadata": {},
     "output_type": "execute_result"
    }
   ],
   "source": [
    "len(median_auc[median_auc[\"AUC\"]>0.70])"
   ]
  },
  {
   "cell_type": "code",
   "execution_count": 139,
   "id": "e6482d2b-8186-4e05-9973-2d9d32cc16c0",
   "metadata": {},
   "outputs": [
    {
     "data": {
      "text/plain": [
       "152"
      ]
     },
     "execution_count": 139,
     "metadata": {},
     "output_type": "execute_result"
    }
   ],
   "source": [
    "len(median_auc[median_auc[\"AUC\"]>0.50])"
   ]
  },
  {
   "cell_type": "code",
   "execution_count": null,
   "id": "10d2e5bf-3481-4613-99ee-f7eca1b79db5",
   "metadata": {},
   "outputs": [],
   "source": []
  },
  {
   "cell_type": "code",
   "execution_count": null,
   "id": "df7f2127-e0cd-42f0-8f75-84f156d4439e",
   "metadata": {},
   "outputs": [],
   "source": []
  },
  {
   "cell_type": "code",
   "execution_count": null,
   "id": "32ba1bcd-5451-435e-bef1-06edb45bd4db",
   "metadata": {},
   "outputs": [],
   "source": []
  }
 ],
 "metadata": {
  "kernelspec": {
   "display_name": "Python 3",
   "language": "python",
   "name": "python3"
  },
  "language_info": {
   "codemirror_mode": {
    "name": "ipython",
    "version": 3
   },
   "file_extension": ".py",
   "mimetype": "text/x-python",
   "name": "python",
   "nbconvert_exporter": "python",
   "pygments_lexer": "ipython3",
   "version": "3.7.16"
  }
 },
 "nbformat": 4,
 "nbformat_minor": 5
}
