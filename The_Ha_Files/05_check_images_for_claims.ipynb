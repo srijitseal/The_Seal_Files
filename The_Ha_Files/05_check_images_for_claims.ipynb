{
 "cells": [
  {
   "cell_type": "code",
   "execution_count": 3,
   "id": "a5beaafc-75a0-49d5-9b0a-ab34c7e66ff8",
   "metadata": {},
   "outputs": [],
   "source": [
    "import pandas as pd"
   ]
  },
  {
   "cell_type": "code",
   "execution_count": 4,
   "id": "edeb2805-ace1-48e1-b020-15e54945e468",
   "metadata": {},
   "outputs": [],
   "source": [
    "cell_viability_task = \"845173\""
   ]
  },
  {
   "cell_type": "code",
   "execution_count": null,
   "id": "a106e2a3-84b2-47f6-8920-ebf8c91ca845",
   "metadata": {},
   "outputs": [],
   "source": []
  },
  {
   "cell_type": "code",
   "execution_count": 9,
   "id": "a07b6307-9fa8-4d61-83a6-22cd7c87c49a",
   "metadata": {},
   "outputs": [
    {
     "data": {
      "text/html": [
       "<div>\n",
       "<style scoped>\n",
       "    .dataframe tbody tr th:only-of-type {\n",
       "        vertical-align: middle;\n",
       "    }\n",
       "\n",
       "    .dataframe tbody tr th {\n",
       "        vertical-align: top;\n",
       "    }\n",
       "\n",
       "    .dataframe thead th {\n",
       "        text-align: right;\n",
       "    }\n",
       "</style>\n",
       "<table border=\"1\" class=\"dataframe\">\n",
       "  <thead>\n",
       "    <tr style=\"text-align: right;\">\n",
       "      <th></th>\n",
       "      <th>InChIKey</th>\n",
       "      <th>845173</th>\n",
       "    </tr>\n",
       "  </thead>\n",
       "  <tbody>\n",
       "    <tr>\n",
       "      <th>20</th>\n",
       "      <td>AKJHMTWEGVYYSE-FXILSDISSA-N</td>\n",
       "      <td>1</td>\n",
       "    </tr>\n",
       "    <tr>\n",
       "      <th>37</th>\n",
       "      <td>ZEWQUBUPAILYHI-UHFFFAOYSA-N</td>\n",
       "      <td>1</td>\n",
       "    </tr>\n",
       "    <tr>\n",
       "      <th>65</th>\n",
       "      <td>PHVGLTMQBUFIQQ-UHFFFAOYSA-N</td>\n",
       "      <td>1</td>\n",
       "    </tr>\n",
       "    <tr>\n",
       "      <th>99</th>\n",
       "      <td>KKZJGLLVHKMTCM-UHFFFAOYSA-N</td>\n",
       "      <td>1</td>\n",
       "    </tr>\n",
       "    <tr>\n",
       "      <th>134</th>\n",
       "      <td>GZUITABIAKMVPG-UHFFFAOYSA-N</td>\n",
       "      <td>1</td>\n",
       "    </tr>\n",
       "    <tr>\n",
       "      <th>...</th>\n",
       "      <td>...</td>\n",
       "      <td>...</td>\n",
       "    </tr>\n",
       "    <tr>\n",
       "      <th>9772</th>\n",
       "      <td>YXMZKKBYJQSMSA-STXHMFSFSA-N</td>\n",
       "      <td>1</td>\n",
       "    </tr>\n",
       "    <tr>\n",
       "      <th>9777</th>\n",
       "      <td>AXBJPSYRCLUHNL-GTEDWBNGSA-N</td>\n",
       "      <td>1</td>\n",
       "    </tr>\n",
       "    <tr>\n",
       "      <th>9782</th>\n",
       "      <td>YAZCQYURBLEIHO-IWHLBADBSA-N</td>\n",
       "      <td>1</td>\n",
       "    </tr>\n",
       "    <tr>\n",
       "      <th>9785</th>\n",
       "      <td>AXBJPSYRCLUHNL-HSFWNXDSSA-N</td>\n",
       "      <td>1</td>\n",
       "    </tr>\n",
       "    <tr>\n",
       "      <th>9817</th>\n",
       "      <td>OOYLJRYZMKTJGR-MRJKTFCFSA-N</td>\n",
       "      <td>1</td>\n",
       "    </tr>\n",
       "  </tbody>\n",
       "</table>\n",
       "<p>151 rows × 2 columns</p>\n",
       "</div>"
      ],
      "text/plain": [
       "                         InChIKey  845173\n",
       "20    AKJHMTWEGVYYSE-FXILSDISSA-N       1\n",
       "37    ZEWQUBUPAILYHI-UHFFFAOYSA-N       1\n",
       "65    PHVGLTMQBUFIQQ-UHFFFAOYSA-N       1\n",
       "99    KKZJGLLVHKMTCM-UHFFFAOYSA-N       1\n",
       "134   GZUITABIAKMVPG-UHFFFAOYSA-N       1\n",
       "...                           ...     ...\n",
       "9772  YXMZKKBYJQSMSA-STXHMFSFSA-N       1\n",
       "9777  AXBJPSYRCLUHNL-GTEDWBNGSA-N       1\n",
       "9782  YAZCQYURBLEIHO-IWHLBADBSA-N       1\n",
       "9785  AXBJPSYRCLUHNL-HSFWNXDSSA-N       1\n",
       "9817  OOYLJRYZMKTJGR-MRJKTFCFSA-N       1\n",
       "\n",
       "[151 rows x 2 columns]"
      ]
     },
     "execution_count": 9,
     "metadata": {},
     "output_type": "execute_result"
    }
   ],
   "source": [
    "df = pd.read_csv('CP_count_Ha.csv')\n",
    "df = df[[\"InChIKey\", cell_viability_task]]\n",
    "df = df[df[\"845173\"]==1]\n",
    "df"
   ]
  },
  {
   "cell_type": "code",
   "execution_count": null,
   "id": "b91db921-6e5c-488a-aa3d-92f888d808d2",
   "metadata": {},
   "outputs": [],
   "source": []
  }
 ],
 "metadata": {
  "kernelspec": {
   "display_name": "Python 3",
   "language": "python",
   "name": "python3"
  },
  "language_info": {
   "codemirror_mode": {
    "name": "ipython",
    "version": 3
   },
   "file_extension": ".py",
   "mimetype": "text/x-python",
   "name": "python",
   "nbconvert_exporter": "python",
   "pygments_lexer": "ipython3",
   "version": "3.7.16"
  }
 },
 "nbformat": 4,
 "nbformat_minor": 5
}
