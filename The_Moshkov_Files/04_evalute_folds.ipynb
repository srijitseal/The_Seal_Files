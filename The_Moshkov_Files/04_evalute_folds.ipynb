{
 "cells": [
  {
   "cell_type": "code",
   "execution_count": 2,
   "id": "87319b69-a619-4158-91fb-2842837d595c",
   "metadata": {},
   "outputs": [],
   "source": [
    "import pandas as pd\n",
    "from sklearn.metrics import roc_auc_score\n",
    "\n",
    "import numpy as np\n",
    "\n"
   ]
  },
  {
   "cell_type": "code",
   "execution_count": 3,
   "id": "5952a26e-a625-40f7-9c54-d61da910800e",
   "metadata": {},
   "outputs": [
    {
     "data": {
      "text/html": [
       "<div>\n",
       "<style scoped>\n",
       "    .dataframe tbody tr th:only-of-type {\n",
       "        vertical-align: middle;\n",
       "    }\n",
       "\n",
       "    .dataframe tbody tr th {\n",
       "        vertical-align: top;\n",
       "    }\n",
       "\n",
       "    .dataframe thead th {\n",
       "        text-align: right;\n",
       "    }\n",
       "</style>\n",
       "<table border=\"1\" class=\"dataframe\">\n",
       "  <thead>\n",
       "    <tr style=\"text-align: right;\">\n",
       "      <th></th>\n",
       "      <th>Fold</th>\n",
       "      <th>Task</th>\n",
       "      <th>AUC</th>\n",
       "    </tr>\n",
       "  </thead>\n",
       "  <tbody>\n",
       "    <tr>\n",
       "      <th>0</th>\n",
       "      <td>0</td>\n",
       "      <td>1_1</td>\n",
       "      <td>0.857143</td>\n",
       "    </tr>\n",
       "    <tr>\n",
       "      <th>1</th>\n",
       "      <td>0</td>\n",
       "      <td>10_19</td>\n",
       "      <td>NaN</td>\n",
       "    </tr>\n",
       "    <tr>\n",
       "      <th>2</th>\n",
       "      <td>0</td>\n",
       "      <td>10_20</td>\n",
       "      <td>NaN</td>\n",
       "    </tr>\n",
       "    <tr>\n",
       "      <th>3</th>\n",
       "      <td>0</td>\n",
       "      <td>100_277</td>\n",
       "      <td>0.375000</td>\n",
       "    </tr>\n",
       "    <tr>\n",
       "      <th>4</th>\n",
       "      <td>0</td>\n",
       "      <td>100_278</td>\n",
       "      <td>0.642857</td>\n",
       "    </tr>\n",
       "    <tr>\n",
       "      <th>...</th>\n",
       "      <td>...</td>\n",
       "      <td>...</td>\n",
       "      <td>...</td>\n",
       "    </tr>\n",
       "    <tr>\n",
       "      <th>1345</th>\n",
       "      <td>4</td>\n",
       "      <td>9_18</td>\n",
       "      <td>0.300000</td>\n",
       "    </tr>\n",
       "    <tr>\n",
       "      <th>1346</th>\n",
       "      <td>4</td>\n",
       "      <td>90_256</td>\n",
       "      <td>0.035714</td>\n",
       "    </tr>\n",
       "    <tr>\n",
       "      <th>1347</th>\n",
       "      <td>4</td>\n",
       "      <td>91_257</td>\n",
       "      <td>1.000000</td>\n",
       "    </tr>\n",
       "    <tr>\n",
       "      <th>1348</th>\n",
       "      <td>4</td>\n",
       "      <td>92_258</td>\n",
       "      <td>1.000000</td>\n",
       "    </tr>\n",
       "    <tr>\n",
       "      <th>1349</th>\n",
       "      <td>4</td>\n",
       "      <td>93_259</td>\n",
       "      <td>0.616667</td>\n",
       "    </tr>\n",
       "  </tbody>\n",
       "</table>\n",
       "<p>1350 rows × 3 columns</p>\n",
       "</div>"
      ],
      "text/plain": [
       "      Fold     Task       AUC\n",
       "0        0      1_1  0.857143\n",
       "1        0    10_19       NaN\n",
       "2        0    10_20       NaN\n",
       "3        0  100_277  0.375000\n",
       "4        0  100_278  0.642857\n",
       "...    ...      ...       ...\n",
       "1345     4     9_18  0.300000\n",
       "1346     4   90_256  0.035714\n",
       "1347     4   91_257  1.000000\n",
       "1348     4   92_258  1.000000\n",
       "1349     4   93_259  0.616667\n",
       "\n",
       "[1350 rows x 3 columns]"
      ]
     },
     "execution_count": 3,
     "metadata": {},
     "output_type": "execute_result"
    }
   ],
   "source": [
    "import pandas as pd\n",
    "from sklearn.metrics import roc_auc_score\n",
    "import numpy as np\n",
    "\n",
    "# Initialize a list to store AUC scores for all folds\n",
    "all_auc_scores = []\n",
    "\n",
    "for fold in range(0, 5):\n",
    "    predictions = pd.read_csv(f\"predictions_fold_{fold}.csv\")\n",
    "    y_test = pd.read_csv(f\"y_test_fold_{fold}.csv\")\n",
    "    \n",
    "    # Compute AUC for each task\n",
    "    for column in y_test.columns:\n",
    "        # Get the predictions and true values for the current task\n",
    "        y_true = y_test[column].values\n",
    "        y_pred = predictions[column].values\n",
    "\n",
    "        # Filter out -1 values\n",
    "        valid_indices = y_true != -1\n",
    "        y_true_valid = y_true[valid_indices]\n",
    "        y_pred_valid = y_pred[valid_indices]\n",
    "\n",
    "        # Compute AUC if there are valid data points\n",
    "        if len(y_true_valid) > 0 and len(np.unique(y_true_valid)) > 1:\n",
    "            auc = roc_auc_score(y_true_valid, y_pred_valid)\n",
    "        else:\n",
    "            auc = np.nan  # Not enough data to compute AUC\n",
    "\n",
    "        all_auc_scores.append({\"Fold\": fold, \"Task\": column, \"AUC\": auc})\n",
    "\n",
    "# Convert to DataFrame for convenience\n",
    "auc_df = pd.DataFrame(all_auc_scores)\n",
    "\n",
    "# Save the DataFrame to a CSV file if needed\n",
    "auc_df.to_csv(\"auc_scores_across_folds.csv\", index=False)\n",
    "auc_df"
   ]
  },
  {
   "cell_type": "code",
   "execution_count": 12,
   "id": "69ba756a-bc21-4000-abd5-22dc88368f0b",
   "metadata": {},
   "outputs": [
    {
     "data": {
      "text/html": [
       "<div>\n",
       "<style scoped>\n",
       "    .dataframe tbody tr th:only-of-type {\n",
       "        vertical-align: middle;\n",
       "    }\n",
       "\n",
       "    .dataframe tbody tr th {\n",
       "        vertical-align: top;\n",
       "    }\n",
       "\n",
       "    .dataframe thead th {\n",
       "        text-align: right;\n",
       "    }\n",
       "</style>\n",
       "<table border=\"1\" class=\"dataframe\">\n",
       "  <thead>\n",
       "    <tr style=\"text-align: right;\">\n",
       "      <th></th>\n",
       "      <th>Task</th>\n",
       "      <th>Fold</th>\n",
       "      <th>AUC</th>\n",
       "    </tr>\n",
       "  </thead>\n",
       "  <tbody>\n",
       "    <tr>\n",
       "      <th>0</th>\n",
       "      <td>100_277</td>\n",
       "      <td>2.0</td>\n",
       "      <td>0.651667</td>\n",
       "    </tr>\n",
       "    <tr>\n",
       "      <th>1</th>\n",
       "      <td>100_278</td>\n",
       "      <td>2.0</td>\n",
       "      <td>0.723016</td>\n",
       "    </tr>\n",
       "    <tr>\n",
       "      <th>2</th>\n",
       "      <td>104_289</td>\n",
       "      <td>2.0</td>\n",
       "      <td>0.669231</td>\n",
       "    </tr>\n",
       "    <tr>\n",
       "      <th>3</th>\n",
       "      <td>104_291</td>\n",
       "      <td>2.0</td>\n",
       "      <td>0.760897</td>\n",
       "    </tr>\n",
       "    <tr>\n",
       "      <th>4</th>\n",
       "      <td>104_295</td>\n",
       "      <td>2.0</td>\n",
       "      <td>0.714286</td>\n",
       "    </tr>\n",
       "    <tr>\n",
       "      <th>...</th>\n",
       "      <td>...</td>\n",
       "      <td>...</td>\n",
       "      <td>...</td>\n",
       "    </tr>\n",
       "    <tr>\n",
       "      <th>265</th>\n",
       "      <td>92_258</td>\n",
       "      <td>2.0</td>\n",
       "      <td>0.646429</td>\n",
       "    </tr>\n",
       "    <tr>\n",
       "      <th>266</th>\n",
       "      <td>93_259</td>\n",
       "      <td>2.0</td>\n",
       "      <td>0.506272</td>\n",
       "    </tr>\n",
       "    <tr>\n",
       "      <th>267</th>\n",
       "      <td>9_14</td>\n",
       "      <td>2.0</td>\n",
       "      <td>0.500000</td>\n",
       "    </tr>\n",
       "    <tr>\n",
       "      <th>268</th>\n",
       "      <td>9_17</td>\n",
       "      <td>2.0</td>\n",
       "      <td>1.000000</td>\n",
       "    </tr>\n",
       "    <tr>\n",
       "      <th>269</th>\n",
       "      <td>9_18</td>\n",
       "      <td>2.0</td>\n",
       "      <td>0.433333</td>\n",
       "    </tr>\n",
       "  </tbody>\n",
       "</table>\n",
       "<p>270 rows × 3 columns</p>\n",
       "</div>"
      ],
      "text/plain": [
       "        Task  Fold       AUC\n",
       "0    100_277   2.0  0.651667\n",
       "1    100_278   2.0  0.723016\n",
       "2    104_289   2.0  0.669231\n",
       "3    104_291   2.0  0.760897\n",
       "4    104_295   2.0  0.714286\n",
       "..       ...   ...       ...\n",
       "265   92_258   2.0  0.646429\n",
       "266   93_259   2.0  0.506272\n",
       "267     9_14   2.0  0.500000\n",
       "268     9_17   2.0  1.000000\n",
       "269     9_18   2.0  0.433333\n",
       "\n",
       "[270 rows x 3 columns]"
      ]
     },
     "execution_count": 12,
     "metadata": {},
     "output_type": "execute_result"
    }
   ],
   "source": [
    "mean_auc = auc_df.groupby(\"Task\").mean().reset_index(drop=False)\n",
    "mean_auc"
   ]
  },
  {
   "cell_type": "code",
   "execution_count": 14,
   "id": "2b4cf6df-591f-49cd-a9d3-0532bdb10d04",
   "metadata": {},
   "outputs": [
    {
     "data": {
      "text/html": [
       "<div>\n",
       "<style scoped>\n",
       "    .dataframe tbody tr th:only-of-type {\n",
       "        vertical-align: middle;\n",
       "    }\n",
       "\n",
       "    .dataframe tbody tr th {\n",
       "        vertical-align: top;\n",
       "    }\n",
       "\n",
       "    .dataframe thead th {\n",
       "        text-align: right;\n",
       "    }\n",
       "</style>\n",
       "<table border=\"1\" class=\"dataframe\">\n",
       "  <thead>\n",
       "    <tr style=\"text-align: right;\">\n",
       "      <th></th>\n",
       "      <th>Task</th>\n",
       "      <th>Fold</th>\n",
       "      <th>AUC</th>\n",
       "    </tr>\n",
       "  </thead>\n",
       "  <tbody>\n",
       "    <tr>\n",
       "      <th>43</th>\n",
       "      <td>115_409</td>\n",
       "      <td>2.0</td>\n",
       "      <td>1.0</td>\n",
       "    </tr>\n",
       "    <tr>\n",
       "      <th>63</th>\n",
       "      <td>133_474</td>\n",
       "      <td>2.0</td>\n",
       "      <td>1.0</td>\n",
       "    </tr>\n",
       "    <tr>\n",
       "      <th>65</th>\n",
       "      <td>134_477</td>\n",
       "      <td>2.0</td>\n",
       "      <td>1.0</td>\n",
       "    </tr>\n",
       "    <tr>\n",
       "      <th>96</th>\n",
       "      <td>181_599</td>\n",
       "      <td>2.0</td>\n",
       "      <td>1.0</td>\n",
       "    </tr>\n",
       "    <tr>\n",
       "      <th>97</th>\n",
       "      <td>181_600</td>\n",
       "      <td>2.0</td>\n",
       "      <td>1.0</td>\n",
       "    </tr>\n",
       "    <tr>\n",
       "      <th>131</th>\n",
       "      <td>200_658</td>\n",
       "      <td>2.0</td>\n",
       "      <td>1.0</td>\n",
       "    </tr>\n",
       "    <tr>\n",
       "      <th>221</th>\n",
       "      <td>29_43</td>\n",
       "      <td>2.0</td>\n",
       "      <td>1.0</td>\n",
       "    </tr>\n",
       "    <tr>\n",
       "      <th>244</th>\n",
       "      <td>78_237</td>\n",
       "      <td>2.0</td>\n",
       "      <td>1.0</td>\n",
       "    </tr>\n",
       "    <tr>\n",
       "      <th>268</th>\n",
       "      <td>9_17</td>\n",
       "      <td>2.0</td>\n",
       "      <td>1.0</td>\n",
       "    </tr>\n",
       "  </tbody>\n",
       "</table>\n",
       "</div>"
      ],
      "text/plain": [
       "        Task  Fold  AUC\n",
       "43   115_409   2.0  1.0\n",
       "63   133_474   2.0  1.0\n",
       "65   134_477   2.0  1.0\n",
       "96   181_599   2.0  1.0\n",
       "97   181_600   2.0  1.0\n",
       "131  200_658   2.0  1.0\n",
       "221    29_43   2.0  1.0\n",
       "244   78_237   2.0  1.0\n",
       "268     9_17   2.0  1.0"
      ]
     },
     "execution_count": 14,
     "metadata": {},
     "output_type": "execute_result"
    }
   ],
   "source": [
    "mean_auc[mean_auc[\"AUC\"]==1]"
   ]
  },
  {
   "cell_type": "code",
   "execution_count": 5,
   "id": "2568b123-11e3-47a5-a064-5425e6b88fdb",
   "metadata": {},
   "outputs": [
    {
     "data": {
      "text/plain": [
       "9"
      ]
     },
     "execution_count": 5,
     "metadata": {},
     "output_type": "execute_result"
    }
   ],
   "source": [
    "len(mean_auc[mean_auc[\"AUC\"]==1])"
   ]
  },
  {
   "cell_type": "code",
   "execution_count": 15,
   "id": "5ff894ae-46aa-45ab-89e4-1c6c43bd15aa",
   "metadata": {},
   "outputs": [
    {
     "data": {
      "text/plain": [
       "18"
      ]
     },
     "execution_count": 15,
     "metadata": {},
     "output_type": "execute_result"
    }
   ],
   "source": [
    "len(mean_auc[mean_auc[\"AUC\"]>0.90])"
   ]
  },
  {
   "cell_type": "code",
   "execution_count": 16,
   "id": "6bcc584b-5744-4bd5-8c83-c412e694c049",
   "metadata": {},
   "outputs": [],
   "source": [
    "mean_auc.to_csv(\"scaffold_mean_AUCSeal.csv\")"
   ]
  },
  {
   "cell_type": "code",
   "execution_count": 17,
   "id": "c2db6035-f5bd-4fdd-bc6f-a7bda5935532",
   "metadata": {},
   "outputs": [],
   "source": [
    "median_auc = auc_df.groupby(\"Task\").median().reset_index(drop=False)\n",
    "median_auc.to_csv(\"scaffold_median_AUCSeal.csv\")"
   ]
  },
  {
   "cell_type": "code",
   "execution_count": 18,
   "id": "2eefca44-103b-4e44-90db-5824e1678b3d",
   "metadata": {},
   "outputs": [
    {
     "data": {
      "text/plain": [
       "15"
      ]
     },
     "execution_count": 18,
     "metadata": {},
     "output_type": "execute_result"
    }
   ],
   "source": [
    "len(median_auc[median_auc[\"AUC\"]==1])"
   ]
  },
  {
   "cell_type": "code",
   "execution_count": 19,
   "id": "0236f991-c2b6-411c-ab9f-d11c1ad1c347",
   "metadata": {},
   "outputs": [
    {
     "data": {
      "text/plain": [
       "24"
      ]
     },
     "execution_count": 19,
     "metadata": {},
     "output_type": "execute_result"
    }
   ],
   "source": [
    "len(median_auc[median_auc[\"AUC\"]>0.90])"
   ]
  },
  {
   "cell_type": "code",
   "execution_count": null,
   "id": "3e84ed3e-8486-4a94-beec-23cbd753c273",
   "metadata": {},
   "outputs": [],
   "source": []
  }
 ],
 "metadata": {
  "kernelspec": {
   "display_name": "Python 3",
   "language": "python",
   "name": "python3"
  },
  "language_info": {
   "codemirror_mode": {
    "name": "ipython",
    "version": 3
   },
   "file_extension": ".py",
   "mimetype": "text/x-python",
   "name": "python",
   "nbconvert_exporter": "python",
   "pygments_lexer": "ipython3",
   "version": "3.7.16"
  }
 },
 "nbformat": 4,
 "nbformat_minor": 5
}
