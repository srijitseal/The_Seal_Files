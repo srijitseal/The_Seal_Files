{
 "cells": [
  {
   "cell_type": "code",
   "execution_count": 75,
   "id": "a5beaafc-75a0-49d5-9b0a-ab34c7e66ff8",
   "metadata": {},
   "outputs": [],
   "source": [
    "import pandas as pd"
   ]
  },
  {
   "cell_type": "code",
   "execution_count": 76,
   "id": "167b0205-6143-4166-bfc4-d520f985527f",
   "metadata": {},
   "outputs": [
    {
     "data": {
      "text/html": [
       "<div>\n",
       "<style scoped>\n",
       "    .dataframe tbody tr th:only-of-type {\n",
       "        vertical-align: middle;\n",
       "    }\n",
       "\n",
       "    .dataframe tbody tr th {\n",
       "        vertical-align: top;\n",
       "    }\n",
       "\n",
       "    .dataframe thead th {\n",
       "        text-align: right;\n",
       "    }\n",
       "</style>\n",
       "<table border=\"1\" class=\"dataframe\">\n",
       "  <thead>\n",
       "    <tr style=\"text-align: right;\">\n",
       "      <th></th>\n",
       "      <th>assay_id</th>\n",
       "      <th>auc</th>\n",
       "      <th>descriptor</th>\n",
       "      <th>auc_50</th>\n",
       "      <th>auc_70</th>\n",
       "      <th>auc_90</th>\n",
       "    </tr>\n",
       "  </thead>\n",
       "  <tbody>\n",
       "    <tr>\n",
       "      <th>3801</th>\n",
       "      <td>104_323</td>\n",
       "      <td>1.0</td>\n",
       "      <td>mobc_es_op</td>\n",
       "      <td>True</td>\n",
       "      <td>True</td>\n",
       "      <td>True</td>\n",
       "    </tr>\n",
       "    <tr>\n",
       "      <th>3815</th>\n",
       "      <td>11_22</td>\n",
       "      <td>1.0</td>\n",
       "      <td>mobc_es_op</td>\n",
       "      <td>True</td>\n",
       "      <td>True</td>\n",
       "      <td>True</td>\n",
       "    </tr>\n",
       "    <tr>\n",
       "      <th>3866</th>\n",
       "      <td>17_28</td>\n",
       "      <td>1.0</td>\n",
       "      <td>mobc_es_op</td>\n",
       "      <td>True</td>\n",
       "      <td>True</td>\n",
       "      <td>True</td>\n",
       "    </tr>\n",
       "    <tr>\n",
       "      <th>3870</th>\n",
       "      <td>175_559</td>\n",
       "      <td>1.0</td>\n",
       "      <td>mobc_es_op</td>\n",
       "      <td>True</td>\n",
       "      <td>True</td>\n",
       "      <td>True</td>\n",
       "    </tr>\n",
       "    <tr>\n",
       "      <th>3871</th>\n",
       "      <td>175_561</td>\n",
       "      <td>1.0</td>\n",
       "      <td>mobc_es_op</td>\n",
       "      <td>True</td>\n",
       "      <td>True</td>\n",
       "      <td>True</td>\n",
       "    </tr>\n",
       "    <tr>\n",
       "      <th>4006</th>\n",
       "      <td>37_77</td>\n",
       "      <td>1.0</td>\n",
       "      <td>mobc_es_op</td>\n",
       "      <td>True</td>\n",
       "      <td>True</td>\n",
       "      <td>True</td>\n",
       "    </tr>\n",
       "    <tr>\n",
       "      <th>4010</th>\n",
       "      <td>42_104</td>\n",
       "      <td>1.0</td>\n",
       "      <td>mobc_es_op</td>\n",
       "      <td>True</td>\n",
       "      <td>True</td>\n",
       "      <td>True</td>\n",
       "    </tr>\n",
       "    <tr>\n",
       "      <th>4011</th>\n",
       "      <td>44_106</td>\n",
       "      <td>1.0</td>\n",
       "      <td>mobc_es_op</td>\n",
       "      <td>True</td>\n",
       "      <td>True</td>\n",
       "      <td>True</td>\n",
       "    </tr>\n",
       "    <tr>\n",
       "      <th>4013</th>\n",
       "      <td>49_149</td>\n",
       "      <td>1.0</td>\n",
       "      <td>mobc_es_op</td>\n",
       "      <td>True</td>\n",
       "      <td>True</td>\n",
       "      <td>True</td>\n",
       "    </tr>\n",
       "    <tr>\n",
       "      <th>4023</th>\n",
       "      <td>71_212</td>\n",
       "      <td>1.0</td>\n",
       "      <td>mobc_es_op</td>\n",
       "      <td>True</td>\n",
       "      <td>True</td>\n",
       "      <td>True</td>\n",
       "    </tr>\n",
       "    <tr>\n",
       "      <th>4026</th>\n",
       "      <td>78_237</td>\n",
       "      <td>1.0</td>\n",
       "      <td>mobc_es_op</td>\n",
       "      <td>True</td>\n",
       "      <td>True</td>\n",
       "      <td>True</td>\n",
       "    </tr>\n",
       "    <tr>\n",
       "      <th>4028</th>\n",
       "      <td>8_13</td>\n",
       "      <td>1.0</td>\n",
       "      <td>mobc_es_op</td>\n",
       "      <td>True</td>\n",
       "      <td>True</td>\n",
       "      <td>True</td>\n",
       "    </tr>\n",
       "    <tr>\n",
       "      <th>4043</th>\n",
       "      <td>9_14</td>\n",
       "      <td>1.0</td>\n",
       "      <td>mobc_es_op</td>\n",
       "      <td>True</td>\n",
       "      <td>True</td>\n",
       "      <td>True</td>\n",
       "    </tr>\n",
       "  </tbody>\n",
       "</table>\n",
       "</div>"
      ],
      "text/plain": [
       "     assay_id  auc  descriptor  auc_50  auc_70  auc_90\n",
       "3801  104_323  1.0  mobc_es_op    True    True    True\n",
       "3815    11_22  1.0  mobc_es_op    True    True    True\n",
       "3866    17_28  1.0  mobc_es_op    True    True    True\n",
       "3870  175_559  1.0  mobc_es_op    True    True    True\n",
       "3871  175_561  1.0  mobc_es_op    True    True    True\n",
       "4006    37_77  1.0  mobc_es_op    True    True    True\n",
       "4010   42_104  1.0  mobc_es_op    True    True    True\n",
       "4011   44_106  1.0  mobc_es_op    True    True    True\n",
       "4013   49_149  1.0  mobc_es_op    True    True    True\n",
       "4023   71_212  1.0  mobc_es_op    True    True    True\n",
       "4026   78_237  1.0  mobc_es_op    True    True    True\n",
       "4028     8_13  1.0  mobc_es_op    True    True    True\n",
       "4043     9_14  1.0  mobc_es_op    True    True    True"
      ]
     },
     "execution_count": 101,
     "metadata": {},
     "output_type": "execute_result"
    }
   ],
   "source": [
    "M = pd.read_csv(\"scaffold_median_AUCMoskov.csv\")\n",
    "M = M[M[\"descriptor\"]==\"mobc_es_op\"]\n",
    "M = M[M[\"auc\"]>0.9]\n",
    "M"
   ]
  },
  {
   "cell_type": "code",
   "execution_count": 83,
   "id": "b66327db-81b3-42e3-a0af-e29abbf06b5a",
   "metadata": {},
   "outputs": [
    {
     "data": {
      "text/plain": [
       "13"
      ]
     },
     "execution_count": 102,
     "metadata": {},
     "output_type": "execute_result"
    }
   ],
   "source": [
    "len(M)"
   ]
  },
  {
   "cell_type": "code",
   "execution_count": null,
   "id": "1cbee823-19c6-4fe4-bcfc-481b2e356a5a",
   "metadata": {},
   "outputs": [],
   "source": []
  },
  {
   "cell_type": "code",
   "execution_count": 114,
   "id": "40b39b68-326b-441b-8f74-f0ab1e3f7418",
   "metadata": {},
   "outputs": [
    {
     "data": {
      "text/plain": [
       "['104_323',\n",
       " '175_559',\n",
       " '175_561',\n",
       " '37_77',\n",
       " '17_28',\n",
       " '71_212',\n",
       " '8_13',\n",
       " '44_106',\n",
       " '71_212',\n",
       " '11_22',\n",
       " '49_149',\n",
       " '71_212',\n",
       " '78_237',\n",
       " '9_14',\n",
       " '11_22',\n",
       " '8_13']"
      ]
     },
     "execution_count": 114,
     "metadata": {},
     "output_type": "execute_result"
    }
   ],
   "source": [
    "import pandas as pd\n",
    "\n",
    "# Assuming M and test are defined DataFrames\n",
    "\n",
    "# Store the columns that have exactly one 1 across all folds\n",
    "valid_columns = []\n",
    "\n",
    "for fold in range(5):\n",
    "    test_path = f\"PUMA/predictions/chemical_cv{fold}/assay_matrix_discrete_test_old_scaff.csv\"\n",
    "    test = pd.read_csv(test_path)\n",
    "    \n",
    "    # Iterate over each unique assay_id in the M DataFrame\n",
    "    for col in M['assay_id'].unique():\n",
    "        # Check if the column exists in the test DataFrame\n",
    "        if col in test.columns:\n",
    "            # Count the number of 1s in the column\n",
    "            count_ones = test[col].sum()\n",
    "            \n",
    "            # Check if there is exactly one 1 in the column\n",
    "            if count_ones == 1:\n",
    "                valid_columns.append(col)\n",
    "            else:\n",
    "                continue\n",
    "        else:\n",
    "            print(f\"Column '{col}' does not exist in the test DataFrame.\")\n",
    "\n",
    "valid_columns"
   ]
  },
  {
   "cell_type": "code",
   "execution_count": 115,
   "id": "2b773c22-161d-4a84-9f1f-b167b6f1b954",
   "metadata": {},
   "outputs": [
    {
     "data": {
      "text/plain": [
       "['11_22',\n",
       " '175_559',\n",
       " '71_212',\n",
       " '37_77',\n",
       " '9_14',\n",
       " '49_149',\n",
       " '17_28',\n",
       " '44_106',\n",
       " '104_323',\n",
       " '8_13',\n",
       " '175_561',\n",
       " '78_237']"
      ]
     },
     "execution_count": 115,
     "metadata": {},
     "output_type": "execute_result"
    }
   ],
   "source": [
    "# Remove duplicates from valid_columns\n",
    "valid_columns = list(set(valid_columns))\n",
    "valid_columns\n"
   ]
  },
  {
   "cell_type": "code",
   "execution_count": 117,
   "id": "382f0dd0-a950-4d50-b9f5-28af8d23609f",
   "metadata": {},
   "outputs": [
    {
     "data": {
      "text/plain": [
       "12"
      ]
     },
     "execution_count": 117,
     "metadata": {},
     "output_type": "execute_result"
    }
   ],
   "source": [
    "len(valid_columns)"
   ]
  },
  {
   "cell_type": "code",
   "execution_count": 118,
   "id": "33f73448-1585-41ba-8460-75d901f189c9",
   "metadata": {},
   "outputs": [
    {
     "name": "stdout",
     "output_type": "stream",
     "text": [
      "Column '175_559': Metadata_broad_sample_simple value for the only 1 is 'BRD-K09255212'.\n",
      "Column '37_77': Metadata_broad_sample_simple value for the only 1 is 'BRD-K21853356'.\n",
      "Column '104_323': Metadata_broad_sample_simple value for the only 1 is 'BRD-K37691127'.\n",
      "Column '175_561': Metadata_broad_sample_simple value for the only 1 is 'BRD-K09255212'.\n",
      "Column '71_212': Metadata_broad_sample_simple value for the only 1 is 'BRD-K77947974'.\n",
      "Column '17_28': Metadata_broad_sample_simple value for the only 1 is 'BRD-K77947974'.\n",
      "Column '8_13': Metadata_broad_sample_simple value for the only 1 is 'BRD-A64553394'.\n",
      "Column '71_212': Metadata_broad_sample_simple value for the only 1 is 'BRD-A61221616'.\n",
      "Column '44_106': Metadata_broad_sample_simple value for the only 1 is 'BRD-K47635719'.\n",
      "Column '11_22': Metadata_broad_sample_simple value for the only 1 is 'BRD-A72711497'.\n",
      "Column '71_212': Metadata_broad_sample_simple value for the only 1 is 'BRD-A72711497'.\n",
      "Column '9_14': Metadata_broad_sample_simple value for the only 1 is 'BRD-A72711497'.\n",
      "Column '49_149': Metadata_broad_sample_simple value for the only 1 is 'BRD-A72711497'.\n",
      "Column '78_237': Metadata_broad_sample_simple value for the only 1 is 'BRD-A72711497'.\n",
      "Column '11_22': Metadata_broad_sample_simple value for the only 1 is 'BRD-K39746403'.\n",
      "Column '8_13': Metadata_broad_sample_simple value for the only 1 is 'BRD-K01567962'.\n"
     ]
    }
   ],
   "source": [
    "smiles_value_list = []\n",
    "\n",
    "for fold in range(5):\n",
    "    # Print the smiles column for valid columns in the last fold\n",
    "    test_path = f\"PUMA/predictions/chemical_cv{fold}/assay_matrix_discrete_test_old_scaff.csv\"\n",
    "    test = pd.read_csv(test_path)\n",
    "\n",
    "    for col in valid_columns:\n",
    "        if col in test.columns:\n",
    "            if test[col].sum() == 1:\n",
    "                smiles_value = test.loc[test[col] == 1, 'Metadata_broad_sample_simple'].values[0]\n",
    "                print(f\"Column '{col}': Metadata_broad_sample_simple value for the only 1 is '{smiles_value}'.\")\n",
    "                \n",
    "                smiles_value_list.append(smiles_value)\n"
   ]
  },
  {
   "cell_type": "code",
   "execution_count": 119,
   "id": "e790d42e-1eea-439a-aa3a-f1aeec90ac05",
   "metadata": {},
   "outputs": [
    {
     "name": "stdout",
     "output_type": "stream",
     "text": [
      "16\n"
     ]
    }
   ],
   "source": [
    "print(len(smiles_value_list))"
   ]
  },
  {
   "cell_type": "code",
   "execution_count": 120,
   "id": "f3911192-8d95-4dd7-8c89-07d560a5cccc",
   "metadata": {},
   "outputs": [
    {
     "data": {
      "text/plain": [
       "['BRD-K37691127',\n",
       " 'BRD-A61221616',\n",
       " 'BRD-K21853356',\n",
       " 'BRD-K77947974',\n",
       " 'BRD-K47635719',\n",
       " 'BRD-K01567962',\n",
       " 'BRD-A64553394',\n",
       " 'BRD-A72711497',\n",
       " 'BRD-K39746403',\n",
       " 'BRD-K09255212']"
      ]
     },
     "execution_count": 120,
     "metadata": {},
     "output_type": "execute_result"
    }
   ],
   "source": [
    "# Remove duplicates from valid_columns\n",
    "smiles_value_list = list(set(smiles_value_list))\n",
    "smiles_value_list"
   ]
  },
  {
   "cell_type": "code",
   "execution_count": 121,
   "id": "2ee808f7-f1f5-4906-bd1c-9cd1ecc29531",
   "metadata": {},
   "outputs": [
    {
     "name": "stdout",
     "output_type": "stream",
     "text": [
      "10\n"
     ]
    }
   ],
   "source": [
    "print(len(smiles_value_list))"
   ]
  },
  {
   "cell_type": "code",
   "execution_count": null,
   "id": "edeb2805-ace1-48e1-b020-15e54945e468",
   "metadata": {},
   "outputs": [],
   "source": []
  },
  {
   "cell_type": "code",
   "execution_count": null,
   "id": "b91db921-6e5c-488a-aa3d-92f888d808d2",
   "metadata": {},
   "outputs": [],
   "source": []
  }
 ],
 "metadata": {
  "kernelspec": {
   "display_name": "Python 3",
   "language": "python",
   "name": "python3"
  },
  "language_info": {
   "codemirror_mode": {
    "name": "ipython",
    "version": 3
   },
   "file_extension": ".py",
   "mimetype": "text/x-python",
   "name": "python",
   "nbconvert_exporter": "python",
   "pygments_lexer": "ipython3",
   "version": "3.7.16"
  }
 },
 "nbformat": 4,
 "nbformat_minor": 5
}
