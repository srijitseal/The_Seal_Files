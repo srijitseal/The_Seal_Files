{
 "cells": [
  {
   "cell_type": "code",
   "execution_count": 1,
   "id": "87319b69-a619-4158-91fb-2842837d595c",
   "metadata": {},
   "outputs": [],
   "source": [
    "import pandas as pd\n",
    "from sklearn.metrics import roc_auc_score\n",
    "\n",
    "import numpy as np\n",
    "\n"
   ]
  },
  {
   "cell_type": "code",
   "execution_count": 3,
   "id": "5952a26e-a625-40f7-9c54-d61da910800e",
   "metadata": {},
   "outputs": [
    {
     "data": {
      "text/html": [
       "<div>\n",
       "<style scoped>\n",
       "    .dataframe tbody tr th:only-of-type {\n",
       "        vertical-align: middle;\n",
       "    }\n",
       "\n",
       "    .dataframe tbody tr th {\n",
       "        vertical-align: top;\n",
       "    }\n",
       "\n",
       "    .dataframe thead th {\n",
       "        text-align: right;\n",
       "    }\n",
       "</style>\n",
       "<table border=\"1\" class=\"dataframe\">\n",
       "  <thead>\n",
       "    <tr style=\"text-align: right;\">\n",
       "      <th></th>\n",
       "      <th>Fold</th>\n",
       "      <th>Task</th>\n",
       "      <th>AUC</th>\n",
       "    </tr>\n",
       "  </thead>\n",
       "  <tbody>\n",
       "    <tr>\n",
       "      <th>0</th>\n",
       "      <td>0</td>\n",
       "      <td>1_1</td>\n",
       "      <td>0.619048</td>\n",
       "    </tr>\n",
       "    <tr>\n",
       "      <th>1</th>\n",
       "      <td>0</td>\n",
       "      <td>10_19</td>\n",
       "      <td>NaN</td>\n",
       "    </tr>\n",
       "    <tr>\n",
       "      <th>2</th>\n",
       "      <td>0</td>\n",
       "      <td>10_20</td>\n",
       "      <td>NaN</td>\n",
       "    </tr>\n",
       "    <tr>\n",
       "      <th>3</th>\n",
       "      <td>0</td>\n",
       "      <td>100_277</td>\n",
       "      <td>0.625000</td>\n",
       "    </tr>\n",
       "    <tr>\n",
       "      <th>4</th>\n",
       "      <td>0</td>\n",
       "      <td>100_278</td>\n",
       "      <td>0.571429</td>\n",
       "    </tr>\n",
       "    <tr>\n",
       "      <th>...</th>\n",
       "      <td>...</td>\n",
       "      <td>...</td>\n",
       "      <td>...</td>\n",
       "    </tr>\n",
       "    <tr>\n",
       "      <th>535</th>\n",
       "      <td>1</td>\n",
       "      <td>9_18</td>\n",
       "      <td>NaN</td>\n",
       "    </tr>\n",
       "    <tr>\n",
       "      <th>536</th>\n",
       "      <td>1</td>\n",
       "      <td>90_256</td>\n",
       "      <td>0.980000</td>\n",
       "    </tr>\n",
       "    <tr>\n",
       "      <th>537</th>\n",
       "      <td>1</td>\n",
       "      <td>91_257</td>\n",
       "      <td>1.000000</td>\n",
       "    </tr>\n",
       "    <tr>\n",
       "      <th>538</th>\n",
       "      <td>1</td>\n",
       "      <td>92_258</td>\n",
       "      <td>1.000000</td>\n",
       "    </tr>\n",
       "    <tr>\n",
       "      <th>539</th>\n",
       "      <td>1</td>\n",
       "      <td>93_259</td>\n",
       "      <td>0.717647</td>\n",
       "    </tr>\n",
       "  </tbody>\n",
       "</table>\n",
       "<p>540 rows × 3 columns</p>\n",
       "</div>"
      ],
      "text/plain": [
       "     Fold     Task       AUC\n",
       "0       0      1_1  0.619048\n",
       "1       0    10_19       NaN\n",
       "2       0    10_20       NaN\n",
       "3       0  100_277  0.625000\n",
       "4       0  100_278  0.571429\n",
       "..    ...      ...       ...\n",
       "535     1     9_18       NaN\n",
       "536     1   90_256  0.980000\n",
       "537     1   91_257  1.000000\n",
       "538     1   92_258  1.000000\n",
       "539     1   93_259  0.717647\n",
       "\n",
       "[540 rows x 3 columns]"
      ]
     },
     "execution_count": 3,
     "metadata": {},
     "output_type": "execute_result"
    }
   ],
   "source": [
    "import pandas as pd\n",
    "from sklearn.metrics import roc_auc_score\n",
    "import numpy as np\n",
    "\n",
    "# Initialize a list to store AUC scores for all folds\n",
    "all_auc_scores = []\n",
    "\n",
    "for fold in range(0,5):\n",
    "    predictions = pd.read_csv(f\"predictions_fold_{fold}.csv\")\n",
    "    y_test = pd.read_csv(f\"y_test_fold_{fold}.csv\")\n",
    "    \n",
    "    # Compute AUC for each task\n",
    "    for column in y_test.columns:\n",
    "        # Get the predictions and true values for the current task\n",
    "        y_true = y_test[column].values\n",
    "        y_pred = predictions[column].values\n",
    "\n",
    "        # Filter out -1 values\n",
    "        valid_indices = y_true != -1\n",
    "        y_true_valid = y_true[valid_indices]\n",
    "        y_pred_valid = y_pred[valid_indices]\n",
    "\n",
    "        # Compute AUC if there are valid data points\n",
    "        if len(y_true_valid) > 0 and len(np.unique(y_true_valid)) > 1:\n",
    "            auc = roc_auc_score(y_true_valid, y_pred_valid)\n",
    "        else:\n",
    "            auc = np.nan  # Not enough data to compute AUC\n",
    "\n",
    "        all_auc_scores.append({\"Fold\": fold, \"Task\": column, \"AUC\": auc})\n",
    "\n",
    "# Convert to DataFrame for convenience\n",
    "auc_df = pd.DataFrame(all_auc_scores)\n",
    "\n",
    "# Save the DataFrame to a CSV file if needed\n",
    "auc_df.to_csv(\"auc_scores_across_folds_multitasknn.csv\", index=False)\n",
    "auc_df"
   ]
  },
  {
   "cell_type": "code",
   "execution_count": 4,
   "id": "69ba756a-bc21-4000-abd5-22dc88368f0b",
   "metadata": {},
   "outputs": [
    {
     "data": {
      "text/html": [
       "<div>\n",
       "<style scoped>\n",
       "    .dataframe tbody tr th:only-of-type {\n",
       "        vertical-align: middle;\n",
       "    }\n",
       "\n",
       "    .dataframe tbody tr th {\n",
       "        vertical-align: top;\n",
       "    }\n",
       "\n",
       "    .dataframe thead th {\n",
       "        text-align: right;\n",
       "    }\n",
       "</style>\n",
       "<table border=\"1\" class=\"dataframe\">\n",
       "  <thead>\n",
       "    <tr style=\"text-align: right;\">\n",
       "      <th></th>\n",
       "      <th>Task</th>\n",
       "      <th>Fold</th>\n",
       "      <th>AUC</th>\n",
       "    </tr>\n",
       "  </thead>\n",
       "  <tbody>\n",
       "    <tr>\n",
       "      <th>0</th>\n",
       "      <td>100_277</td>\n",
       "      <td>0.5</td>\n",
       "      <td>0.712500</td>\n",
       "    </tr>\n",
       "    <tr>\n",
       "      <th>1</th>\n",
       "      <td>100_278</td>\n",
       "      <td>0.5</td>\n",
       "      <td>0.452381</td>\n",
       "    </tr>\n",
       "    <tr>\n",
       "      <th>2</th>\n",
       "      <td>104_289</td>\n",
       "      <td>0.5</td>\n",
       "      <td>0.634615</td>\n",
       "    </tr>\n",
       "    <tr>\n",
       "      <th>3</th>\n",
       "      <td>104_291</td>\n",
       "      <td>0.5</td>\n",
       "      <td>0.784615</td>\n",
       "    </tr>\n",
       "    <tr>\n",
       "      <th>4</th>\n",
       "      <td>104_295</td>\n",
       "      <td>0.5</td>\n",
       "      <td>NaN</td>\n",
       "    </tr>\n",
       "    <tr>\n",
       "      <th>...</th>\n",
       "      <td>...</td>\n",
       "      <td>...</td>\n",
       "      <td>...</td>\n",
       "    </tr>\n",
       "    <tr>\n",
       "      <th>265</th>\n",
       "      <td>92_258</td>\n",
       "      <td>0.5</td>\n",
       "      <td>0.857143</td>\n",
       "    </tr>\n",
       "    <tr>\n",
       "      <th>266</th>\n",
       "      <td>93_259</td>\n",
       "      <td>0.5</td>\n",
       "      <td>0.485635</td>\n",
       "    </tr>\n",
       "    <tr>\n",
       "      <th>267</th>\n",
       "      <td>9_14</td>\n",
       "      <td>0.5</td>\n",
       "      <td>NaN</td>\n",
       "    </tr>\n",
       "    <tr>\n",
       "      <th>268</th>\n",
       "      <td>9_17</td>\n",
       "      <td>0.5</td>\n",
       "      <td>0.714286</td>\n",
       "    </tr>\n",
       "    <tr>\n",
       "      <th>269</th>\n",
       "      <td>9_18</td>\n",
       "      <td>0.5</td>\n",
       "      <td>NaN</td>\n",
       "    </tr>\n",
       "  </tbody>\n",
       "</table>\n",
       "<p>270 rows × 3 columns</p>\n",
       "</div>"
      ],
      "text/plain": [
       "        Task  Fold       AUC\n",
       "0    100_277   0.5  0.712500\n",
       "1    100_278   0.5  0.452381\n",
       "2    104_289   0.5  0.634615\n",
       "3    104_291   0.5  0.784615\n",
       "4    104_295   0.5       NaN\n",
       "..       ...   ...       ...\n",
       "265   92_258   0.5  0.857143\n",
       "266   93_259   0.5  0.485635\n",
       "267     9_14   0.5       NaN\n",
       "268     9_17   0.5  0.714286\n",
       "269     9_18   0.5       NaN\n",
       "\n",
       "[270 rows x 3 columns]"
      ]
     },
     "execution_count": 4,
     "metadata": {},
     "output_type": "execute_result"
    }
   ],
   "source": [
    "mean_auc = auc_df.groupby(\"Task\").mean().reset_index(drop=False)\n",
    "mean_auc"
   ]
  },
  {
   "cell_type": "code",
   "execution_count": 5,
   "id": "2b4cf6df-591f-49cd-a9d3-0532bdb10d04",
   "metadata": {},
   "outputs": [
    {
     "data": {
      "text/html": [
       "<div>\n",
       "<style scoped>\n",
       "    .dataframe tbody tr th:only-of-type {\n",
       "        vertical-align: middle;\n",
       "    }\n",
       "\n",
       "    .dataframe tbody tr th {\n",
       "        vertical-align: top;\n",
       "    }\n",
       "\n",
       "    .dataframe thead th {\n",
       "        text-align: right;\n",
       "    }\n",
       "</style>\n",
       "<table border=\"1\" class=\"dataframe\">\n",
       "  <thead>\n",
       "    <tr style=\"text-align: right;\">\n",
       "      <th></th>\n",
       "      <th>Task</th>\n",
       "      <th>Fold</th>\n",
       "      <th>AUC</th>\n",
       "    </tr>\n",
       "  </thead>\n",
       "  <tbody>\n",
       "    <tr>\n",
       "      <th>6</th>\n",
       "      <td>104_299</td>\n",
       "      <td>0.5</td>\n",
       "      <td>1.0</td>\n",
       "    </tr>\n",
       "    <tr>\n",
       "      <th>9</th>\n",
       "      <td>104_323</td>\n",
       "      <td>0.5</td>\n",
       "      <td>1.0</td>\n",
       "    </tr>\n",
       "    <tr>\n",
       "      <th>50</th>\n",
       "      <td>116_420</td>\n",
       "      <td>0.5</td>\n",
       "      <td>1.0</td>\n",
       "    </tr>\n",
       "    <tr>\n",
       "      <th>70</th>\n",
       "      <td>14_25</td>\n",
       "      <td>0.5</td>\n",
       "      <td>1.0</td>\n",
       "    </tr>\n",
       "    <tr>\n",
       "      <th>72</th>\n",
       "      <td>154_511</td>\n",
       "      <td>0.5</td>\n",
       "      <td>1.0</td>\n",
       "    </tr>\n",
       "    <tr>\n",
       "      <th>96</th>\n",
       "      <td>181_599</td>\n",
       "      <td>0.5</td>\n",
       "      <td>1.0</td>\n",
       "    </tr>\n",
       "    <tr>\n",
       "      <th>221</th>\n",
       "      <td>29_43</td>\n",
       "      <td>0.5</td>\n",
       "      <td>1.0</td>\n",
       "    </tr>\n",
       "  </tbody>\n",
       "</table>\n",
       "</div>"
      ],
      "text/plain": [
       "        Task  Fold  AUC\n",
       "6    104_299   0.5  1.0\n",
       "9    104_323   0.5  1.0\n",
       "50   116_420   0.5  1.0\n",
       "70     14_25   0.5  1.0\n",
       "72   154_511   0.5  1.0\n",
       "96   181_599   0.5  1.0\n",
       "221    29_43   0.5  1.0"
      ]
     },
     "execution_count": 5,
     "metadata": {},
     "output_type": "execute_result"
    }
   ],
   "source": [
    "mean_auc[mean_auc[\"AUC\"]==1]"
   ]
  },
  {
   "cell_type": "code",
   "execution_count": 6,
   "id": "2568b123-11e3-47a5-a064-5425e6b88fdb",
   "metadata": {},
   "outputs": [
    {
     "data": {
      "text/plain": [
       "7"
      ]
     },
     "execution_count": 6,
     "metadata": {},
     "output_type": "execute_result"
    }
   ],
   "source": [
    "len(mean_auc[mean_auc[\"AUC\"]==1])"
   ]
  },
  {
   "cell_type": "code",
   "execution_count": 7,
   "id": "5ff894ae-46aa-45ab-89e4-1c6c43bd15aa",
   "metadata": {},
   "outputs": [
    {
     "data": {
      "text/plain": [
       "16"
      ]
     },
     "execution_count": 7,
     "metadata": {},
     "output_type": "execute_result"
    }
   ],
   "source": [
    "len(mean_auc[mean_auc[\"AUC\"]>0.90])"
   ]
  },
  {
   "cell_type": "code",
   "execution_count": 8,
   "id": "6bcc584b-5744-4bd5-8c83-c412e694c049",
   "metadata": {},
   "outputs": [],
   "source": [
    "mean_auc.to_csv(\"scaffold_mean_AUCSeal_multitasknn.csv\")"
   ]
  },
  {
   "cell_type": "code",
   "execution_count": 9,
   "id": "c2db6035-f5bd-4fdd-bc6f-a7bda5935532",
   "metadata": {},
   "outputs": [],
   "source": [
    "median_auc = auc_df.groupby(\"Task\").median().reset_index(drop=False)\n",
    "median_auc.to_csv(\"scaffold_median_AUCSeal_multitasknn.csv\")"
   ]
  },
  {
   "cell_type": "code",
   "execution_count": 10,
   "id": "2eefca44-103b-4e44-90db-5824e1678b3d",
   "metadata": {},
   "outputs": [
    {
     "data": {
      "text/plain": [
       "7"
      ]
     },
     "execution_count": 10,
     "metadata": {},
     "output_type": "execute_result"
    }
   ],
   "source": [
    "len(median_auc[median_auc[\"AUC\"]==1])"
   ]
  },
  {
   "cell_type": "code",
   "execution_count": 11,
   "id": "0236f991-c2b6-411c-ab9f-d11c1ad1c347",
   "metadata": {},
   "outputs": [
    {
     "data": {
      "text/plain": [
       "16"
      ]
     },
     "execution_count": 11,
     "metadata": {},
     "output_type": "execute_result"
    }
   ],
   "source": [
    "len(median_auc[median_auc[\"AUC\"]>0.90])"
   ]
  },
  {
   "cell_type": "code",
   "execution_count": null,
   "id": "3e84ed3e-8486-4a94-beec-23cbd753c273",
   "metadata": {},
   "outputs": [],
   "source": []
  }
 ],
 "metadata": {
  "kernelspec": {
   "display_name": "Python 3",
   "language": "python",
   "name": "python3"
  },
  "language_info": {
   "codemirror_mode": {
    "name": "ipython",
    "version": 3
   },
   "file_extension": ".py",
   "mimetype": "text/x-python",
   "name": "python",
   "nbconvert_exporter": "python",
   "pygments_lexer": "ipython3",
   "version": "3.7.16"
  }
 },
 "nbformat": 4,
 "nbformat_minor": 5
}
