{
 "cells": [
  {
   "cell_type": "code",
   "execution_count": 39,
   "id": "770913ae",
   "metadata": {},
   "outputs": [],
   "source": [
    "import pandas as pd\n",
    "from chembl_structure_pipeline import standardizer\n",
    "from chembl_structure_pipeline import checker\n",
    "from rdkit import Chem\n",
    "from rdkit import RDLogger\n",
    "from rdkit.Chem import MolStandardize"
   ]
  },
  {
   "cell_type": "code",
   "execution_count": 40,
   "id": "0713c178",
   "metadata": {},
   "outputs": [
    {
     "data": {
      "text/html": [
       "<div>\n",
       "<style scoped>\n",
       "    .dataframe tbody tr th:only-of-type {\n",
       "        vertical-align: middle;\n",
       "    }\n",
       "\n",
       "    .dataframe tbody tr th {\n",
       "        vertical-align: top;\n",
       "    }\n",
       "\n",
       "    .dataframe thead th {\n",
       "        text-align: right;\n",
       "    }\n",
       "</style>\n",
       "<table border=\"1\" class=\"dataframe\">\n",
       "  <thead>\n",
       "    <tr style=\"text-align: right;\">\n",
       "      <th></th>\n",
       "      <th>perturbation</th>\n",
       "      <th>SMILES</th>\n",
       "    </tr>\n",
       "  </thead>\n",
       "  <tbody>\n",
       "    <tr>\n",
       "      <th>0</th>\n",
       "      <td>(+)-Cedrol</td>\n",
       "      <td>C[C@@H]1CC[C@H]2C(C)(C)[C@H]3C[C@@]12CC[C@@]3(C)O</td>\n",
       "    </tr>\n",
       "    <tr>\n",
       "      <th>1</th>\n",
       "      <td>(+)-cloprostenol</td>\n",
       "      <td>O[C@@H](COC1=CC=CC(Cl)=C1)\\C=C\\[C@H]1[C@H](O)C...</td>\n",
       "    </tr>\n",
       "    <tr>\n",
       "      <th>2</th>\n",
       "      <td>(-)-Huperzine A (HupA)</td>\n",
       "      <td>[H][C@@]12CC3=C(C=CC(=O)N3)[C@@](N)(CC(C)=C1)C...</td>\n",
       "    </tr>\n",
       "    <tr>\n",
       "      <th>3</th>\n",
       "      <td>1-Dexoymannojirimycin HCl</td>\n",
       "      <td>OC[C@H]1NC[C@@H](O)[C@@H](O)[C@@H]1O</td>\n",
       "    </tr>\n",
       "    <tr>\n",
       "      <th>4</th>\n",
       "      <td>1-Octanol</td>\n",
       "      <td>CCCCCCCCO</td>\n",
       "    </tr>\n",
       "    <tr>\n",
       "      <th>...</th>\n",
       "      <td>...</td>\n",
       "      <td>...</td>\n",
       "    </tr>\n",
       "    <tr>\n",
       "      <th>1669</th>\n",
       "      <td>vorapaxar</td>\n",
       "      <td>CCOC(=O)N[C@@H]1CC[C@@H]2[C@H](C[C@@H]3[C@@H](...</td>\n",
       "    </tr>\n",
       "    <tr>\n",
       "      <th>1670</th>\n",
       "      <td>warfarin</td>\n",
       "      <td>CC(=O)C[C@@H](C1=CC=CC=C1)C1=C(O)C2=C(OC1=O)C=...</td>\n",
       "    </tr>\n",
       "    <tr>\n",
       "      <th>1671</th>\n",
       "      <td>zofenopril-calcium</td>\n",
       "      <td>C[C@H](CSC(=O)C1=CC=CC=C1)C(=O)N1C[C@H](C[C@H]...</td>\n",
       "    </tr>\n",
       "    <tr>\n",
       "      <th>1672</th>\n",
       "      <td>zolimidine</td>\n",
       "      <td>CS(=O)(=O)C1=CC=C(C=C1)C1=CN2C=CC=CC2=N1 |c:6,...</td>\n",
       "    </tr>\n",
       "    <tr>\n",
       "      <th>1673</th>\n",
       "      <td>zuclopenthixol</td>\n",
       "      <td>OCCN1CCN(CC\\C=C2\\C3=C(SC4=C2C=C(Cl)C=C4)C=CC=C...</td>\n",
       "    </tr>\n",
       "  </tbody>\n",
       "</table>\n",
       "<p>1674 rows × 2 columns</p>\n",
       "</div>"
      ],
      "text/plain": [
       "                   perturbation  \\\n",
       "0                    (+)-Cedrol   \n",
       "1              (+)-cloprostenol   \n",
       "2        (-)-Huperzine A (HupA)   \n",
       "3     1-Dexoymannojirimycin HCl   \n",
       "4                     1-Octanol   \n",
       "...                         ...   \n",
       "1669                  vorapaxar   \n",
       "1670                   warfarin   \n",
       "1671         zofenopril-calcium   \n",
       "1672                 zolimidine   \n",
       "1673             zuclopenthixol   \n",
       "\n",
       "                                                 SMILES  \n",
       "0     C[C@@H]1CC[C@H]2C(C)(C)[C@H]3C[C@@]12CC[C@@]3(C)O  \n",
       "1     O[C@@H](COC1=CC=CC(Cl)=C1)\\C=C\\[C@H]1[C@H](O)C...  \n",
       "2     [H][C@@]12CC3=C(C=CC(=O)N3)[C@@](N)(CC(C)=C1)C...  \n",
       "3                  OC[C@H]1NC[C@@H](O)[C@@H](O)[C@@H]1O  \n",
       "4                                             CCCCCCCCO  \n",
       "...                                                 ...  \n",
       "1669  CCOC(=O)N[C@@H]1CC[C@@H]2[C@H](C[C@@H]3[C@@H](...  \n",
       "1670  CC(=O)C[C@@H](C1=CC=CC=C1)C1=C(O)C2=C(OC1=O)C=...  \n",
       "1671  C[C@H](CSC(=O)C1=CC=CC=C1)C(=O)N1C[C@H](C[C@H]...  \n",
       "1672  CS(=O)(=O)C1=CC=C(C=C1)C1=CN2C=CC=CC2=N1 |c:6,...  \n",
       "1673  OCCN1CCN(CC\\C=C2\\C3=C(SC4=C2C=C(Cl)C=C4)C=CC=C...  \n",
       "\n",
       "[1674 rows x 2 columns]"
      ]
     },
     "execution_count": 40,
     "metadata": {},
     "output_type": "execute_result"
    }
   ],
   "source": [
    "df = pd.read_csv(\"../../../OpenCellCounter/Profiles/Compound_Names.csv\")\n",
    "df"
   ]
  },
  {
   "cell_type": "code",
   "execution_count": 41,
   "id": "f47f8bff-f36c-41b5-a9b6-3f9233a67d1c",
   "metadata": {},
   "outputs": [
    {
     "data": {
      "text/plain": [
       "'O[C@@H](COC1=CC=CC(Cl)=C1)\\\\C=C\\\\[C@H]1[C@H](O)C[C@H](O)[C@@H]1C\\\\C=C/CCCC([O-])=O |c:6,9,t:4|'"
      ]
     },
     "execution_count": 41,
     "metadata": {},
     "output_type": "execute_result"
    }
   ],
   "source": [
    "df.iloc[1][\"SMILES\"]"
   ]
  },
  {
   "cell_type": "code",
   "execution_count": 42,
   "id": "3970d21a-2aae-488c-8da6-d1f5f1eaa12a",
   "metadata": {},
   "outputs": [
    {
     "name": "stdout",
     "output_type": "stream",
     "text": [
      "/dgx1nas1/storage/data/seal/The_Seal_Files/BAK_The_Seal_dataset/Generate_data\n"
     ]
    }
   ],
   "source": [
    "!pwd"
   ]
  },
  {
   "cell_type": "code",
   "execution_count": 43,
   "id": "23e98bd0",
   "metadata": {},
   "outputs": [
    {
     "data": {
      "text/plain": [
       "1674"
      ]
     },
     "execution_count": 43,
     "metadata": {},
     "output_type": "execute_result"
    }
   ],
   "source": [
    "df.SMILES.nunique()"
   ]
  },
  {
   "cell_type": "code",
   "execution_count": 44,
   "id": "8d01be02-8ae0-454c-bb7b-d0fa7f80b305",
   "metadata": {},
   "outputs": [],
   "source": [
    "from rdkit import Chem\n",
    "from rdkit.Chem import MolStandardize\n",
    "\n",
    "def standardize_SMILES(SMILES):\n",
    "    try:\n",
    "        # Convert SMILES string to RDKit Mol object\n",
    "        mol = Chem.MolFromSmiles(SMILES)\n",
    "        if mol is None:\n",
    "            return \"Invalid_SMILES\"\n",
    "\n",
    "        # Initialize RDKit standardizer components\n",
    "        desalter = MolStandardize.fragment.LargestFragmentChooser()\n",
    "        normalizer = MolStandardize.normalize.Normalizer()\n",
    "        uncharger = MolStandardize.charge.Uncharger()\n",
    "\n",
    "        # Step 1: Choose the largest fragment\n",
    "        largest_fragment = desalter.choose(mol)\n",
    "\n",
    "        # Step 2: Normalize the molecule (handle tautomeric forms, etc.)\n",
    "        normalized_mol = normalizer.normalize(largest_fragment)\n",
    "\n",
    "        # Step 3: Remove charges\n",
    "        uncharged_mol = uncharger.uncharge(normalized_mol)\n",
    "\n",
    "        # Step 4: Remove stereochemistry (if desired)\n",
    "        Chem.RemoveStereochemistry(uncharged_mol)\n",
    "\n",
    "        # Convert back to SMILES\n",
    "        smiles_standardized = Chem.MolToSmiles(uncharged_mol)\n",
    "\n",
    "        return smiles_standardized\n",
    "    \n",
    "    except Exception as e:\n",
    "        # Log or print the error if needed\n",
    "        print(f\"Error standardizing SMILES: {e}\")\n",
    "        return \"Cannot_do\"\n"
   ]
  },
  {
   "cell_type": "code",
   "execution_count": 45,
   "id": "a9503a06-cf43-4b3c-91c2-66c50c27cd4b",
   "metadata": {},
   "outputs": [
    {
     "name": "stdout",
     "output_type": "stream",
     "text": [
      "INFO: Pandarallel will run on 80 workers.\n",
      "INFO: Pandarallel will use Memory file system to transfer data between the main process and workers.\n"
     ]
    }
   ],
   "source": [
    "from pandarallel import pandarallel\n",
    "pandarallel.initialize(progress_bar=True, nb_workers=80)"
   ]
  },
  {
   "cell_type": "code",
   "execution_count": 46,
   "id": "7a46fee9-f132-4a02-9c0e-918fa68a7b19",
   "metadata": {},
   "outputs": [],
   "source": [
    "import pandas as pd \n",
    "from tqdm import tqdm \n",
    "import time \n",
    "\n",
    "RDLogger.DisableLog('rdApp.info')  \n",
    "tqdm.pandas()"
   ]
  },
  {
   "cell_type": "code",
   "execution_count": 47,
   "id": "76d4f2f2-4208-4de6-aab2-1bf4ad40be9a",
   "metadata": {
    "scrolled": true,
    "tags": []
   },
   "outputs": [
    {
     "data": {
      "application/vnd.jupyter.widget-view+json": {
       "model_id": "a26a0af528204e1c92bef3aa67eb88fb",
       "version_major": 2,
       "version_minor": 0
      },
      "text/plain": [
       "VBox(children=(HBox(children=(IntProgress(value=0, description='0.00%', max=21), Label(value='0 / 21'))), HBox…"
      ]
     },
     "metadata": {},
     "output_type": "display_data"
    }
   ],
   "source": [
    "df[\"Standardized_SMILES_chembl\"] = df[\"SMILES\"].parallel_apply(standardize_SMILES)"
   ]
  },
  {
   "cell_type": "code",
   "execution_count": 48,
   "id": "0cc63cfd-2043-494b-8745-7730f21b13cb",
   "metadata": {},
   "outputs": [],
   "source": [
    "RDLogger.DisableLog('rdApp.*')  \n",
    "def smiles_to_inchi(smiles):\n",
    "    \n",
    "    try:\n",
    "        # Read SMILES and convert it to RDKit mol object\n",
    "        mol = Chem.MolFromSmiles(smiles)\n",
    "        inchi_standardized = Chem.MolToInchi(mol)\n",
    "\n",
    "        return inchi_standardized\n",
    "    \n",
    "    except:\n",
    "        return \"Cannot_do\""
   ]
  },
  {
   "cell_type": "code",
   "execution_count": 49,
   "id": "d10296e6-6086-4d57-9057-5d4f016fdb8b",
   "metadata": {
    "scrolled": true,
    "tags": []
   },
   "outputs": [
    {
     "data": {
      "application/vnd.jupyter.widget-view+json": {
       "model_id": "8fab1b1a467644f79dc6264498c672d3",
       "version_major": 2,
       "version_minor": 0
      },
      "text/plain": [
       "VBox(children=(HBox(children=(IntProgress(value=0, description='0.00%', max=21), Label(value='0 / 21'))), HBox…"
      ]
     },
     "metadata": {},
     "output_type": "display_data"
    }
   ],
   "source": [
    "df[\"Standardized_InChI_chembl\"] = df[\"Standardized_SMILES_chembl\"].parallel_apply(smiles_to_inchi)"
   ]
  },
  {
   "cell_type": "code",
   "execution_count": 50,
   "id": "22bc092d-c0cc-4886-ae7a-e52cf863cd08",
   "metadata": {},
   "outputs": [
    {
     "data": {
      "text/html": [
       "<div>\n",
       "<style scoped>\n",
       "    .dataframe tbody tr th:only-of-type {\n",
       "        vertical-align: middle;\n",
       "    }\n",
       "\n",
       "    .dataframe tbody tr th {\n",
       "        vertical-align: top;\n",
       "    }\n",
       "\n",
       "    .dataframe thead th {\n",
       "        text-align: right;\n",
       "    }\n",
       "</style>\n",
       "<table border=\"1\" class=\"dataframe\">\n",
       "  <thead>\n",
       "    <tr style=\"text-align: right;\">\n",
       "      <th></th>\n",
       "      <th>perturbation</th>\n",
       "      <th>SMILES</th>\n",
       "      <th>Standardized_SMILES_chembl</th>\n",
       "      <th>Standardized_InChI_chembl</th>\n",
       "    </tr>\n",
       "  </thead>\n",
       "  <tbody>\n",
       "    <tr>\n",
       "      <th>0</th>\n",
       "      <td>(+)-Cedrol</td>\n",
       "      <td>C[C@@H]1CC[C@H]2C(C)(C)[C@H]3C[C@@]12CC[C@@]3(C)O</td>\n",
       "      <td>CC1CCC2C(C)(C)C3CC12CCC3(C)O</td>\n",
       "      <td>InChI=1S/C15H26O/c1-10-5-6-11-13(2,3)12-9-15(1...</td>\n",
       "    </tr>\n",
       "    <tr>\n",
       "      <th>1</th>\n",
       "      <td>(+)-cloprostenol</td>\n",
       "      <td>O[C@@H](COC1=CC=CC(Cl)=C1)\\C=C\\[C@H]1[C@H](O)C...</td>\n",
       "      <td>O=C(O)CCCC=CCC1C(O)CC(O)C1C=CC(O)COc1cccc(Cl)c1</td>\n",
       "      <td>InChI=1S/C22H29ClO6/c23-15-6-5-7-17(12-15)29-1...</td>\n",
       "    </tr>\n",
       "    <tr>\n",
       "      <th>2</th>\n",
       "      <td>(-)-Huperzine A (HupA)</td>\n",
       "      <td>[H][C@@]12CC3=C(C=CC(=O)N3)[C@@](N)(CC(C)=C1)C...</td>\n",
       "      <td>CC=C1C2C=C(C)CC1(N)c1ccc(=O)[nH]c1C2</td>\n",
       "      <td>InChI=1S/C15H18N2O/c1-3-11-10-6-9(2)8-15(11,16...</td>\n",
       "    </tr>\n",
       "    <tr>\n",
       "      <th>3</th>\n",
       "      <td>1-Dexoymannojirimycin HCl</td>\n",
       "      <td>OC[C@H]1NC[C@@H](O)[C@@H](O)[C@@H]1O</td>\n",
       "      <td>OCC1NCC(O)C(O)C1O</td>\n",
       "      <td>InChI=1S/C6H13NO4/c8-2-3-5(10)6(11)4(9)1-7-3/h...</td>\n",
       "    </tr>\n",
       "    <tr>\n",
       "      <th>4</th>\n",
       "      <td>1-Octanol</td>\n",
       "      <td>CCCCCCCCO</td>\n",
       "      <td>CCCCCCCCO</td>\n",
       "      <td>InChI=1S/C8H18O/c1-2-3-4-5-6-7-8-9/h9H,2-8H2,1H3</td>\n",
       "    </tr>\n",
       "    <tr>\n",
       "      <th>...</th>\n",
       "      <td>...</td>\n",
       "      <td>...</td>\n",
       "      <td>...</td>\n",
       "      <td>...</td>\n",
       "    </tr>\n",
       "    <tr>\n",
       "      <th>1669</th>\n",
       "      <td>vorapaxar</td>\n",
       "      <td>CCOC(=O)N[C@@H]1CC[C@@H]2[C@H](C[C@@H]3[C@@H](...</td>\n",
       "      <td>CCOC(=O)NC1CCC2C(C1)CC1C(=O)OC(C)C1C2C=Cc1ccc(...</td>\n",
       "      <td>InChI=1S/C29H33FN2O4/c1-3-35-29(34)32-23-10-11...</td>\n",
       "    </tr>\n",
       "    <tr>\n",
       "      <th>1670</th>\n",
       "      <td>warfarin</td>\n",
       "      <td>CC(=O)C[C@@H](C1=CC=CC=C1)C1=C(O)C2=C(OC1=O)C=...</td>\n",
       "      <td>CC(=O)CC(c1ccccc1)c1c(O)c2ccccc2oc1=O</td>\n",
       "      <td>InChI=1S/C19H16O4/c1-12(20)11-15(13-7-3-2-4-8-...</td>\n",
       "    </tr>\n",
       "    <tr>\n",
       "      <th>1671</th>\n",
       "      <td>zofenopril-calcium</td>\n",
       "      <td>C[C@H](CSC(=O)C1=CC=CC=C1)C(=O)N1C[C@H](C[C@H]...</td>\n",
       "      <td>CC(CSC(=O)c1ccccc1)C(=O)N1CC(Sc2ccccc2)CC1C(=O)O</td>\n",
       "      <td>InChI=1S/C22H23NO4S2/c1-15(14-28-22(27)16-8-4-...</td>\n",
       "    </tr>\n",
       "    <tr>\n",
       "      <th>1672</th>\n",
       "      <td>zolimidine</td>\n",
       "      <td>CS(=O)(=O)C1=CC=C(C=C1)C1=CN2C=CC=CC2=N1 |c:6,...</td>\n",
       "      <td>CS(=O)(=O)c1ccc(-c2cn3ccccc3n2)cc1</td>\n",
       "      <td>InChI=1S/C14H12N2O2S/c1-19(17,18)12-7-5-11(6-8...</td>\n",
       "    </tr>\n",
       "    <tr>\n",
       "      <th>1673</th>\n",
       "      <td>zuclopenthixol</td>\n",
       "      <td>OCCN1CCN(CC\\C=C2\\C3=C(SC4=C2C=C(Cl)C=C4)C=CC=C...</td>\n",
       "      <td>OCCN1CCN(CCC=C2c3ccccc3Sc3ccc(Cl)cc32)CC1</td>\n",
       "      <td>InChI=1S/C22H25ClN2OS/c23-17-7-8-22-20(16-17)1...</td>\n",
       "    </tr>\n",
       "  </tbody>\n",
       "</table>\n",
       "<p>1674 rows × 4 columns</p>\n",
       "</div>"
      ],
      "text/plain": [
       "                   perturbation  \\\n",
       "0                    (+)-Cedrol   \n",
       "1              (+)-cloprostenol   \n",
       "2        (-)-Huperzine A (HupA)   \n",
       "3     1-Dexoymannojirimycin HCl   \n",
       "4                     1-Octanol   \n",
       "...                         ...   \n",
       "1669                  vorapaxar   \n",
       "1670                   warfarin   \n",
       "1671         zofenopril-calcium   \n",
       "1672                 zolimidine   \n",
       "1673             zuclopenthixol   \n",
       "\n",
       "                                                 SMILES  \\\n",
       "0     C[C@@H]1CC[C@H]2C(C)(C)[C@H]3C[C@@]12CC[C@@]3(C)O   \n",
       "1     O[C@@H](COC1=CC=CC(Cl)=C1)\\C=C\\[C@H]1[C@H](O)C...   \n",
       "2     [H][C@@]12CC3=C(C=CC(=O)N3)[C@@](N)(CC(C)=C1)C...   \n",
       "3                  OC[C@H]1NC[C@@H](O)[C@@H](O)[C@@H]1O   \n",
       "4                                             CCCCCCCCO   \n",
       "...                                                 ...   \n",
       "1669  CCOC(=O)N[C@@H]1CC[C@@H]2[C@H](C[C@@H]3[C@@H](...   \n",
       "1670  CC(=O)C[C@@H](C1=CC=CC=C1)C1=C(O)C2=C(OC1=O)C=...   \n",
       "1671  C[C@H](CSC(=O)C1=CC=CC=C1)C(=O)N1C[C@H](C[C@H]...   \n",
       "1672  CS(=O)(=O)C1=CC=C(C=C1)C1=CN2C=CC=CC2=N1 |c:6,...   \n",
       "1673  OCCN1CCN(CC\\C=C2\\C3=C(SC4=C2C=C(Cl)C=C4)C=CC=C...   \n",
       "\n",
       "                             Standardized_SMILES_chembl  \\\n",
       "0                          CC1CCC2C(C)(C)C3CC12CCC3(C)O   \n",
       "1       O=C(O)CCCC=CCC1C(O)CC(O)C1C=CC(O)COc1cccc(Cl)c1   \n",
       "2                  CC=C1C2C=C(C)CC1(N)c1ccc(=O)[nH]c1C2   \n",
       "3                                     OCC1NCC(O)C(O)C1O   \n",
       "4                                             CCCCCCCCO   \n",
       "...                                                 ...   \n",
       "1669  CCOC(=O)NC1CCC2C(C1)CC1C(=O)OC(C)C1C2C=Cc1ccc(...   \n",
       "1670              CC(=O)CC(c1ccccc1)c1c(O)c2ccccc2oc1=O   \n",
       "1671   CC(CSC(=O)c1ccccc1)C(=O)N1CC(Sc2ccccc2)CC1C(=O)O   \n",
       "1672                 CS(=O)(=O)c1ccc(-c2cn3ccccc3n2)cc1   \n",
       "1673          OCCN1CCN(CCC=C2c3ccccc3Sc3ccc(Cl)cc32)CC1   \n",
       "\n",
       "                              Standardized_InChI_chembl  \n",
       "0     InChI=1S/C15H26O/c1-10-5-6-11-13(2,3)12-9-15(1...  \n",
       "1     InChI=1S/C22H29ClO6/c23-15-6-5-7-17(12-15)29-1...  \n",
       "2     InChI=1S/C15H18N2O/c1-3-11-10-6-9(2)8-15(11,16...  \n",
       "3     InChI=1S/C6H13NO4/c8-2-3-5(10)6(11)4(9)1-7-3/h...  \n",
       "4      InChI=1S/C8H18O/c1-2-3-4-5-6-7-8-9/h9H,2-8H2,1H3  \n",
       "...                                                 ...  \n",
       "1669  InChI=1S/C29H33FN2O4/c1-3-35-29(34)32-23-10-11...  \n",
       "1670  InChI=1S/C19H16O4/c1-12(20)11-15(13-7-3-2-4-8-...  \n",
       "1671  InChI=1S/C22H23NO4S2/c1-15(14-28-22(27)16-8-4-...  \n",
       "1672  InChI=1S/C14H12N2O2S/c1-19(17,18)12-7-5-11(6-8...  \n",
       "1673  InChI=1S/C22H25ClN2OS/c23-17-7-8-22-20(16-17)1...  \n",
       "\n",
       "[1674 rows x 4 columns]"
      ]
     },
     "execution_count": 50,
     "metadata": {},
     "output_type": "execute_result"
    }
   ],
   "source": [
    "df"
   ]
  },
  {
   "cell_type": "code",
   "execution_count": 51,
   "id": "49586971-7f2d-474a-ad1a-bcf4f87ee2e1",
   "metadata": {},
   "outputs": [],
   "source": [
    "RDLogger.DisableLog('rdApp.*')  \n",
    "def smiles_to_inchikey(smiles):\n",
    "    \n",
    "    try:\n",
    "        # Read SMILES and convert it to RDKit mol object\n",
    "        mol = Chem.MolFromSmiles(smiles)\n",
    "        inchikey_standardized = Chem.MolToInchiKey(mol)\n",
    "\n",
    "        return inchikey_standardized\n",
    "    \n",
    "    except:\n",
    "        return \"Cannot_do\""
   ]
  },
  {
   "cell_type": "code",
   "execution_count": 52,
   "id": "93d35e4a-b7eb-4c1f-b4eb-0939542685b1",
   "metadata": {},
   "outputs": [
    {
     "data": {
      "application/vnd.jupyter.widget-view+json": {
       "model_id": "3206b90ee17d48d39b2f8f4d7ec0eaba",
       "version_major": 2,
       "version_minor": 0
      },
      "text/plain": [
       "VBox(children=(HBox(children=(IntProgress(value=0, description='0.00%', max=21), Label(value='0 / 21'))), HBox…"
      ]
     },
     "metadata": {},
     "output_type": "display_data"
    }
   ],
   "source": [
    "df[\"Standardized_InChIKey_chembl\"] = df[\"Standardized_SMILES_chembl\"].parallel_apply(smiles_to_inchikey)"
   ]
  },
  {
   "cell_type": "code",
   "execution_count": 53,
   "id": "9f240c7f-cb74-4f53-b1b1-bab4b160d9a7",
   "metadata": {},
   "outputs": [
    {
     "data": {
      "text/html": [
       "<div>\n",
       "<style scoped>\n",
       "    .dataframe tbody tr th:only-of-type {\n",
       "        vertical-align: middle;\n",
       "    }\n",
       "\n",
       "    .dataframe tbody tr th {\n",
       "        vertical-align: top;\n",
       "    }\n",
       "\n",
       "    .dataframe thead th {\n",
       "        text-align: right;\n",
       "    }\n",
       "</style>\n",
       "<table border=\"1\" class=\"dataframe\">\n",
       "  <thead>\n",
       "    <tr style=\"text-align: right;\">\n",
       "      <th></th>\n",
       "      <th>SMILES</th>\n",
       "      <th>Standardized_SMILES_chembl</th>\n",
       "      <th>Standardized_InChI_chembl</th>\n",
       "      <th>Standardized_InChIKey_chembl</th>\n",
       "    </tr>\n",
       "  </thead>\n",
       "  <tbody>\n",
       "    <tr>\n",
       "      <th>0</th>\n",
       "      <td>C[C@@H]1CC[C@H]2C(C)(C)[C@H]3C[C@@]12CC[C@@]3(C)O</td>\n",
       "      <td>CC1CCC2C(C)(C)C3CC12CCC3(C)O</td>\n",
       "      <td>InChI=1S/C15H26O/c1-10-5-6-11-13(2,3)12-9-15(1...</td>\n",
       "      <td>SVURIXNDRWRAFU-UHFFFAOYSA-N</td>\n",
       "    </tr>\n",
       "    <tr>\n",
       "      <th>1</th>\n",
       "      <td>O[C@@H](COC1=CC=CC(Cl)=C1)\\C=C\\[C@H]1[C@H](O)C...</td>\n",
       "      <td>O=C(O)CCCC=CCC1C(O)CC(O)C1C=CC(O)COc1cccc(Cl)c1</td>\n",
       "      <td>InChI=1S/C22H29ClO6/c23-15-6-5-7-17(12-15)29-1...</td>\n",
       "      <td>VJGGHXVGBSZVMZ-UHFFFAOYSA-N</td>\n",
       "    </tr>\n",
       "    <tr>\n",
       "      <th>2</th>\n",
       "      <td>[H][C@@]12CC3=C(C=CC(=O)N3)[C@@](N)(CC(C)=C1)C...</td>\n",
       "      <td>CC=C1C2C=C(C)CC1(N)c1ccc(=O)[nH]c1C2</td>\n",
       "      <td>InChI=1S/C15H18N2O/c1-3-11-10-6-9(2)8-15(11,16...</td>\n",
       "      <td>ZRJBHWIHUMBLCN-UHFFFAOYSA-N</td>\n",
       "    </tr>\n",
       "    <tr>\n",
       "      <th>3</th>\n",
       "      <td>OC[C@H]1NC[C@@H](O)[C@@H](O)[C@@H]1O</td>\n",
       "      <td>OCC1NCC(O)C(O)C1O</td>\n",
       "      <td>InChI=1S/C6H13NO4/c8-2-3-5(10)6(11)4(9)1-7-3/h...</td>\n",
       "      <td>LXBIFEVIBLOUGU-UHFFFAOYSA-N</td>\n",
       "    </tr>\n",
       "    <tr>\n",
       "      <th>4</th>\n",
       "      <td>CCCCCCCCO</td>\n",
       "      <td>CCCCCCCCO</td>\n",
       "      <td>InChI=1S/C8H18O/c1-2-3-4-5-6-7-8-9/h9H,2-8H2,1H3</td>\n",
       "      <td>KBPLFHHGFOOTCA-UHFFFAOYSA-N</td>\n",
       "    </tr>\n",
       "    <tr>\n",
       "      <th>...</th>\n",
       "      <td>...</td>\n",
       "      <td>...</td>\n",
       "      <td>...</td>\n",
       "      <td>...</td>\n",
       "    </tr>\n",
       "    <tr>\n",
       "      <th>1669</th>\n",
       "      <td>CCOC(=O)N[C@@H]1CC[C@@H]2[C@H](C[C@@H]3[C@@H](...</td>\n",
       "      <td>CCOC(=O)NC1CCC2C(C1)CC1C(=O)OC(C)C1C2C=Cc1ccc(...</td>\n",
       "      <td>InChI=1S/C29H33FN2O4/c1-3-35-29(34)32-23-10-11...</td>\n",
       "      <td>ZBGXUVOIWDMMJE-UHFFFAOYSA-N</td>\n",
       "    </tr>\n",
       "    <tr>\n",
       "      <th>1670</th>\n",
       "      <td>CC(=O)C[C@@H](C1=CC=CC=C1)C1=C(O)C2=C(OC1=O)C=...</td>\n",
       "      <td>CC(=O)CC(c1ccccc1)c1c(O)c2ccccc2oc1=O</td>\n",
       "      <td>InChI=1S/C19H16O4/c1-12(20)11-15(13-7-3-2-4-8-...</td>\n",
       "      <td>PJVWKTKQMONHTI-UHFFFAOYSA-N</td>\n",
       "    </tr>\n",
       "    <tr>\n",
       "      <th>1671</th>\n",
       "      <td>C[C@H](CSC(=O)C1=CC=CC=C1)C(=O)N1C[C@H](C[C@H]...</td>\n",
       "      <td>CC(CSC(=O)c1ccccc1)C(=O)N1CC(Sc2ccccc2)CC1C(=O)O</td>\n",
       "      <td>InChI=1S/C22H23NO4S2/c1-15(14-28-22(27)16-8-4-...</td>\n",
       "      <td>IAIDUHCBNLFXEF-UHFFFAOYSA-N</td>\n",
       "    </tr>\n",
       "    <tr>\n",
       "      <th>1672</th>\n",
       "      <td>CS(=O)(=O)C1=CC=C(C=C1)C1=CN2C=CC=CC2=N1 |c:6,...</td>\n",
       "      <td>CS(=O)(=O)c1ccc(-c2cn3ccccc3n2)cc1</td>\n",
       "      <td>InChI=1S/C14H12N2O2S/c1-19(17,18)12-7-5-11(6-8...</td>\n",
       "      <td>VSLIUWLPFRVCDL-UHFFFAOYSA-N</td>\n",
       "    </tr>\n",
       "    <tr>\n",
       "      <th>1673</th>\n",
       "      <td>OCCN1CCN(CC\\C=C2\\C3=C(SC4=C2C=C(Cl)C=C4)C=CC=C...</td>\n",
       "      <td>OCCN1CCN(CCC=C2c3ccccc3Sc3ccc(Cl)cc32)CC1</td>\n",
       "      <td>InChI=1S/C22H25ClN2OS/c23-17-7-8-22-20(16-17)1...</td>\n",
       "      <td>WFPIAZLQTJBIFN-UHFFFAOYSA-N</td>\n",
       "    </tr>\n",
       "  </tbody>\n",
       "</table>\n",
       "<p>1674 rows × 4 columns</p>\n",
       "</div>"
      ],
      "text/plain": [
       "                                                 SMILES  \\\n",
       "0     C[C@@H]1CC[C@H]2C(C)(C)[C@H]3C[C@@]12CC[C@@]3(C)O   \n",
       "1     O[C@@H](COC1=CC=CC(Cl)=C1)\\C=C\\[C@H]1[C@H](O)C...   \n",
       "2     [H][C@@]12CC3=C(C=CC(=O)N3)[C@@](N)(CC(C)=C1)C...   \n",
       "3                  OC[C@H]1NC[C@@H](O)[C@@H](O)[C@@H]1O   \n",
       "4                                             CCCCCCCCO   \n",
       "...                                                 ...   \n",
       "1669  CCOC(=O)N[C@@H]1CC[C@@H]2[C@H](C[C@@H]3[C@@H](...   \n",
       "1670  CC(=O)C[C@@H](C1=CC=CC=C1)C1=C(O)C2=C(OC1=O)C=...   \n",
       "1671  C[C@H](CSC(=O)C1=CC=CC=C1)C(=O)N1C[C@H](C[C@H]...   \n",
       "1672  CS(=O)(=O)C1=CC=C(C=C1)C1=CN2C=CC=CC2=N1 |c:6,...   \n",
       "1673  OCCN1CCN(CC\\C=C2\\C3=C(SC4=C2C=C(Cl)C=C4)C=CC=C...   \n",
       "\n",
       "                             Standardized_SMILES_chembl  \\\n",
       "0                          CC1CCC2C(C)(C)C3CC12CCC3(C)O   \n",
       "1       O=C(O)CCCC=CCC1C(O)CC(O)C1C=CC(O)COc1cccc(Cl)c1   \n",
       "2                  CC=C1C2C=C(C)CC1(N)c1ccc(=O)[nH]c1C2   \n",
       "3                                     OCC1NCC(O)C(O)C1O   \n",
       "4                                             CCCCCCCCO   \n",
       "...                                                 ...   \n",
       "1669  CCOC(=O)NC1CCC2C(C1)CC1C(=O)OC(C)C1C2C=Cc1ccc(...   \n",
       "1670              CC(=O)CC(c1ccccc1)c1c(O)c2ccccc2oc1=O   \n",
       "1671   CC(CSC(=O)c1ccccc1)C(=O)N1CC(Sc2ccccc2)CC1C(=O)O   \n",
       "1672                 CS(=O)(=O)c1ccc(-c2cn3ccccc3n2)cc1   \n",
       "1673          OCCN1CCN(CCC=C2c3ccccc3Sc3ccc(Cl)cc32)CC1   \n",
       "\n",
       "                              Standardized_InChI_chembl  \\\n",
       "0     InChI=1S/C15H26O/c1-10-5-6-11-13(2,3)12-9-15(1...   \n",
       "1     InChI=1S/C22H29ClO6/c23-15-6-5-7-17(12-15)29-1...   \n",
       "2     InChI=1S/C15H18N2O/c1-3-11-10-6-9(2)8-15(11,16...   \n",
       "3     InChI=1S/C6H13NO4/c8-2-3-5(10)6(11)4(9)1-7-3/h...   \n",
       "4      InChI=1S/C8H18O/c1-2-3-4-5-6-7-8-9/h9H,2-8H2,1H3   \n",
       "...                                                 ...   \n",
       "1669  InChI=1S/C29H33FN2O4/c1-3-35-29(34)32-23-10-11...   \n",
       "1670  InChI=1S/C19H16O4/c1-12(20)11-15(13-7-3-2-4-8-...   \n",
       "1671  InChI=1S/C22H23NO4S2/c1-15(14-28-22(27)16-8-4-...   \n",
       "1672  InChI=1S/C14H12N2O2S/c1-19(17,18)12-7-5-11(6-8...   \n",
       "1673  InChI=1S/C22H25ClN2OS/c23-17-7-8-22-20(16-17)1...   \n",
       "\n",
       "     Standardized_InChIKey_chembl  \n",
       "0     SVURIXNDRWRAFU-UHFFFAOYSA-N  \n",
       "1     VJGGHXVGBSZVMZ-UHFFFAOYSA-N  \n",
       "2     ZRJBHWIHUMBLCN-UHFFFAOYSA-N  \n",
       "3     LXBIFEVIBLOUGU-UHFFFAOYSA-N  \n",
       "4     KBPLFHHGFOOTCA-UHFFFAOYSA-N  \n",
       "...                           ...  \n",
       "1669  ZBGXUVOIWDMMJE-UHFFFAOYSA-N  \n",
       "1670  PJVWKTKQMONHTI-UHFFFAOYSA-N  \n",
       "1671  IAIDUHCBNLFXEF-UHFFFAOYSA-N  \n",
       "1672  VSLIUWLPFRVCDL-UHFFFAOYSA-N  \n",
       "1673  WFPIAZLQTJBIFN-UHFFFAOYSA-N  \n",
       "\n",
       "[1674 rows x 4 columns]"
      ]
     },
     "execution_count": 53,
     "metadata": {},
     "output_type": "execute_result"
    }
   ],
   "source": [
    "df = df[[\"SMILES\", \"Standardized_SMILES_chembl\", \"Standardized_InChI_chembl\", \"Standardized_InChIKey_chembl\"]]\n",
    "df"
   ]
  },
  {
   "cell_type": "code",
   "execution_count": 54,
   "id": "174f05cc-5726-43bd-b22b-6e6072055039",
   "metadata": {},
   "outputs": [
    {
     "data": {
      "text/plain": [
       "1638"
      ]
     },
     "execution_count": 54,
     "metadata": {},
     "output_type": "execute_result"
    }
   ],
   "source": [
    "df.Standardized_InChIKey_chembl.nunique()"
   ]
  },
  {
   "cell_type": "code",
   "execution_count": 55,
   "id": "75771868-7051-4cbf-b6d4-27f653ae3b83",
   "metadata": {},
   "outputs": [],
   "source": [
    "df.to_csv(\"rxrx3_compounds_processed_chembl_identifiers.csv.gz\", index=False, compression=\"gzip\")"
   ]
  },
  {
   "cell_type": "code",
   "execution_count": 56,
   "id": "6d5d2f39-a4e4-4224-bef6-8d001de05d53",
   "metadata": {},
   "outputs": [
    {
     "data": {
      "text/html": [
       "<div>\n",
       "<style scoped>\n",
       "    .dataframe tbody tr th:only-of-type {\n",
       "        vertical-align: middle;\n",
       "    }\n",
       "\n",
       "    .dataframe tbody tr th {\n",
       "        vertical-align: top;\n",
       "    }\n",
       "\n",
       "    .dataframe thead th {\n",
       "        text-align: right;\n",
       "    }\n",
       "</style>\n",
       "<table border=\"1\" class=\"dataframe\">\n",
       "  <thead>\n",
       "    <tr style=\"text-align: right;\">\n",
       "      <th></th>\n",
       "      <th>SMILES</th>\n",
       "      <th>Standardized_SMILES_chembl</th>\n",
       "      <th>Standardized_InChI_chembl</th>\n",
       "      <th>Standardized_InChIKey_chembl</th>\n",
       "    </tr>\n",
       "  </thead>\n",
       "  <tbody>\n",
       "    <tr>\n",
       "      <th>0</th>\n",
       "      <td>C[C@@H]1CC[C@H]2C(C)(C)[C@H]3C[C@@]12CC[C@@]3(C)O</td>\n",
       "      <td>CC1CCC2C(C)(C)C3CC12CCC3(C)O</td>\n",
       "      <td>InChI=1S/C15H26O/c1-10-5-6-11-13(2,3)12-9-15(1...</td>\n",
       "      <td>SVURIXNDRWRAFU-UHFFFAOYSA-N</td>\n",
       "    </tr>\n",
       "    <tr>\n",
       "      <th>1</th>\n",
       "      <td>O[C@@H](COC1=CC=CC(Cl)=C1)\\C=C\\[C@H]1[C@H](O)C...</td>\n",
       "      <td>O=C(O)CCCC=CCC1C(O)CC(O)C1C=CC(O)COc1cccc(Cl)c1</td>\n",
       "      <td>InChI=1S/C22H29ClO6/c23-15-6-5-7-17(12-15)29-1...</td>\n",
       "      <td>VJGGHXVGBSZVMZ-UHFFFAOYSA-N</td>\n",
       "    </tr>\n",
       "    <tr>\n",
       "      <th>2</th>\n",
       "      <td>[H][C@@]12CC3=C(C=CC(=O)N3)[C@@](N)(CC(C)=C1)C...</td>\n",
       "      <td>CC=C1C2C=C(C)CC1(N)c1ccc(=O)[nH]c1C2</td>\n",
       "      <td>InChI=1S/C15H18N2O/c1-3-11-10-6-9(2)8-15(11,16...</td>\n",
       "      <td>ZRJBHWIHUMBLCN-UHFFFAOYSA-N</td>\n",
       "    </tr>\n",
       "    <tr>\n",
       "      <th>3</th>\n",
       "      <td>OC[C@H]1NC[C@@H](O)[C@@H](O)[C@@H]1O</td>\n",
       "      <td>OCC1NCC(O)C(O)C1O</td>\n",
       "      <td>InChI=1S/C6H13NO4/c8-2-3-5(10)6(11)4(9)1-7-3/h...</td>\n",
       "      <td>LXBIFEVIBLOUGU-UHFFFAOYSA-N</td>\n",
       "    </tr>\n",
       "    <tr>\n",
       "      <th>4</th>\n",
       "      <td>CCCCCCCCO</td>\n",
       "      <td>CCCCCCCCO</td>\n",
       "      <td>InChI=1S/C8H18O/c1-2-3-4-5-6-7-8-9/h9H,2-8H2,1H3</td>\n",
       "      <td>KBPLFHHGFOOTCA-UHFFFAOYSA-N</td>\n",
       "    </tr>\n",
       "    <tr>\n",
       "      <th>...</th>\n",
       "      <td>...</td>\n",
       "      <td>...</td>\n",
       "      <td>...</td>\n",
       "      <td>...</td>\n",
       "    </tr>\n",
       "    <tr>\n",
       "      <th>1669</th>\n",
       "      <td>CCOC(=O)N[C@@H]1CC[C@@H]2[C@H](C[C@@H]3[C@@H](...</td>\n",
       "      <td>CCOC(=O)NC1CCC2C(C1)CC1C(=O)OC(C)C1C2C=Cc1ccc(...</td>\n",
       "      <td>InChI=1S/C29H33FN2O4/c1-3-35-29(34)32-23-10-11...</td>\n",
       "      <td>ZBGXUVOIWDMMJE-UHFFFAOYSA-N</td>\n",
       "    </tr>\n",
       "    <tr>\n",
       "      <th>1670</th>\n",
       "      <td>CC(=O)C[C@@H](C1=CC=CC=C1)C1=C(O)C2=C(OC1=O)C=...</td>\n",
       "      <td>CC(=O)CC(c1ccccc1)c1c(O)c2ccccc2oc1=O</td>\n",
       "      <td>InChI=1S/C19H16O4/c1-12(20)11-15(13-7-3-2-4-8-...</td>\n",
       "      <td>PJVWKTKQMONHTI-UHFFFAOYSA-N</td>\n",
       "    </tr>\n",
       "    <tr>\n",
       "      <th>1671</th>\n",
       "      <td>C[C@H](CSC(=O)C1=CC=CC=C1)C(=O)N1C[C@H](C[C@H]...</td>\n",
       "      <td>CC(CSC(=O)c1ccccc1)C(=O)N1CC(Sc2ccccc2)CC1C(=O)O</td>\n",
       "      <td>InChI=1S/C22H23NO4S2/c1-15(14-28-22(27)16-8-4-...</td>\n",
       "      <td>IAIDUHCBNLFXEF-UHFFFAOYSA-N</td>\n",
       "    </tr>\n",
       "    <tr>\n",
       "      <th>1672</th>\n",
       "      <td>CS(=O)(=O)C1=CC=C(C=C1)C1=CN2C=CC=CC2=N1 |c:6,...</td>\n",
       "      <td>CS(=O)(=O)c1ccc(-c2cn3ccccc3n2)cc1</td>\n",
       "      <td>InChI=1S/C14H12N2O2S/c1-19(17,18)12-7-5-11(6-8...</td>\n",
       "      <td>VSLIUWLPFRVCDL-UHFFFAOYSA-N</td>\n",
       "    </tr>\n",
       "    <tr>\n",
       "      <th>1673</th>\n",
       "      <td>OCCN1CCN(CC\\C=C2\\C3=C(SC4=C2C=C(Cl)C=C4)C=CC=C...</td>\n",
       "      <td>OCCN1CCN(CCC=C2c3ccccc3Sc3ccc(Cl)cc32)CC1</td>\n",
       "      <td>InChI=1S/C22H25ClN2OS/c23-17-7-8-22-20(16-17)1...</td>\n",
       "      <td>WFPIAZLQTJBIFN-UHFFFAOYSA-N</td>\n",
       "    </tr>\n",
       "  </tbody>\n",
       "</table>\n",
       "<p>1674 rows × 4 columns</p>\n",
       "</div>"
      ],
      "text/plain": [
       "                                                 SMILES  \\\n",
       "0     C[C@@H]1CC[C@H]2C(C)(C)[C@H]3C[C@@]12CC[C@@]3(C)O   \n",
       "1     O[C@@H](COC1=CC=CC(Cl)=C1)\\C=C\\[C@H]1[C@H](O)C...   \n",
       "2     [H][C@@]12CC3=C(C=CC(=O)N3)[C@@](N)(CC(C)=C1)C...   \n",
       "3                  OC[C@H]1NC[C@@H](O)[C@@H](O)[C@@H]1O   \n",
       "4                                             CCCCCCCCO   \n",
       "...                                                 ...   \n",
       "1669  CCOC(=O)N[C@@H]1CC[C@@H]2[C@H](C[C@@H]3[C@@H](...   \n",
       "1670  CC(=O)C[C@@H](C1=CC=CC=C1)C1=C(O)C2=C(OC1=O)C=...   \n",
       "1671  C[C@H](CSC(=O)C1=CC=CC=C1)C(=O)N1C[C@H](C[C@H]...   \n",
       "1672  CS(=O)(=O)C1=CC=C(C=C1)C1=CN2C=CC=CC2=N1 |c:6,...   \n",
       "1673  OCCN1CCN(CC\\C=C2\\C3=C(SC4=C2C=C(Cl)C=C4)C=CC=C...   \n",
       "\n",
       "                             Standardized_SMILES_chembl  \\\n",
       "0                          CC1CCC2C(C)(C)C3CC12CCC3(C)O   \n",
       "1       O=C(O)CCCC=CCC1C(O)CC(O)C1C=CC(O)COc1cccc(Cl)c1   \n",
       "2                  CC=C1C2C=C(C)CC1(N)c1ccc(=O)[nH]c1C2   \n",
       "3                                     OCC1NCC(O)C(O)C1O   \n",
       "4                                             CCCCCCCCO   \n",
       "...                                                 ...   \n",
       "1669  CCOC(=O)NC1CCC2C(C1)CC1C(=O)OC(C)C1C2C=Cc1ccc(...   \n",
       "1670              CC(=O)CC(c1ccccc1)c1c(O)c2ccccc2oc1=O   \n",
       "1671   CC(CSC(=O)c1ccccc1)C(=O)N1CC(Sc2ccccc2)CC1C(=O)O   \n",
       "1672                 CS(=O)(=O)c1ccc(-c2cn3ccccc3n2)cc1   \n",
       "1673          OCCN1CCN(CCC=C2c3ccccc3Sc3ccc(Cl)cc32)CC1   \n",
       "\n",
       "                              Standardized_InChI_chembl  \\\n",
       "0     InChI=1S/C15H26O/c1-10-5-6-11-13(2,3)12-9-15(1...   \n",
       "1     InChI=1S/C22H29ClO6/c23-15-6-5-7-17(12-15)29-1...   \n",
       "2     InChI=1S/C15H18N2O/c1-3-11-10-6-9(2)8-15(11,16...   \n",
       "3     InChI=1S/C6H13NO4/c8-2-3-5(10)6(11)4(9)1-7-3/h...   \n",
       "4      InChI=1S/C8H18O/c1-2-3-4-5-6-7-8-9/h9H,2-8H2,1H3   \n",
       "...                                                 ...   \n",
       "1669  InChI=1S/C29H33FN2O4/c1-3-35-29(34)32-23-10-11...   \n",
       "1670  InChI=1S/C19H16O4/c1-12(20)11-15(13-7-3-2-4-8-...   \n",
       "1671  InChI=1S/C22H23NO4S2/c1-15(14-28-22(27)16-8-4-...   \n",
       "1672  InChI=1S/C14H12N2O2S/c1-19(17,18)12-7-5-11(6-8...   \n",
       "1673  InChI=1S/C22H25ClN2OS/c23-17-7-8-22-20(16-17)1...   \n",
       "\n",
       "     Standardized_InChIKey_chembl  \n",
       "0     SVURIXNDRWRAFU-UHFFFAOYSA-N  \n",
       "1     VJGGHXVGBSZVMZ-UHFFFAOYSA-N  \n",
       "2     ZRJBHWIHUMBLCN-UHFFFAOYSA-N  \n",
       "3     LXBIFEVIBLOUGU-UHFFFAOYSA-N  \n",
       "4     KBPLFHHGFOOTCA-UHFFFAOYSA-N  \n",
       "...                           ...  \n",
       "1669  ZBGXUVOIWDMMJE-UHFFFAOYSA-N  \n",
       "1670  PJVWKTKQMONHTI-UHFFFAOYSA-N  \n",
       "1671  IAIDUHCBNLFXEF-UHFFFAOYSA-N  \n",
       "1672  VSLIUWLPFRVCDL-UHFFFAOYSA-N  \n",
       "1673  WFPIAZLQTJBIFN-UHFFFAOYSA-N  \n",
       "\n",
       "[1674 rows x 4 columns]"
      ]
     },
     "execution_count": 56,
     "metadata": {},
     "output_type": "execute_result"
    }
   ],
   "source": [
    "import pandas as pd\n",
    "df = pd.read_csv(\"rxrx3_compounds_processed_chembl_identifiers.csv.gz\", compression=\"gzip\")\n",
    "df"
   ]
  },
  {
   "cell_type": "code",
   "execution_count": 57,
   "id": "99aa8aa1-d0b7-4903-bba7-bb5a051b6891",
   "metadata": {},
   "outputs": [],
   "source": [
    "from chembl_webresource_client.new_client import new_client\n",
    "\n",
    "# Set up the ChEMBL client\n",
    "chembl_client = new_client"
   ]
  },
  {
   "cell_type": "code",
   "execution_count": 58,
   "id": "666ab34e-31bc-4f20-9931-26961d2ab24e",
   "metadata": {},
   "outputs": [
    {
     "name": "stdout",
     "output_type": "stream",
     "text": [
      "INFO: Pandarallel will run on 80 workers.\n",
      "INFO: Pandarallel will use Memory file system to transfer data between the main process and workers.\n"
     ]
    }
   ],
   "source": [
    "from pandarallel import pandarallel\n",
    "pandarallel.initialize(progress_bar=True, nb_workers=80)"
   ]
  },
  {
   "cell_type": "code",
   "execution_count": 59,
   "id": "88672f08-2e91-46cc-bd69-6cc1f5b99c41",
   "metadata": {},
   "outputs": [],
   "source": [
    "def smiles_to_chembl_id(smiles):\n",
    "    try:\n",
    "        molecule = chembl_client.molecule\n",
    "        result = molecule.filter(smiles=smiles).only(\"molecule_chembl_id\")\n",
    "        return result[0][\"molecule_chembl_id\"] if result else None\n",
    "    except Exception as e:\n",
    "        print(f\"Error converting SMILES to ChEMBL ID for {smiles}: {e}\")\n",
    "        return \"Cannot_do\""
   ]
  },
  {
   "cell_type": "code",
   "execution_count": 62,
   "id": "7ff1f251-152a-496a-8a4e-5c6eff99b90a",
   "metadata": {
    "scrolled": true,
    "tags": []
   },
   "outputs": [
    {
     "name": "stderr",
     "output_type": "stream",
     "text": [
      " 16%|█▌        | 271/1674 [00:06<00:34, 40.91it/s] \n",
      "\n",
      "KeyboardInterrupt\n",
      "\n"
     ]
    }
   ],
   "source": [
    "\n",
    "from tqdm import tqdm\n",
    "import pandas as pd\n",
    "\n",
    "# Initialize tqdm for pandas\n",
    "tqdm.pandas()\n",
    "\n",
    "\n",
    "# Apply the function to each row with progress bar\n",
    "df['ChEMBL_ID'] = df['Standardized_InChIKey_chembl'].progress_apply(inchikey_to_chembl_id)\n",
    "\n",
    "# Display the updated DataFrame\n",
    "df"
   ]
  },
  {
   "cell_type": "code",
   "execution_count": null,
   "id": "5f502b5e-2b8d-4e5f-85a0-6f716904edad",
   "metadata": {},
   "outputs": [],
   "source": []
  },
  {
   "cell_type": "code",
   "execution_count": null,
   "id": "dd3203a5-156b-4cc4-9b51-2c6edff8ff46",
   "metadata": {},
   "outputs": [],
   "source": [
    "df.ChEMBL_ID.nunique()"
   ]
  },
  {
   "cell_type": "code",
   "execution_count": null,
   "id": "763f9fa2-d568-4e98-9e45-ef807dc96c18",
   "metadata": {},
   "outputs": [],
   "source": [
    "df.to_csv(\"rxrx3_compounds_processed_chembl_identifiers.csv.gz\", index=False, compression=\"gzip\")"
   ]
  }
 ],
 "metadata": {
  "kernelspec": {
   "display_name": "my-rdkit-env",
   "language": "python",
   "name": "my-rdkit-env"
  },
  "language_info": {
   "codemirror_mode": {
    "name": "ipython",
    "version": 3
   },
   "file_extension": ".py",
   "mimetype": "text/x-python",
   "name": "python",
   "nbconvert_exporter": "python",
   "pygments_lexer": "ipython3",
   "version": "3.10.12"
  }
 },
 "nbformat": 4,
 "nbformat_minor": 5
}
