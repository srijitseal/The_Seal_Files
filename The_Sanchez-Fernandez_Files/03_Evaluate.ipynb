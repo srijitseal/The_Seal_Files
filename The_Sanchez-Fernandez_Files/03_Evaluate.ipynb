{
 "cells": [
  {
   "cell_type": "code",
   "execution_count": 62,
   "id": "90a32575-cb1b-4e91-a6c5-794365d2b450",
   "metadata": {},
   "outputs": [],
   "source": [
    "import pandas as pd"
   ]
  },
  {
   "cell_type": "code",
   "execution_count": 63,
   "id": "14c2f08c-4cad-444d-ab93-311eb6ff0b9e",
   "metadata": {},
   "outputs": [
    {
     "data": {
      "text/html": [
       "<div>\n",
       "<style scoped>\n",
       "    .dataframe tbody tr th:only-of-type {\n",
       "        vertical-align: middle;\n",
       "    }\n",
       "\n",
       "    .dataframe tbody tr th {\n",
       "        vertical-align: top;\n",
       "    }\n",
       "\n",
       "    .dataframe thead th {\n",
       "        text-align: right;\n",
       "    }\n",
       "</style>\n",
       "<table border=\"1\" class=\"dataframe\">\n",
       "  <thead>\n",
       "    <tr style=\"text-align: right;\">\n",
       "      <th></th>\n",
       "      <th>assay</th>\n",
       "      <th>best_C</th>\n",
       "      <th>val_auc</th>\n",
       "      <th>test_auc</th>\n",
       "    </tr>\n",
       "  </thead>\n",
       "  <tbody>\n",
       "    <tr>\n",
       "      <th>0</th>\n",
       "      <td>1</td>\n",
       "      <td>3336.666667</td>\n",
       "      <td>0.643791</td>\n",
       "      <td>0.611836</td>\n",
       "    </tr>\n",
       "    <tr>\n",
       "      <th>1</th>\n",
       "      <td>2</td>\n",
       "      <td>0.366667</td>\n",
       "      <td>0.911111</td>\n",
       "      <td>0.513933</td>\n",
       "    </tr>\n",
       "    <tr>\n",
       "      <th>2</th>\n",
       "      <td>4</td>\n",
       "      <td>333.333334</td>\n",
       "      <td>0.499074</td>\n",
       "      <td>0.337617</td>\n",
       "    </tr>\n",
       "    <tr>\n",
       "      <th>3</th>\n",
       "      <td>5</td>\n",
       "      <td>370.000000</td>\n",
       "      <td>0.841270</td>\n",
       "      <td>0.480207</td>\n",
       "    </tr>\n",
       "    <tr>\n",
       "      <th>4</th>\n",
       "      <td>6</td>\n",
       "      <td>5000.000001</td>\n",
       "      <td>0.400000</td>\n",
       "      <td>0.620179</td>\n",
       "    </tr>\n",
       "    <tr>\n",
       "      <th>...</th>\n",
       "      <td>...</td>\n",
       "      <td>...</td>\n",
       "      <td>...</td>\n",
       "      <td>...</td>\n",
       "    </tr>\n",
       "    <tr>\n",
       "      <th>200</th>\n",
       "      <td>205</td>\n",
       "      <td>333.666667</td>\n",
       "      <td>0.570800</td>\n",
       "      <td>0.613390</td>\n",
       "    </tr>\n",
       "    <tr>\n",
       "      <th>201</th>\n",
       "      <td>206</td>\n",
       "      <td>0.000001</td>\n",
       "      <td>0.875000</td>\n",
       "      <td>0.599359</td>\n",
       "    </tr>\n",
       "    <tr>\n",
       "      <th>202</th>\n",
       "      <td>207</td>\n",
       "      <td>0.000001</td>\n",
       "      <td>1.000000</td>\n",
       "      <td>0.333333</td>\n",
       "    </tr>\n",
       "    <tr>\n",
       "      <th>203</th>\n",
       "      <td>208</td>\n",
       "      <td>0.000001</td>\n",
       "      <td>0.450794</td>\n",
       "      <td>0.491841</td>\n",
       "    </tr>\n",
       "    <tr>\n",
       "      <th>204</th>\n",
       "      <td>209</td>\n",
       "      <td>0.000334</td>\n",
       "      <td>0.548097</td>\n",
       "      <td>0.512244</td>\n",
       "    </tr>\n",
       "  </tbody>\n",
       "</table>\n",
       "<p>205 rows × 4 columns</p>\n",
       "</div>"
      ],
      "text/plain": [
       "     assay       best_C   val_auc  test_auc\n",
       "0        1  3336.666667  0.643791  0.611836\n",
       "1        2     0.366667  0.911111  0.513933\n",
       "2        4   333.333334  0.499074  0.337617\n",
       "3        5   370.000000  0.841270  0.480207\n",
       "4        6  5000.000001  0.400000  0.620179\n",
       "..     ...          ...       ...       ...\n",
       "200    205   333.666667  0.570800  0.613390\n",
       "201    206     0.000001  0.875000  0.599359\n",
       "202    207     0.000001  1.000000  0.333333\n",
       "203    208     0.000001  0.450794  0.491841\n",
       "204    209     0.000334  0.548097  0.512244\n",
       "\n",
       "[205 rows x 4 columns]"
      ]
     },
     "execution_count": 63,
     "metadata": {},
     "output_type": "execute_result"
    }
   ],
   "source": [
    "df =pd.read_csv(\"logistic_regression_results.csv\")\n",
    "df = df.groupby(\"assay\").mean().reset_index()\n",
    "df"
   ]
  },
  {
   "cell_type": "code",
   "execution_count": 64,
   "id": "56bceac7-dea5-41f9-9cb3-b48242e733c6",
   "metadata": {},
   "outputs": [
    {
     "data": {
      "text/plain": [
       "0.5341381782313491"
      ]
     },
     "execution_count": 64,
     "metadata": {},
     "output_type": "execute_result"
    }
   ],
   "source": [
    "df.test_auc.mean()"
   ]
  },
  {
   "cell_type": "code",
   "execution_count": 65,
   "id": "57ba49eb-51e1-45d1-a8c2-955f6ac9bca3",
   "metadata": {},
   "outputs": [
    {
     "data": {
      "text/plain": [
       "0.14606889526760103"
      ]
     },
     "execution_count": 65,
     "metadata": {},
     "output_type": "execute_result"
    }
   ],
   "source": [
    "df.test_auc.std()"
   ]
  },
  {
   "cell_type": "code",
   "execution_count": 66,
   "id": "5a181da2-2375-4ea0-82f8-34bd27ee5c9f",
   "metadata": {},
   "outputs": [
    {
     "data": {
      "text/plain": [
       "0"
      ]
     },
     "execution_count": 66,
     "metadata": {},
     "output_type": "execute_result"
    }
   ],
   "source": [
    "len(df[df[\"test_auc\"]>=0.9])"
   ]
  },
  {
   "cell_type": "code",
   "execution_count": 67,
   "id": "0fbbc2ff-dacb-477b-8316-1a8ea6d90109",
   "metadata": {},
   "outputs": [
    {
     "data": {
      "text/plain": [
       "5"
      ]
     },
     "execution_count": 67,
     "metadata": {},
     "output_type": "execute_result"
    }
   ],
   "source": [
    "len(df[df[\"test_auc\"]>=0.8])"
   ]
  },
  {
   "cell_type": "code",
   "execution_count": 68,
   "id": "b592b941-8fc8-42ed-a0d5-8fce46154c6b",
   "metadata": {},
   "outputs": [
    {
     "data": {
      "text/plain": [
       "20"
      ]
     },
     "execution_count": 68,
     "metadata": {},
     "output_type": "execute_result"
    }
   ],
   "source": [
    "len(df[df[\"test_auc\"]>=0.7])"
   ]
  },
  {
   "cell_type": "code",
   "execution_count": 69,
   "id": "a003461f-b137-4735-96c6-3091c0abb4bc",
   "metadata": {},
   "outputs": [
    {
     "data": {
      "text/html": [
       "<div>\n",
       "<style scoped>\n",
       "    .dataframe tbody tr th:only-of-type {\n",
       "        vertical-align: middle;\n",
       "    }\n",
       "\n",
       "    .dataframe tbody tr th {\n",
       "        vertical-align: top;\n",
       "    }\n",
       "\n",
       "    .dataframe thead th {\n",
       "        text-align: right;\n",
       "    }\n",
       "</style>\n",
       "<table border=\"1\" class=\"dataframe\">\n",
       "  <thead>\n",
       "    <tr style=\"text-align: right;\">\n",
       "      <th></th>\n",
       "      <th>Type</th>\n",
       "      <th>Method</th>\n",
       "      <th>AUC (mean)</th>\n",
       "      <th>AUC(stdev)</th>\n",
       "      <th>F1(mean)</th>\n",
       "      <th>F1(stdev)</th>\n",
       "      <th>AUC &gt; 0.9</th>\n",
       "      <th>AUC &gt; 0.8</th>\n",
       "      <th>AUC &gt; 0.7</th>\n",
       "    </tr>\n",
       "  </thead>\n",
       "  <tbody>\n",
       "    <tr>\n",
       "      <th>0</th>\n",
       "      <td>Linear probing</td>\n",
       "      <td>CLOOME</td>\n",
       "      <td>0.714</td>\n",
       "      <td>0.20</td>\n",
       "      <td>0.395</td>\n",
       "      <td>0.32</td>\n",
       "      <td>57</td>\n",
       "      <td>84</td>\n",
       "      <td>109</td>\n",
       "    </tr>\n",
       "    <tr>\n",
       "      <th>1</th>\n",
       "      <td>Linear probing</td>\n",
       "      <td>CellProfiler</td>\n",
       "      <td>0.655</td>\n",
       "      <td>0.20</td>\n",
       "      <td>0.273</td>\n",
       "      <td>0.32</td>\n",
       "      <td>35</td>\n",
       "      <td>63</td>\n",
       "      <td>84</td>\n",
       "    </tr>\n",
       "    <tr>\n",
       "      <th>2</th>\n",
       "      <td>Supervised</td>\n",
       "      <td>ResNet</td>\n",
       "      <td>0.731</td>\n",
       "      <td>0.19</td>\n",
       "      <td>0.508</td>\n",
       "      <td>0.30</td>\n",
       "      <td>68</td>\n",
       "      <td>94</td>\n",
       "      <td>119</td>\n",
       "    </tr>\n",
       "    <tr>\n",
       "      <th>3</th>\n",
       "      <td>Supervised</td>\n",
       "      <td>DenseNet</td>\n",
       "      <td>0.730</td>\n",
       "      <td>0.19</td>\n",
       "      <td>0.530</td>\n",
       "      <td>0.30</td>\n",
       "      <td>61</td>\n",
       "      <td>98</td>\n",
       "      <td>121</td>\n",
       "    </tr>\n",
       "    <tr>\n",
       "      <th>4</th>\n",
       "      <td>Supervised</td>\n",
       "      <td>GapNet</td>\n",
       "      <td>0.725</td>\n",
       "      <td>0.19</td>\n",
       "      <td>0.510</td>\n",
       "      <td>0.29</td>\n",
       "      <td>63</td>\n",
       "      <td>94</td>\n",
       "      <td>117</td>\n",
       "    </tr>\n",
       "    <tr>\n",
       "      <th>5</th>\n",
       "      <td>Supervised</td>\n",
       "      <td>MIL-Net</td>\n",
       "      <td>0.711</td>\n",
       "      <td>0.18</td>\n",
       "      <td>0.445</td>\n",
       "      <td>0.32</td>\n",
       "      <td>61</td>\n",
       "      <td>81</td>\n",
       "      <td>105</td>\n",
       "    </tr>\n",
       "    <tr>\n",
       "      <th>6</th>\n",
       "      <td>Supervised</td>\n",
       "      <td>M-CNN</td>\n",
       "      <td>0.705</td>\n",
       "      <td>0.19</td>\n",
       "      <td>0.482</td>\n",
       "      <td>0.31</td>\n",
       "      <td>57</td>\n",
       "      <td>78</td>\n",
       "      <td>105</td>\n",
       "    </tr>\n",
       "    <tr>\n",
       "      <th>7</th>\n",
       "      <td>Supervised</td>\n",
       "      <td>SC-CNN</td>\n",
       "      <td>0.705</td>\n",
       "      <td>0.20</td>\n",
       "      <td>0.362</td>\n",
       "      <td>0.29</td>\n",
       "      <td>61</td>\n",
       "      <td>83</td>\n",
       "      <td>109</td>\n",
       "    </tr>\n",
       "    <tr>\n",
       "      <th>8</th>\n",
       "      <td>Supervised</td>\n",
       "      <td>FNN</td>\n",
       "      <td>0.675</td>\n",
       "      <td>0.20</td>\n",
       "      <td>0.361</td>\n",
       "      <td>0.31</td>\n",
       "      <td>55</td>\n",
       "      <td>71</td>\n",
       "      <td>90</td>\n",
       "    </tr>\n",
       "  </tbody>\n",
       "</table>\n",
       "</div>"
      ],
      "text/plain": [
       "             Type        Method AUC (mean) AUC(stdev) F1(mean) F1(stdev)  \\\n",
       "0  Linear probing        CLOOME     0.714        0.20   0.395       0.32   \n",
       "1  Linear probing  CellProfiler     0.655        0.20   0.273       0.32   \n",
       "2      Supervised        ResNet     0.731        0.19   0.508       0.30   \n",
       "3      Supervised      DenseNet     0.730        0.19   0.530       0.30   \n",
       "4      Supervised        GapNet     0.725        0.19   0.510       0.29   \n",
       "5      Supervised       MIL-Net     0.711        0.18   0.445       0.32   \n",
       "6      Supervised         M-CNN     0.705        0.19   0.482       0.31   \n",
       "7      Supervised        SC-CNN     0.705        0.20   0.362       0.29   \n",
       "8      Supervised           FNN     0.675        0.20   0.361       0.31   \n",
       "\n",
       "   AUC > 0.9  AUC > 0.8  AUC > 0.7  \n",
       "0         57         84        109  \n",
       "1         35         63         84  \n",
       "2         68         94        119  \n",
       "3         61         98        121  \n",
       "4         63         94        117  \n",
       "5         61         81        105  \n",
       "6         57         78        105  \n",
       "7         61         83        109  \n",
       "8         55         71         90  "
      ]
     },
     "execution_count": 69,
     "metadata": {},
     "output_type": "execute_result"
    }
   ],
   "source": [
    "cloome =pd.read_csv(\"cloome_results.csv\")\n",
    "cloome"
   ]
  },
  {
   "cell_type": "code",
   "execution_count": null,
   "id": "bf90bf3a-4c4a-4343-ad1e-ec469216824b",
   "metadata": {},
   "outputs": [],
   "source": []
  },
  {
   "cell_type": "code",
   "execution_count": null,
   "id": "495f0407-6462-43fb-8816-704f5b2585bf",
   "metadata": {},
   "outputs": [],
   "source": []
  }
 ],
 "metadata": {
  "kernelspec": {
   "display_name": "Python 3",
   "language": "python",
   "name": "python3"
  },
  "language_info": {
   "codemirror_mode": {
    "name": "ipython",
    "version": 3
   },
   "file_extension": ".py",
   "mimetype": "text/x-python",
   "name": "python",
   "nbconvert_exporter": "python",
   "pygments_lexer": "ipython3",
   "version": "3.7.16"
  }
 },
 "nbformat": 4,
 "nbformat_minor": 5
}
