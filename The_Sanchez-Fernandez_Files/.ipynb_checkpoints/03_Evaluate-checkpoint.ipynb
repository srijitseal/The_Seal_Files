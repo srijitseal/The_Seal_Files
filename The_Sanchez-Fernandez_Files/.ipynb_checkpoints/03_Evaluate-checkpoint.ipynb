{
 "cells": [
  {
   "cell_type": "code",
   "execution_count": 1,
   "id": "90a32575-cb1b-4e91-a6c5-794365d2b450",
   "metadata": {},
   "outputs": [],
   "source": [
    "import pandas as pd"
   ]
  },
  {
   "cell_type": "code",
   "execution_count": 8,
   "id": "14c2f08c-4cad-444d-ab93-311eb6ff0b9e",
   "metadata": {},
   "outputs": [
    {
     "data": {
      "text/html": [
       "<div>\n",
       "<style scoped>\n",
       "    .dataframe tbody tr th:only-of-type {\n",
       "        vertical-align: middle;\n",
       "    }\n",
       "\n",
       "    .dataframe tbody tr th {\n",
       "        vertical-align: top;\n",
       "    }\n",
       "\n",
       "    .dataframe thead th {\n",
       "        text-align: right;\n",
       "    }\n",
       "</style>\n",
       "<table border=\"1\" class=\"dataframe\">\n",
       "  <thead>\n",
       "    <tr style=\"text-align: right;\">\n",
       "      <th></th>\n",
       "      <th>assay</th>\n",
       "      <th>best_C</th>\n",
       "      <th>val_auc</th>\n",
       "      <th>test_auc</th>\n",
       "    </tr>\n",
       "  </thead>\n",
       "  <tbody>\n",
       "    <tr>\n",
       "      <th>0</th>\n",
       "      <td>1</td>\n",
       "      <td>3.666667</td>\n",
       "      <td>0.694911</td>\n",
       "      <td>0.605753</td>\n",
       "    </tr>\n",
       "    <tr>\n",
       "      <th>1</th>\n",
       "      <td>2</td>\n",
       "      <td>0.000001</td>\n",
       "      <td>0.844444</td>\n",
       "      <td>0.507357</td>\n",
       "    </tr>\n",
       "    <tr>\n",
       "      <th>2</th>\n",
       "      <td>3</td>\n",
       "      <td>0.100000</td>\n",
       "      <td>0.142857</td>\n",
       "      <td>0.416667</td>\n",
       "    </tr>\n",
       "    <tr>\n",
       "      <th>3</th>\n",
       "      <td>4</td>\n",
       "      <td>336.666667</td>\n",
       "      <td>0.401852</td>\n",
       "      <td>0.309343</td>\n",
       "    </tr>\n",
       "    <tr>\n",
       "      <th>4</th>\n",
       "      <td>5</td>\n",
       "      <td>0.000001</td>\n",
       "      <td>0.261905</td>\n",
       "      <td>0.182540</td>\n",
       "    </tr>\n",
       "    <tr>\n",
       "      <th>...</th>\n",
       "      <td>...</td>\n",
       "      <td>...</td>\n",
       "      <td>...</td>\n",
       "      <td>...</td>\n",
       "    </tr>\n",
       "    <tr>\n",
       "      <th>201</th>\n",
       "      <td>205</td>\n",
       "      <td>333333.333667</td>\n",
       "      <td>0.526221</td>\n",
       "      <td>0.632947</td>\n",
       "    </tr>\n",
       "    <tr>\n",
       "      <th>202</th>\n",
       "      <td>206</td>\n",
       "      <td>0.000001</td>\n",
       "      <td>0.875000</td>\n",
       "      <td>0.612179</td>\n",
       "    </tr>\n",
       "    <tr>\n",
       "      <th>203</th>\n",
       "      <td>207</td>\n",
       "      <td>0.000001</td>\n",
       "      <td>0.000000</td>\n",
       "      <td>0.487500</td>\n",
       "    </tr>\n",
       "    <tr>\n",
       "      <th>204</th>\n",
       "      <td>208</td>\n",
       "      <td>6667.000000</td>\n",
       "      <td>0.714815</td>\n",
       "      <td>0.537624</td>\n",
       "    </tr>\n",
       "    <tr>\n",
       "      <th>205</th>\n",
       "      <td>209</td>\n",
       "      <td>0.003334</td>\n",
       "      <td>0.520766</td>\n",
       "      <td>0.511872</td>\n",
       "    </tr>\n",
       "  </tbody>\n",
       "</table>\n",
       "<p>206 rows × 4 columns</p>\n",
       "</div>"
      ],
      "text/plain": [
       "     assay         best_C   val_auc  test_auc\n",
       "0        1       3.666667  0.694911  0.605753\n",
       "1        2       0.000001  0.844444  0.507357\n",
       "2        3       0.100000  0.142857  0.416667\n",
       "3        4     336.666667  0.401852  0.309343\n",
       "4        5       0.000001  0.261905  0.182540\n",
       "..     ...            ...       ...       ...\n",
       "201    205  333333.333667  0.526221  0.632947\n",
       "202    206       0.000001  0.875000  0.612179\n",
       "203    207       0.000001  0.000000  0.487500\n",
       "204    208    6667.000000  0.714815  0.537624\n",
       "205    209       0.003334  0.520766  0.511872\n",
       "\n",
       "[206 rows x 4 columns]"
      ]
     },
     "execution_count": 8,
     "metadata": {},
     "output_type": "execute_result"
    }
   ],
   "source": [
    "df =pd.read_csv(\"logistic_regression_results.csv\")\n",
    "df = df.groupby(\"assay\").mean().reset_index()\n",
    "df"
   ]
  },
  {
   "cell_type": "code",
   "execution_count": 19,
   "id": "56bceac7-dea5-41f9-9cb3-b48242e733c6",
   "metadata": {},
   "outputs": [
    {
     "data": {
      "text/plain": [
       "0.5413092751250448"
      ]
     },
     "execution_count": 19,
     "metadata": {},
     "output_type": "execute_result"
    }
   ],
   "source": [
    "df.test_auc.mean()"
   ]
  },
  {
   "cell_type": "code",
   "execution_count": 20,
   "id": "57ba49eb-51e1-45d1-a8c2-955f6ac9bca3",
   "metadata": {},
   "outputs": [
    {
     "data": {
      "text/plain": [
       "0.14609680170630934"
      ]
     },
     "execution_count": 20,
     "metadata": {},
     "output_type": "execute_result"
    }
   ],
   "source": [
    "df.test_auc.std()"
   ]
  },
  {
   "cell_type": "code",
   "execution_count": 15,
   "id": "5a181da2-2375-4ea0-82f8-34bd27ee5c9f",
   "metadata": {},
   "outputs": [
    {
     "data": {
      "text/plain": [
       "0"
      ]
     },
     "execution_count": 15,
     "metadata": {},
     "output_type": "execute_result"
    }
   ],
   "source": [
    "len(df[df[\"test_auc\"]>=0.9])"
   ]
  },
  {
   "cell_type": "code",
   "execution_count": 16,
   "id": "0fbbc2ff-dacb-477b-8316-1a8ea6d90109",
   "metadata": {},
   "outputs": [
    {
     "data": {
      "text/plain": [
       "6"
      ]
     },
     "execution_count": 16,
     "metadata": {},
     "output_type": "execute_result"
    }
   ],
   "source": [
    "len(df[df[\"test_auc\"]>=0.8])"
   ]
  },
  {
   "cell_type": "code",
   "execution_count": 17,
   "id": "b592b941-8fc8-42ed-a0d5-8fce46154c6b",
   "metadata": {},
   "outputs": [
    {
     "data": {
      "text/plain": [
       "25"
      ]
     },
     "execution_count": 17,
     "metadata": {},
     "output_type": "execute_result"
    }
   ],
   "source": [
    "len(df[df[\"test_auc\"]>=0.7])"
   ]
  },
  {
   "cell_type": "code",
   "execution_count": 18,
   "id": "a003461f-b137-4735-96c6-3091c0abb4bc",
   "metadata": {},
   "outputs": [
    {
     "data": {
      "text/html": [
       "<div>\n",
       "<style scoped>\n",
       "    .dataframe tbody tr th:only-of-type {\n",
       "        vertical-align: middle;\n",
       "    }\n",
       "\n",
       "    .dataframe tbody tr th {\n",
       "        vertical-align: top;\n",
       "    }\n",
       "\n",
       "    .dataframe thead th {\n",
       "        text-align: right;\n",
       "    }\n",
       "</style>\n",
       "<table border=\"1\" class=\"dataframe\">\n",
       "  <thead>\n",
       "    <tr style=\"text-align: right;\">\n",
       "      <th></th>\n",
       "      <th>Type</th>\n",
       "      <th>Method</th>\n",
       "      <th>AUC (mean)</th>\n",
       "      <th>AUC(stdev)</th>\n",
       "      <th>F1(mean)</th>\n",
       "      <th>F1(stdev)</th>\n",
       "      <th>AUC &gt; 0.9</th>\n",
       "      <th>AUC &gt; 0.8</th>\n",
       "      <th>AUC &gt; 0.7</th>\n",
       "    </tr>\n",
       "  </thead>\n",
       "  <tbody>\n",
       "    <tr>\n",
       "      <th>0</th>\n",
       "      <td>Linear probing</td>\n",
       "      <td>CLOOME</td>\n",
       "      <td>0.714</td>\n",
       "      <td>0.20</td>\n",
       "      <td>0.395</td>\n",
       "      <td>0.32</td>\n",
       "      <td>57</td>\n",
       "      <td>84</td>\n",
       "      <td>109</td>\n",
       "    </tr>\n",
       "    <tr>\n",
       "      <th>1</th>\n",
       "      <td>Linear probing</td>\n",
       "      <td>CellProfiler</td>\n",
       "      <td>0.655</td>\n",
       "      <td>0.20</td>\n",
       "      <td>0.273</td>\n",
       "      <td>0.32</td>\n",
       "      <td>35</td>\n",
       "      <td>63</td>\n",
       "      <td>84</td>\n",
       "    </tr>\n",
       "    <tr>\n",
       "      <th>2</th>\n",
       "      <td>Supervised</td>\n",
       "      <td>ResNet</td>\n",
       "      <td>0.731</td>\n",
       "      <td>0.19</td>\n",
       "      <td>0.508</td>\n",
       "      <td>0.30</td>\n",
       "      <td>68</td>\n",
       "      <td>94</td>\n",
       "      <td>119</td>\n",
       "    </tr>\n",
       "    <tr>\n",
       "      <th>3</th>\n",
       "      <td>Supervised</td>\n",
       "      <td>DenseNet</td>\n",
       "      <td>0.730</td>\n",
       "      <td>0.19</td>\n",
       "      <td>0.530</td>\n",
       "      <td>0.30</td>\n",
       "      <td>61</td>\n",
       "      <td>98</td>\n",
       "      <td>121</td>\n",
       "    </tr>\n",
       "    <tr>\n",
       "      <th>4</th>\n",
       "      <td>Supervised</td>\n",
       "      <td>GapNet</td>\n",
       "      <td>0.725</td>\n",
       "      <td>0.19</td>\n",
       "      <td>0.510</td>\n",
       "      <td>0.29</td>\n",
       "      <td>63</td>\n",
       "      <td>94</td>\n",
       "      <td>117</td>\n",
       "    </tr>\n",
       "    <tr>\n",
       "      <th>5</th>\n",
       "      <td>Supervised</td>\n",
       "      <td>MIL-Net</td>\n",
       "      <td>0.711</td>\n",
       "      <td>0.18</td>\n",
       "      <td>0.445</td>\n",
       "      <td>0.32</td>\n",
       "      <td>61</td>\n",
       "      <td>81</td>\n",
       "      <td>105</td>\n",
       "    </tr>\n",
       "    <tr>\n",
       "      <th>6</th>\n",
       "      <td>Supervised</td>\n",
       "      <td>M-CNN</td>\n",
       "      <td>0.705</td>\n",
       "      <td>0.19</td>\n",
       "      <td>0.482</td>\n",
       "      <td>0.31</td>\n",
       "      <td>57</td>\n",
       "      <td>78</td>\n",
       "      <td>105</td>\n",
       "    </tr>\n",
       "    <tr>\n",
       "      <th>7</th>\n",
       "      <td>Supervised</td>\n",
       "      <td>SC-CNN</td>\n",
       "      <td>0.705</td>\n",
       "      <td>0.20</td>\n",
       "      <td>0.362</td>\n",
       "      <td>0.29</td>\n",
       "      <td>61</td>\n",
       "      <td>83</td>\n",
       "      <td>109</td>\n",
       "    </tr>\n",
       "    <tr>\n",
       "      <th>8</th>\n",
       "      <td>Supervised</td>\n",
       "      <td>FNN</td>\n",
       "      <td>0.675</td>\n",
       "      <td>0.20</td>\n",
       "      <td>0.361</td>\n",
       "      <td>0.31</td>\n",
       "      <td>55</td>\n",
       "      <td>71</td>\n",
       "      <td>90</td>\n",
       "    </tr>\n",
       "  </tbody>\n",
       "</table>\n",
       "</div>"
      ],
      "text/plain": [
       "             Type        Method AUC (mean) AUC(stdev) F1(mean) F1(stdev)  \\\n",
       "0  Linear probing        CLOOME     0.714        0.20   0.395       0.32   \n",
       "1  Linear probing  CellProfiler     0.655        0.20   0.273       0.32   \n",
       "2      Supervised        ResNet     0.731        0.19   0.508       0.30   \n",
       "3      Supervised      DenseNet     0.730        0.19   0.530       0.30   \n",
       "4      Supervised        GapNet     0.725        0.19   0.510       0.29   \n",
       "5      Supervised       MIL-Net     0.711        0.18   0.445       0.32   \n",
       "6      Supervised         M-CNN     0.705        0.19   0.482       0.31   \n",
       "7      Supervised        SC-CNN     0.705        0.20   0.362       0.29   \n",
       "8      Supervised           FNN     0.675        0.20   0.361       0.31   \n",
       "\n",
       "   AUC > 0.9  AUC > 0.8  AUC > 0.7  \n",
       "0         57         84        109  \n",
       "1         35         63         84  \n",
       "2         68         94        119  \n",
       "3         61         98        121  \n",
       "4         63         94        117  \n",
       "5         61         81        105  \n",
       "6         57         78        105  \n",
       "7         61         83        109  \n",
       "8         55         71         90  "
      ]
     },
     "execution_count": 18,
     "metadata": {},
     "output_type": "execute_result"
    }
   ],
   "source": [
    "cloome =pd.read_csv(\"cloome_results.csv\")\n",
    "cloome"
   ]
  },
  {
   "cell_type": "code",
   "execution_count": null,
   "id": "bf90bf3a-4c4a-4343-ad1e-ec469216824b",
   "metadata": {},
   "outputs": [],
   "source": []
  }
 ],
 "metadata": {
  "kernelspec": {
   "display_name": "Python 3",
   "language": "python",
   "name": "python3"
  },
  "language_info": {
   "codemirror_mode": {
    "name": "ipython",
    "version": 3
   },
   "file_extension": ".py",
   "mimetype": "text/x-python",
   "name": "python",
   "nbconvert_exporter": "python",
   "pygments_lexer": "ipython3",
   "version": "3.7.16"
  }
 },
 "nbformat": 4,
 "nbformat_minor": 5
}
