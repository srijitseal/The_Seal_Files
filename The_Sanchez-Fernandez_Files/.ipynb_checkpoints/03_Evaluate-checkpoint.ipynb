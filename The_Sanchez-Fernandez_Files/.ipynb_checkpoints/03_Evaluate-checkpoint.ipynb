{
 "cells": [
  {
   "cell_type": "code",
   "execution_count": 1,
   "id": "90a32575-cb1b-4e91-a6c5-794365d2b450",
   "metadata": {},
   "outputs": [],
   "source": [
    "import pandas as pd"
   ]
  },
  {
   "cell_type": "code",
   "execution_count": 2,
   "id": "14c2f08c-4cad-444d-ab93-311eb6ff0b9e",
   "metadata": {},
   "outputs": [
    {
     "data": {
      "text/html": [
       "<div>\n",
       "<style scoped>\n",
       "    .dataframe tbody tr th:only-of-type {\n",
       "        vertical-align: middle;\n",
       "    }\n",
       "\n",
       "    .dataframe tbody tr th {\n",
       "        vertical-align: top;\n",
       "    }\n",
       "\n",
       "    .dataframe thead th {\n",
       "        text-align: right;\n",
       "    }\n",
       "</style>\n",
       "<table border=\"1\" class=\"dataframe\">\n",
       "  <thead>\n",
       "    <tr style=\"text-align: right;\">\n",
       "      <th></th>\n",
       "      <th>assay</th>\n",
       "      <th>best_C</th>\n",
       "      <th>val_auc</th>\n",
       "      <th>test_auc</th>\n",
       "    </tr>\n",
       "  </thead>\n",
       "  <tbody>\n",
       "    <tr>\n",
       "      <th>0</th>\n",
       "      <td>1</td>\n",
       "      <td>0.000001</td>\n",
       "      <td>0.448052</td>\n",
       "      <td>0.687500</td>\n",
       "    </tr>\n",
       "    <tr>\n",
       "      <th>1</th>\n",
       "      <td>2</td>\n",
       "      <td>0.000001</td>\n",
       "      <td>0.608995</td>\n",
       "      <td>0.701055</td>\n",
       "    </tr>\n",
       "    <tr>\n",
       "      <th>2</th>\n",
       "      <td>3</td>\n",
       "      <td>0.000001</td>\n",
       "      <td>0.437500</td>\n",
       "      <td>0.483279</td>\n",
       "    </tr>\n",
       "    <tr>\n",
       "      <th>3</th>\n",
       "      <td>4</td>\n",
       "      <td>0.000001</td>\n",
       "      <td>0.538095</td>\n",
       "      <td>0.647436</td>\n",
       "    </tr>\n",
       "    <tr>\n",
       "      <th>4</th>\n",
       "      <td>5</td>\n",
       "      <td>0.000001</td>\n",
       "      <td>0.407407</td>\n",
       "      <td>0.688889</td>\n",
       "    </tr>\n",
       "    <tr>\n",
       "      <th>...</th>\n",
       "      <td>...</td>\n",
       "      <td>...</td>\n",
       "      <td>...</td>\n",
       "      <td>...</td>\n",
       "    </tr>\n",
       "    <tr>\n",
       "      <th>200</th>\n",
       "      <td>205</td>\n",
       "      <td>0.000001</td>\n",
       "      <td>0.595678</td>\n",
       "      <td>0.652563</td>\n",
       "    </tr>\n",
       "    <tr>\n",
       "      <th>201</th>\n",
       "      <td>206</td>\n",
       "      <td>0.000001</td>\n",
       "      <td>0.928571</td>\n",
       "      <td>0.767677</td>\n",
       "    </tr>\n",
       "    <tr>\n",
       "      <th>202</th>\n",
       "      <td>207</td>\n",
       "      <td>0.000001</td>\n",
       "      <td>1.000000</td>\n",
       "      <td>0.333333</td>\n",
       "    </tr>\n",
       "    <tr>\n",
       "      <th>203</th>\n",
       "      <td>208</td>\n",
       "      <td>0.000001</td>\n",
       "      <td>0.666667</td>\n",
       "      <td>0.687286</td>\n",
       "    </tr>\n",
       "    <tr>\n",
       "      <th>204</th>\n",
       "      <td>209</td>\n",
       "      <td>0.000001</td>\n",
       "      <td>0.783899</td>\n",
       "      <td>0.760544</td>\n",
       "    </tr>\n",
       "  </tbody>\n",
       "</table>\n",
       "<p>205 rows × 4 columns</p>\n",
       "</div>"
      ],
      "text/plain": [
       "     assay    best_C   val_auc  test_auc\n",
       "0        1  0.000001  0.448052  0.687500\n",
       "1        2  0.000001  0.608995  0.701055\n",
       "2        3  0.000001  0.437500  0.483279\n",
       "3        4  0.000001  0.538095  0.647436\n",
       "4        5  0.000001  0.407407  0.688889\n",
       "..     ...       ...       ...       ...\n",
       "200    205  0.000001  0.595678  0.652563\n",
       "201    206  0.000001  0.928571  0.767677\n",
       "202    207  0.000001  1.000000  0.333333\n",
       "203    208  0.000001  0.666667  0.687286\n",
       "204    209  0.000001  0.783899  0.760544\n",
       "\n",
       "[205 rows x 4 columns]"
      ]
     },
     "execution_count": 2,
     "metadata": {},
     "output_type": "execute_result"
    }
   ],
   "source": [
    "df =pd.read_csv(\"logistic_regression_results_CellCount.csv\")\n",
    "df = df.groupby(\"assay\").mean().reset_index()\n",
    "df"
   ]
  },
  {
   "cell_type": "code",
   "execution_count": 3,
   "id": "56bceac7-dea5-41f9-9cb3-b48242e733c6",
   "metadata": {},
   "outputs": [
    {
     "data": {
      "text/plain": [
       "0.7010185917785886"
      ]
     },
     "execution_count": 3,
     "metadata": {},
     "output_type": "execute_result"
    }
   ],
   "source": [
    "df.test_auc.mean()"
   ]
  },
  {
   "cell_type": "code",
   "execution_count": 4,
   "id": "57ba49eb-51e1-45d1-a8c2-955f6ac9bca3",
   "metadata": {},
   "outputs": [
    {
     "data": {
      "text/plain": [
       "0.22132547970283226"
      ]
     },
     "execution_count": 4,
     "metadata": {},
     "output_type": "execute_result"
    }
   ],
   "source": [
    "df.test_auc.std()"
   ]
  },
  {
   "cell_type": "code",
   "execution_count": 5,
   "id": "5a181da2-2375-4ea0-82f8-34bd27ee5c9f",
   "metadata": {},
   "outputs": [
    {
     "data": {
      "text/plain": [
       "64"
      ]
     },
     "execution_count": 5,
     "metadata": {},
     "output_type": "execute_result"
    }
   ],
   "source": [
    "len(df[df[\"test_auc\"]>=0.9])"
   ]
  },
  {
   "cell_type": "code",
   "execution_count": 6,
   "id": "0fbbc2ff-dacb-477b-8316-1a8ea6d90109",
   "metadata": {},
   "outputs": [
    {
     "data": {
      "text/plain": [
       "74"
      ]
     },
     "execution_count": 6,
     "metadata": {},
     "output_type": "execute_result"
    }
   ],
   "source": [
    "len(df[df[\"test_auc\"]>=0.8])"
   ]
  },
  {
   "cell_type": "code",
   "execution_count": 7,
   "id": "b592b941-8fc8-42ed-a0d5-8fce46154c6b",
   "metadata": {},
   "outputs": [
    {
     "data": {
      "text/plain": [
       "103"
      ]
     },
     "execution_count": 7,
     "metadata": {},
     "output_type": "execute_result"
    }
   ],
   "source": [
    "len(df[df[\"test_auc\"]>=0.7])"
   ]
  },
  {
   "cell_type": "code",
   "execution_count": 8,
   "id": "5cc76488-c8ed-47ff-a3da-3538604f9f4a",
   "metadata": {},
   "outputs": [
    {
     "data": {
      "text/plain": [
       "169"
      ]
     },
     "execution_count": 8,
     "metadata": {},
     "output_type": "execute_result"
    }
   ],
   "source": [
    "len(df[df[\"test_auc\"]>=0.5])"
   ]
  },
  {
   "cell_type": "code",
   "execution_count": 31,
   "id": "a003461f-b137-4735-96c6-3091c0abb4bc",
   "metadata": {},
   "outputs": [
    {
     "data": {
      "text/html": [
       "<div>\n",
       "<style scoped>\n",
       "    .dataframe tbody tr th:only-of-type {\n",
       "        vertical-align: middle;\n",
       "    }\n",
       "\n",
       "    .dataframe tbody tr th {\n",
       "        vertical-align: top;\n",
       "    }\n",
       "\n",
       "    .dataframe thead th {\n",
       "        text-align: right;\n",
       "    }\n",
       "</style>\n",
       "<table border=\"1\" class=\"dataframe\">\n",
       "  <thead>\n",
       "    <tr style=\"text-align: right;\">\n",
       "      <th></th>\n",
       "      <th>Type</th>\n",
       "      <th>Method</th>\n",
       "      <th>AUC (mean)</th>\n",
       "      <th>AUC(stdev)</th>\n",
       "      <th>F1(mean)</th>\n",
       "      <th>F1(stdev)</th>\n",
       "      <th>AUC &gt; 0.9</th>\n",
       "      <th>AUC &gt; 0.8</th>\n",
       "      <th>AUC &gt; 0.7</th>\n",
       "    </tr>\n",
       "  </thead>\n",
       "  <tbody>\n",
       "    <tr>\n",
       "      <th>0</th>\n",
       "      <td>Linear probing</td>\n",
       "      <td>CLOOME</td>\n",
       "      <td>0.714</td>\n",
       "      <td>0.20</td>\n",
       "      <td>0.395</td>\n",
       "      <td>0.32</td>\n",
       "      <td>57</td>\n",
       "      <td>84</td>\n",
       "      <td>109</td>\n",
       "    </tr>\n",
       "    <tr>\n",
       "      <th>1</th>\n",
       "      <td>Linear probing</td>\n",
       "      <td>CellProfiler</td>\n",
       "      <td>0.655</td>\n",
       "      <td>0.20</td>\n",
       "      <td>0.273</td>\n",
       "      <td>0.32</td>\n",
       "      <td>35</td>\n",
       "      <td>63</td>\n",
       "      <td>84</td>\n",
       "    </tr>\n",
       "    <tr>\n",
       "      <th>2</th>\n",
       "      <td>Supervised</td>\n",
       "      <td>ResNet</td>\n",
       "      <td>0.731</td>\n",
       "      <td>0.19</td>\n",
       "      <td>0.508</td>\n",
       "      <td>0.30</td>\n",
       "      <td>68</td>\n",
       "      <td>94</td>\n",
       "      <td>119</td>\n",
       "    </tr>\n",
       "    <tr>\n",
       "      <th>3</th>\n",
       "      <td>Supervised</td>\n",
       "      <td>DenseNet</td>\n",
       "      <td>0.730</td>\n",
       "      <td>0.19</td>\n",
       "      <td>0.530</td>\n",
       "      <td>0.30</td>\n",
       "      <td>61</td>\n",
       "      <td>98</td>\n",
       "      <td>121</td>\n",
       "    </tr>\n",
       "    <tr>\n",
       "      <th>4</th>\n",
       "      <td>Supervised</td>\n",
       "      <td>GapNet</td>\n",
       "      <td>0.725</td>\n",
       "      <td>0.19</td>\n",
       "      <td>0.510</td>\n",
       "      <td>0.29</td>\n",
       "      <td>63</td>\n",
       "      <td>94</td>\n",
       "      <td>117</td>\n",
       "    </tr>\n",
       "    <tr>\n",
       "      <th>5</th>\n",
       "      <td>Supervised</td>\n",
       "      <td>MIL-Net</td>\n",
       "      <td>0.711</td>\n",
       "      <td>0.18</td>\n",
       "      <td>0.445</td>\n",
       "      <td>0.32</td>\n",
       "      <td>61</td>\n",
       "      <td>81</td>\n",
       "      <td>105</td>\n",
       "    </tr>\n",
       "    <tr>\n",
       "      <th>6</th>\n",
       "      <td>Supervised</td>\n",
       "      <td>M-CNN</td>\n",
       "      <td>0.705</td>\n",
       "      <td>0.19</td>\n",
       "      <td>0.482</td>\n",
       "      <td>0.31</td>\n",
       "      <td>57</td>\n",
       "      <td>78</td>\n",
       "      <td>105</td>\n",
       "    </tr>\n",
       "    <tr>\n",
       "      <th>7</th>\n",
       "      <td>Supervised</td>\n",
       "      <td>SC-CNN</td>\n",
       "      <td>0.705</td>\n",
       "      <td>0.20</td>\n",
       "      <td>0.362</td>\n",
       "      <td>0.29</td>\n",
       "      <td>61</td>\n",
       "      <td>83</td>\n",
       "      <td>109</td>\n",
       "    </tr>\n",
       "    <tr>\n",
       "      <th>8</th>\n",
       "      <td>Supervised</td>\n",
       "      <td>FNN</td>\n",
       "      <td>0.675</td>\n",
       "      <td>0.20</td>\n",
       "      <td>0.361</td>\n",
       "      <td>0.31</td>\n",
       "      <td>55</td>\n",
       "      <td>71</td>\n",
       "      <td>90</td>\n",
       "    </tr>\n",
       "  </tbody>\n",
       "</table>\n",
       "</div>"
      ],
      "text/plain": [
       "             Type        Method AUC (mean) AUC(stdev) F1(mean) F1(stdev)  \\\n",
       "0  Linear probing        CLOOME     0.714        0.20   0.395       0.32   \n",
       "1  Linear probing  CellProfiler     0.655        0.20   0.273       0.32   \n",
       "2      Supervised        ResNet     0.731        0.19   0.508       0.30   \n",
       "3      Supervised      DenseNet     0.730        0.19   0.530       0.30   \n",
       "4      Supervised        GapNet     0.725        0.19   0.510       0.29   \n",
       "5      Supervised       MIL-Net     0.711        0.18   0.445       0.32   \n",
       "6      Supervised         M-CNN     0.705        0.19   0.482       0.31   \n",
       "7      Supervised        SC-CNN     0.705        0.20   0.362       0.29   \n",
       "8      Supervised           FNN     0.675        0.20   0.361       0.31   \n",
       "\n",
       "   AUC > 0.9  AUC > 0.8  AUC > 0.7  \n",
       "0         57         84        109  \n",
       "1         35         63         84  \n",
       "2         68         94        119  \n",
       "3         61         98        121  \n",
       "4         63         94        117  \n",
       "5         61         81        105  \n",
       "6         57         78        105  \n",
       "7         61         83        109  \n",
       "8         55         71         90  "
      ]
     },
     "execution_count": 31,
     "metadata": {},
     "output_type": "execute_result"
    }
   ],
   "source": [
    "cloome =pd.read_csv(\"cloome_results.csv\")\n",
    "cloome"
   ]
  },
  {
   "cell_type": "code",
   "execution_count": null,
   "id": "bf90bf3a-4c4a-4343-ad1e-ec469216824b",
   "metadata": {},
   "outputs": [],
   "source": []
  },
  {
   "cell_type": "code",
   "execution_count": 32,
   "id": "495f0407-6462-43fb-8816-704f5b2585bf",
   "metadata": {},
   "outputs": [
    {
     "data": {
      "text/html": [
       "<div>\n",
       "<style scoped>\n",
       "    .dataframe tbody tr th:only-of-type {\n",
       "        vertical-align: middle;\n",
       "    }\n",
       "\n",
       "    .dataframe tbody tr th {\n",
       "        vertical-align: top;\n",
       "    }\n",
       "\n",
       "    .dataframe thead th {\n",
       "        text-align: right;\n",
       "    }\n",
       "</style>\n",
       "<table border=\"1\" class=\"dataframe\">\n",
       "  <thead>\n",
       "    <tr style=\"text-align: right;\">\n",
       "      <th></th>\n",
       "      <th>assay</th>\n",
       "      <th>best_C</th>\n",
       "      <th>val_auc</th>\n",
       "      <th>test_auc</th>\n",
       "    </tr>\n",
       "  </thead>\n",
       "  <tbody>\n",
       "    <tr>\n",
       "      <th>0</th>\n",
       "      <td>1</td>\n",
       "      <td>5.000000</td>\n",
       "      <td>0.306277</td>\n",
       "      <td>0.512755</td>\n",
       "    </tr>\n",
       "    <tr>\n",
       "      <th>1</th>\n",
       "      <td>2</td>\n",
       "      <td>0.066667</td>\n",
       "      <td>0.632804</td>\n",
       "      <td>0.648742</td>\n",
       "    </tr>\n",
       "    <tr>\n",
       "      <th>2</th>\n",
       "      <td>3</td>\n",
       "      <td>5.000000</td>\n",
       "      <td>0.671875</td>\n",
       "      <td>0.614035</td>\n",
       "    </tr>\n",
       "    <tr>\n",
       "      <th>3</th>\n",
       "      <td>4</td>\n",
       "      <td>3.666667</td>\n",
       "      <td>0.507302</td>\n",
       "      <td>0.487821</td>\n",
       "    </tr>\n",
       "    <tr>\n",
       "      <th>4</th>\n",
       "      <td>5</td>\n",
       "      <td>0.336667</td>\n",
       "      <td>0.796296</td>\n",
       "      <td>0.566667</td>\n",
       "    </tr>\n",
       "    <tr>\n",
       "      <th>...</th>\n",
       "      <td>...</td>\n",
       "      <td>...</td>\n",
       "      <td>...</td>\n",
       "      <td>...</td>\n",
       "    </tr>\n",
       "    <tr>\n",
       "      <th>203</th>\n",
       "      <td>205</td>\n",
       "      <td>7.000000</td>\n",
       "      <td>0.763930</td>\n",
       "      <td>0.831760</td>\n",
       "    </tr>\n",
       "    <tr>\n",
       "      <th>204</th>\n",
       "      <td>206</td>\n",
       "      <td>0.000001</td>\n",
       "      <td>1.000000</td>\n",
       "      <td>0.838384</td>\n",
       "    </tr>\n",
       "    <tr>\n",
       "      <th>205</th>\n",
       "      <td>207</td>\n",
       "      <td>0.000001</td>\n",
       "      <td>1.000000</td>\n",
       "      <td>0.416667</td>\n",
       "    </tr>\n",
       "    <tr>\n",
       "      <th>206</th>\n",
       "      <td>208</td>\n",
       "      <td>0.003334</td>\n",
       "      <td>0.761905</td>\n",
       "      <td>0.574230</td>\n",
       "    </tr>\n",
       "    <tr>\n",
       "      <th>207</th>\n",
       "      <td>209</td>\n",
       "      <td>366.670000</td>\n",
       "      <td>0.849202</td>\n",
       "      <td>0.853949</td>\n",
       "    </tr>\n",
       "  </tbody>\n",
       "</table>\n",
       "<p>208 rows × 4 columns</p>\n",
       "</div>"
      ],
      "text/plain": [
       "     assay      best_C   val_auc  test_auc\n",
       "0        1    5.000000  0.306277  0.512755\n",
       "1        2    0.066667  0.632804  0.648742\n",
       "2        3    5.000000  0.671875  0.614035\n",
       "3        4    3.666667  0.507302  0.487821\n",
       "4        5    0.336667  0.796296  0.566667\n",
       "..     ...         ...       ...       ...\n",
       "203    205    7.000000  0.763930  0.831760\n",
       "204    206    0.000001  1.000000  0.838384\n",
       "205    207    0.000001  1.000000  0.416667\n",
       "206    208    0.003334  0.761905  0.574230\n",
       "207    209  366.670000  0.849202  0.853949\n",
       "\n",
       "[208 rows x 4 columns]"
      ]
     },
     "execution_count": 32,
     "metadata": {},
     "output_type": "execute_result"
    }
   ],
   "source": [
    "df =pd.read_csv(\"logistic_regression_results_CellCount_MW_logP.csv\")\n",
    "df = df.groupby(\"assay\").mean().reset_index()\n",
    "df"
   ]
  },
  {
   "cell_type": "code",
   "execution_count": 33,
   "id": "3547834f-f48e-4367-83fc-1c1849a26333",
   "metadata": {},
   "outputs": [
    {
     "data": {
      "text/plain": [
       "0.7435650352296341"
      ]
     },
     "execution_count": 33,
     "metadata": {},
     "output_type": "execute_result"
    }
   ],
   "source": [
    "df.test_auc.mean()"
   ]
  },
  {
   "cell_type": "code",
   "execution_count": 34,
   "id": "89d49827-c499-421d-90c9-3b3cee093185",
   "metadata": {},
   "outputs": [
    {
     "data": {
      "text/plain": [
       "0.20512235935716278"
      ]
     },
     "execution_count": 34,
     "metadata": {},
     "output_type": "execute_result"
    }
   ],
   "source": [
    "df.test_auc.std()"
   ]
  },
  {
   "cell_type": "code",
   "execution_count": 35,
   "id": "5faacaae-f1bc-4d03-a656-9156af37eeb5",
   "metadata": {},
   "outputs": [
    {
     "data": {
      "text/plain": [
       "64"
      ]
     },
     "execution_count": 35,
     "metadata": {},
     "output_type": "execute_result"
    }
   ],
   "source": [
    "len(df[df[\"test_auc\"]>=0.9])"
   ]
  },
  {
   "cell_type": "code",
   "execution_count": 36,
   "id": "cf90b5c8-001f-48c3-bd97-c8f845724a2c",
   "metadata": {},
   "outputs": [
    {
     "data": {
      "text/plain": [
       "103"
      ]
     },
     "execution_count": 36,
     "metadata": {},
     "output_type": "execute_result"
    }
   ],
   "source": [
    "len(df[df[\"test_auc\"]>=0.8])"
   ]
  },
  {
   "cell_type": "code",
   "execution_count": 37,
   "id": "4c13f169-8103-47e4-8ba5-36f18324c36b",
   "metadata": {},
   "outputs": [
    {
     "data": {
      "text/plain": [
       "128"
      ]
     },
     "execution_count": 37,
     "metadata": {},
     "output_type": "execute_result"
    }
   ],
   "source": [
    "len(df[df[\"test_auc\"]>=0.7])"
   ]
  },
  {
   "cell_type": "code",
   "execution_count": 38,
   "id": "33aa44f4-d406-413f-ad26-f1666831ff63",
   "metadata": {},
   "outputs": [
    {
     "data": {
      "text/plain": [
       "186"
      ]
     },
     "execution_count": 38,
     "metadata": {},
     "output_type": "execute_result"
    }
   ],
   "source": [
    "len(df[df[\"test_auc\"]>=0.5])"
   ]
  },
  {
   "cell_type": "code",
   "execution_count": null,
   "id": "3f3fd999-b4dc-4ba5-a64a-4dede9ce68de",
   "metadata": {},
   "outputs": [],
   "source": []
  }
 ],
 "metadata": {
  "kernelspec": {
   "display_name": "Python 3",
   "language": "python",
   "name": "python3"
  },
  "language_info": {
   "codemirror_mode": {
    "name": "ipython",
    "version": 3
   },
   "file_extension": ".py",
   "mimetype": "text/x-python",
   "name": "python",
   "nbconvert_exporter": "python",
   "pygments_lexer": "ipython3",
   "version": "3.7.16"
  }
 },
 "nbformat": 4,
 "nbformat_minor": 5
}
