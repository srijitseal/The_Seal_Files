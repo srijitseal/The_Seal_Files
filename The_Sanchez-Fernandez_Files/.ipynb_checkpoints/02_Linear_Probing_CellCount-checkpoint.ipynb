{
 "cells": [
  {
   "cell_type": "code",
   "execution_count": 4,
   "id": "568fda6f-5836-4aea-b6e6-3a528be3f9d8",
   "metadata": {},
   "outputs": [
    {
     "name": "stdout",
     "output_type": "stream",
     "text": [
      "Best C: 10\n",
      "Validation AUC: 0.796875\n",
      "Test AUC: 0.885\n"
     ]
    }
   ],
   "source": [
    "import numpy as np\n",
    "from sklearn.linear_model import LogisticRegression\n",
    "from sklearn.metrics import roc_auc_score\n",
    "from sklearn.model_selection import train_test_split\n",
    "from sklearn.datasets import make_classification\n",
    "\n",
    "# Generate synthetic data\n",
    "X, y = make_classification(n_samples=400, n_features=20, n_informative=10, n_redundant=5, random_state=42)\n",
    "\n",
    "# Split the data into training (70%), validation (10%), and test (20%) sets\n",
    "X_train_val, X_test, y_train_val, y_test = train_test_split(X, y, test_size=0.2, random_state=42, stratify=y)\n",
    "X_train, X_val, y_train, y_val = train_test_split(X_train_val, y_train_val, test_size=0.2, random_state=42, stratify=y_train_val)\n",
    "\n",
    "# Define the range of L2 regularization strengths\n",
    "C_param_range = [10**-6, 10**-5, 10**-4, 10**-3, 10**-2, 10**-1, 1, 10, 100, 1000, 10000, 100000, 1000000]\n",
    "\n",
    "# Function to get AUC-ROC score\n",
    "def get_auc(model, X, y):\n",
    "    y_prob = model.predict_proba(X)[:, 1]\n",
    "    return roc_auc_score(y, y_prob)\n",
    "\n",
    "# Initialize variables to store the best model and results\n",
    "best_auc = 0\n",
    "best_C = None\n",
    "best_model = None\n",
    "\n",
    "# Train logistic regression models with different C values\n",
    "for C in C_param_range:\n",
    "    model = LogisticRegression(C=C, max_iter=3000, random_state=42)\n",
    "    model.fit(X_train, y_train)\n",
    "    \n",
    "    # Evaluate on validation set\n",
    "    val_auc = get_auc(model, X_val, y_val)\n",
    "    \n",
    "    if val_auc > best_auc:\n",
    "        best_auc = val_auc\n",
    "        best_C = C\n",
    "        best_model = model\n",
    "\n",
    "# Retrain the best model on the combined training and validation set\n",
    "best_model.fit(X_train_val, y_train_val)\n",
    "\n",
    "# Evaluate the best model on the test set\n",
    "test_auc = get_auc(best_model, X_test, y_test)\n",
    "\n",
    "# Print the results\n",
    "print(f\"Best C: {best_C}\")\n",
    "print(f\"Validation AUC: {best_auc}\")\n",
    "print(f\"Test AUC: {test_auc}\")\n"
   ]
  },
  {
   "cell_type": "code",
   "execution_count": null,
   "id": "d996bec1-8eee-495c-bf49-a2b67ed3de3c",
   "metadata": {},
   "outputs": [],
   "source": []
  }
 ],
 "metadata": {
  "kernelspec": {
   "display_name": "Python 3",
   "language": "python",
   "name": "python3"
  },
  "language_info": {
   "codemirror_mode": {
    "name": "ipython",
    "version": 3
   },
   "file_extension": ".py",
   "mimetype": "text/x-python",
   "name": "python",
   "nbconvert_exporter": "python",
   "pygments_lexer": "ipython3",
   "version": "3.7.16"
  }
 },
 "nbformat": 4,
 "nbformat_minor": 5
}
